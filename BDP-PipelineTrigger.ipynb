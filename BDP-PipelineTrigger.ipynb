{
 "cells": [
  {
   "cell_type": "markdown",
   "id": "64ed95ac",
   "metadata": {},
   "source": [
    "### P1- UPLOAD FILES TO GCS"
   ]
  },
  {
   "cell_type": "code",
   "execution_count": 1,
   "id": "d00174ee",
   "metadata": {},
   "outputs": [
    {
     "name": "stdout",
     "output_type": "stream",
     "text": [
      "C:/Users/Rishika/Downloads/msca-bdp-student-ap-2d223f2fc41b.json\n"
     ]
    }
   ],
   "source": [
    "import sys,os,os.path\n",
    "os.environ['GOOGLE_APPLICATION_CREDENTIALS'] = \"C:/Users/Rishika/Downloads/msca-bdp-student-ap-2d223f2fc41b.json\"\n",
    "print(os.environ['GOOGLE_APPLICATION_CREDENTIALS'])"
   ]
  },
  {
   "cell_type": "code",
   "execution_count": 2,
   "id": "063a4f5f",
   "metadata": {},
   "outputs": [
    {
     "name": "stdout",
     "output_type": "stream",
     "text": [
      "<Bucket: ass4>\n",
      "<Bucket: dataproc-staging-us-central1-635155370842-35ajydyf>\n",
      "<Bucket: dataproc-temp-us-central1-635155370842-uzamlpgc>\n",
      "<Bucket: final_proj_data>\n",
      "<Bucket: final_project_chicago_taxi>\n",
      "<Bucket: final_project_nyc_taxi>\n",
      "<Bucket: msca-31013-bdp-ap-datasets>\n",
      "<Bucket: msca-bdp-final-project-yellow-taxi>\n",
      "<Bucket: msca-bdp-project-goodreads>\n",
      "<Bucket: msca-bdp-student-ap-us-notebooks>\n",
      "<Bucket: msca-bdp-student-gcs>\n"
     ]
    }
   ],
   "source": [
    "# Imports the Google Cloud client library\n",
    "from google.cloud import storage\n",
    "\n",
    "# Instantiates a client\n",
    "client = storage.Client()\n",
    "\n",
    "# List Buckets\n",
    "for bucket in client.list_buckets():\n",
    "    print(bucket)"
   ]
  },
  {
   "cell_type": "code",
   "execution_count": 3,
   "id": "036db97f",
   "metadata": {},
   "outputs": [
    {
     "name": "stdout",
     "output_type": "stream",
     "text": [
      "File C:/Users/Rishika/Downloads/2016_brooklyn.csv uploaded to gs://msca-bdp-project-goodreads/2020_brooklyn.csv\n"
     ]
    }
   ],
   "source": [
    "from google.cloud import storage\n",
    "\n",
    "def upload_to_gcs(bucket_name, source_file_path, destination_blob_name):\n",
    "    storage_client = storage.Client()\n",
    "\n",
    "    bucket = storage_client.bucket(bucket_name)\n",
    "\n",
    "    blob = bucket.blob(destination_blob_name)\n",
    "    blob.upload_from_filename(source_file_path)\n",
    "\n",
    "    print(f\"File {source_file_path} uploaded to gs://{bucket_name}/{destination_blob_name}\")\n",
    "\n",
    "if __name__ == \"__main__\":\n",
    "    BUCKET_NAME = \"msca-bdp-project-goodreads\"\n",
    "    SOURCE_FILE_PATH = \"C:/Users/Rishika/Downloads/2016_brooklyn.csv\"\n",
    "    #example file \n",
    "    DESTINATION_BLOB_NAME = \"2020_brooklyn.csv\"\n",
    "\n",
    "    upload_to_gcs(BUCKET_NAME, SOURCE_FILE_PATH, DESTINATION_BLOB_NAME)"
   ]
  },
  {
   "cell_type": "code",
   "execution_count": null,
   "id": "1e3d3740",
   "metadata": {},
   "outputs": [],
   "source": []
  },
  {
   "cell_type": "markdown",
   "id": "657c8947",
   "metadata": {},
   "source": [
    "### P2 - TRIGGER/ INSTANTIATE DATAPROC WORKFLOW TEMPLATE"
   ]
  },
  {
   "cell_type": "code",
   "execution_count": null,
   "id": "46b647e3",
   "metadata": {},
   "outputs": [],
   "source": [
    "from google.cloud.dataproc_v1.services.workflow_template_service import *"
   ]
  },
  {
   "cell_type": "code",
   "execution_count": 6,
   "id": "1d55bde6",
   "metadata": {},
   "outputs": [],
   "source": [
    "from google.cloud import dataproc_v1\n",
    "client = dataproc_v1.GetWorkflowTemplateRequest(name=\"projects/msca-bdp-student-ap/regions/us-central1/workflowTemplates/goodreads_project_workflow\")"
   ]
  },
  {
   "cell_type": "code",
   "execution_count": null,
   "id": "a5982308",
   "metadata": {
    "scrolled": true
   },
   "outputs": [],
   "source": [
    "from datetime import datetime\n",
    "workflow_template_name = \"projects/msca-bdp-student-ap/regions/us-central1/workflowTemplates/goodreads_project_workflow\"\n",
    "instantiate_request = {\n",
    "        \"name\": workflow_template_name,\n",
    "        \"version\": 1,  # Using the latest version\n",
    "        \"instance_id\": \"goodreads-test\",\n",
    "        \"request_id\": f\"request-{datetime.now().strftime('%Y%m%d%H%M%S')}\",\n",
    "    }\n",
    "# operation = client.instantiate_workflow_template(name=workflow_template_name, instantiate_workflow_template_request=instantiate_request)\n",
    "operation = client.instantiate_workflow_template(\n",
    "            name=workflow_template_name,\n",
    "            version=instantiate_request[\"version\"],\n",
    "            instance_id=instantiate_request[\"instance_id\"],\n",
    "            request_id=instantiate_request[\"request_id\"]\n",
    "        )"
   ]
  }
 ],
 "metadata": {
  "kernelspec": {
   "display_name": "Python 3",
   "language": "python",
   "name": "python3"
  },
  "language_info": {
   "codemirror_mode": {
    "name": "ipython",
    "version": 3
   },
   "file_extension": ".py",
   "mimetype": "text/x-python",
   "name": "python",
   "nbconvert_exporter": "python",
   "pygments_lexer": "ipython3",
   "version": "3.9.12"
  }
 },
 "nbformat": 4,
 "nbformat_minor": 5
}
