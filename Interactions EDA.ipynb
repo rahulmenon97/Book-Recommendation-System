{
 "cells": [
  {
   "cell_type": "code",
   "execution_count": null,
   "id": "7d1b2379",
   "metadata": {},
   "outputs": [],
   "source": [
    "#----------------------------THIS CODE IS FOR GRAPHFRAMES ------------------------\n",
    "\n",
    "from graphframes import *\n",
    "\n",
    "interactions_df = spark.read.option(\"header\", \"true\").csv('gs://msca-bdp-project-goodreads/goodreads_interactions.csv')\n",
    "limit_df = interactions_df.filter(F.col('is_read')==1).select('user_id','book_id','rating')\n",
    "\n",
    "# Calculate the minimum and maximum ratings for each user\n",
    "window_spec = Window.partitionBy(\"user_id\")\n",
    "min_rating = F.min(\"rating\").over(window_spec)\n",
    "max_rating = F.max(\"rating\").over(window_spec)\n",
    "\n",
    "# Normalize the ratings to the range [0, 1]\n",
    "normalized_ratings = (F.col(\"rating\") - min_rating) / (max_rating - min_rating)\n",
    "\n",
    "# Add the normalized_ratings column to your DataFrame\n",
    "limit_df = limit_df.withColumn(\"normalized_rating\", normalized_ratings)\n",
    "user_vertices = limit_df.select(col(\"user_id\").cast(\"int\").alias(\"id\")).distinct().withColumn(\"type\", F.lit(\"user\"))\n",
    "book_vertices = limit_df.select(col(\"book_id\").cast(\"int\").alias(\"id\")).distinct().withColumn(\"type\", F.lit(\"book\"))\n",
    "\n",
    "all_vertices = user_vertices.union(book_vertices)\n",
    "\n",
    "edges = limit_df.select(col(\"user_id\").cast(\"int\").alias(\"src\"), col(\"book_id\").cast(\"int\").alias(\"dst\"), \"normalized_rating\")\n",
    "\n",
    "g = GraphFrame(all_vertices, edges)"
   ]
  },
  {
   "cell_type": "code",
   "execution_count": null,
   "id": "1d353669",
   "metadata": {},
   "outputs": [],
   "source": []
  },
  {
   "cell_type": "code",
   "execution_count": null,
   "id": "1e90eec5",
   "metadata": {},
   "outputs": [],
   "source": []
  },
  {
   "cell_type": "code",
   "execution_count": null,
   "id": "a85292cb",
   "metadata": {},
   "outputs": [],
   "source": []
  },
  {
   "cell_type": "code",
   "execution_count": 1,
   "id": "ae60bb2b-6805-407d-a8e3-1e5a32b69cb6",
   "metadata": {},
   "outputs": [],
   "source": [
    "from pyspark.sql import SparkSession"
   ]
  },
  {
   "cell_type": "code",
   "execution_count": 2,
   "id": "d24f633d-c4d8-4f08-97dd-7dbcd3b38bb8",
   "metadata": {},
   "outputs": [
    {
     "name": "stdout",
     "output_type": "stream",
     "text": [
      ":: loading settings :: url = jar:file:/usr/lib/spark/jars/ivy-2.5.1.jar!/org/apache/ivy/core/settings/ivysettings.xml\n"
     ]
    },
    {
     "name": "stderr",
     "output_type": "stream",
     "text": [
      "Ivy Default Cache set to: /root/.ivy2/cache\n",
      "The jars for the packages stored in: /root/.ivy2/jars\n",
      "com.johnsnowlabs.nlp#spark-nlp_2.12 added as a dependency\n",
      "graphframes#graphframes added as a dependency\n",
      ":: resolving dependencies :: org.apache.spark#spark-submit-parent-b29f4559-d67b-4cd8-b898-dd4f70a590cb;1.0\n",
      "\tconfs: [default]\n",
      "\tfound com.johnsnowlabs.nlp#spark-nlp_2.12;4.4.0 in central\n",
      "\tfound com.typesafe#config;1.4.2 in central\n",
      "\tfound org.rocksdb#rocksdbjni;6.29.5 in central\n",
      "\tfound com.amazonaws#aws-java-sdk-bundle;1.11.828 in central\n",
      "\tfound com.github.universal-automata#liblevenshtein;3.0.0 in central\n",
      "\tfound com.google.protobuf#protobuf-java-util;3.0.0-beta-3 in central\n",
      "\tfound com.google.protobuf#protobuf-java;3.0.0-beta-3 in central\n",
      "\tfound com.google.code.gson#gson;2.3 in central\n",
      "\tfound it.unimi.dsi#fastutil;7.0.12 in central\n",
      "\tfound org.projectlombok#lombok;1.16.8 in central\n",
      "\tfound com.google.cloud#google-cloud-storage;2.16.0 in central\n",
      "\tfound com.google.guava#guava;31.1-jre in central\n",
      "\tfound com.google.guava#failureaccess;1.0.1 in central\n",
      "\tfound com.google.guava#listenablefuture;9999.0-empty-to-avoid-conflict-with-guava in central\n",
      "\tfound com.google.errorprone#error_prone_annotations;2.16 in central\n",
      "\tfound com.google.j2objc#j2objc-annotations;1.3 in central\n",
      "\tfound com.google.http-client#google-http-client;1.42.3 in central\n",
      "\tfound io.opencensus#opencensus-contrib-http-util;0.31.1 in central\n",
      "\tfound com.google.http-client#google-http-client-jackson2;1.42.3 in central\n",
      "\tfound com.google.http-client#google-http-client-gson;1.42.3 in central\n",
      "\tfound com.google.api-client#google-api-client;2.1.1 in central\n",
      "\tfound commons-codec#commons-codec;1.15 in central\n",
      "\tfound com.google.oauth-client#google-oauth-client;1.34.1 in central\n",
      "\tfound com.google.http-client#google-http-client-apache-v2;1.42.3 in central\n",
      "\tfound com.google.apis#google-api-services-storage;v1-rev20220705-2.0.0 in central\n",
      "\tfound com.google.code.gson#gson;2.10 in central\n",
      "\tfound com.google.cloud#google-cloud-core;2.9.0 in central\n",
      "\tfound com.google.auto.value#auto-value-annotations;1.10.1 in central\n",
      "\tfound com.google.cloud#google-cloud-core-http;2.9.0 in central\n",
      "\tfound com.google.http-client#google-http-client-appengine;1.42.3 in central\n",
      "\tfound com.google.api#gax-httpjson;0.105.1 in central\n",
      "\tfound com.google.cloud#google-cloud-core-grpc;2.9.0 in central\n",
      "\tfound io.grpc#grpc-core;1.51.0 in central\n",
      "\tfound com.google.api#gax;2.20.1 in central\n",
      "\tfound com.google.api#gax-grpc;2.20.1 in central\n",
      "\tfound io.grpc#grpc-alts;1.51.0 in central\n",
      "\tfound io.grpc#grpc-grpclb;1.51.0 in central\n",
      "\tfound org.conscrypt#conscrypt-openjdk-uber;2.5.2 in central\n",
      "\tfound io.grpc#grpc-protobuf;1.51.0 in central\n",
      "\tfound com.google.auth#google-auth-library-credentials;1.13.0 in central\n",
      "\tfound com.google.auth#google-auth-library-oauth2-http;1.13.0 in central\n",
      "\tfound com.google.api#api-common;2.2.2 in central\n",
      "\tfound javax.annotation#javax.annotation-api;1.3.2 in central\n",
      "\tfound io.opencensus#opencensus-api;0.31.1 in central\n",
      "\tfound io.grpc#grpc-context;1.51.0 in central\n",
      "\tfound com.google.api.grpc#proto-google-iam-v1;1.6.22 in central\n",
      "\tfound com.google.protobuf#protobuf-java;3.21.10 in central\n",
      "\tfound com.google.protobuf#protobuf-java-util;3.21.10 in central\n",
      "\tfound com.google.api.grpc#proto-google-common-protos;2.11.0 in central\n",
      "\tfound org.threeten#threetenbp;1.6.4 in central\n",
      "\tfound com.google.api.grpc#proto-google-cloud-storage-v2;2.16.0-alpha in central\n",
      "\tfound com.google.api.grpc#grpc-google-cloud-storage-v2;2.16.0-alpha in central\n",
      "\tfound com.google.api.grpc#gapic-google-cloud-storage-v2;2.16.0-alpha in central\n",
      "\tfound com.fasterxml.jackson.core#jackson-core;2.14.1 in central\n",
      "\tfound com.google.code.findbugs#jsr305;3.0.2 in central\n",
      "\tfound io.grpc#grpc-api;1.51.0 in central\n",
      "\tfound io.grpc#grpc-auth;1.51.0 in central\n",
      "\tfound io.grpc#grpc-stub;1.51.0 in central\n",
      "\tfound org.checkerframework#checker-qual;3.28.0 in central\n",
      "\tfound com.google.api.grpc#grpc-google-iam-v1;1.6.22 in central\n",
      "\tfound io.grpc#grpc-protobuf-lite;1.51.0 in central\n",
      "\tfound com.google.android#annotations;4.1.1.4 in central\n",
      "\tfound org.codehaus.mojo#animal-sniffer-annotations;1.22 in central\n",
      "\tfound io.grpc#grpc-netty-shaded;1.51.0 in central\n",
      "\tfound io.perfmark#perfmark-api;0.26.0 in central\n",
      "\tfound io.grpc#grpc-googleapis;1.51.0 in central\n",
      "\tfound io.grpc#grpc-xds;1.51.0 in central\n",
      "\tfound io.opencensus#opencensus-proto;0.2.0 in central\n",
      "\tfound io.grpc#grpc-services;1.51.0 in central\n",
      "\tfound com.google.re2j#re2j;1.6 in central\n",
      "\tfound com.navigamez#greex;1.0 in central\n",
      "\tfound dk.brics.automaton#automaton;1.11-8 in central\n",
      "\tfound com.johnsnowlabs.nlp#tensorflow-cpu_2.12;0.4.4 in central\n",
      "\tfound graphframes#graphframes;0.8.2-spark3.1-s_2.12 in spark-packages\n",
      "\tfound org.slf4j#slf4j-api;1.7.16 in central\n",
      ":: resolution report :: resolve 1379ms :: artifacts dl 39ms\n",
      "\t:: modules in use:\n",
      "\tcom.amazonaws#aws-java-sdk-bundle;1.11.828 from central in [default]\n",
      "\tcom.fasterxml.jackson.core#jackson-core;2.14.1 from central in [default]\n",
      "\tcom.github.universal-automata#liblevenshtein;3.0.0 from central in [default]\n",
      "\tcom.google.android#annotations;4.1.1.4 from central in [default]\n",
      "\tcom.google.api#api-common;2.2.2 from central in [default]\n",
      "\tcom.google.api#gax;2.20.1 from central in [default]\n",
      "\tcom.google.api#gax-grpc;2.20.1 from central in [default]\n",
      "\tcom.google.api#gax-httpjson;0.105.1 from central in [default]\n",
      "\tcom.google.api-client#google-api-client;2.1.1 from central in [default]\n",
      "\tcom.google.api.grpc#gapic-google-cloud-storage-v2;2.16.0-alpha from central in [default]\n",
      "\tcom.google.api.grpc#grpc-google-cloud-storage-v2;2.16.0-alpha from central in [default]\n",
      "\tcom.google.api.grpc#grpc-google-iam-v1;1.6.22 from central in [default]\n",
      "\tcom.google.api.grpc#proto-google-cloud-storage-v2;2.16.0-alpha from central in [default]\n",
      "\tcom.google.api.grpc#proto-google-common-protos;2.11.0 from central in [default]\n",
      "\tcom.google.api.grpc#proto-google-iam-v1;1.6.22 from central in [default]\n",
      "\tcom.google.apis#google-api-services-storage;v1-rev20220705-2.0.0 from central in [default]\n",
      "\tcom.google.auth#google-auth-library-credentials;1.13.0 from central in [default]\n",
      "\tcom.google.auth#google-auth-library-oauth2-http;1.13.0 from central in [default]\n",
      "\tcom.google.auto.value#auto-value-annotations;1.10.1 from central in [default]\n",
      "\tcom.google.cloud#google-cloud-core;2.9.0 from central in [default]\n",
      "\tcom.google.cloud#google-cloud-core-grpc;2.9.0 from central in [default]\n",
      "\tcom.google.cloud#google-cloud-core-http;2.9.0 from central in [default]\n",
      "\tcom.google.cloud#google-cloud-storage;2.16.0 from central in [default]\n",
      "\tcom.google.code.findbugs#jsr305;3.0.2 from central in [default]\n",
      "\tcom.google.code.gson#gson;2.10 from central in [default]\n",
      "\tcom.google.errorprone#error_prone_annotations;2.16 from central in [default]\n",
      "\tcom.google.guava#failureaccess;1.0.1 from central in [default]\n",
      "\tcom.google.guava#guava;31.1-jre from central in [default]\n",
      "\tcom.google.guava#listenablefuture;9999.0-empty-to-avoid-conflict-with-guava from central in [default]\n",
      "\tcom.google.http-client#google-http-client;1.42.3 from central in [default]\n",
      "\tcom.google.http-client#google-http-client-apache-v2;1.42.3 from central in [default]\n",
      "\tcom.google.http-client#google-http-client-appengine;1.42.3 from central in [default]\n",
      "\tcom.google.http-client#google-http-client-gson;1.42.3 from central in [default]\n",
      "\tcom.google.http-client#google-http-client-jackson2;1.42.3 from central in [default]\n",
      "\tcom.google.j2objc#j2objc-annotations;1.3 from central in [default]\n",
      "\tcom.google.oauth-client#google-oauth-client;1.34.1 from central in [default]\n",
      "\tcom.google.protobuf#protobuf-java;3.21.10 from central in [default]\n",
      "\tcom.google.protobuf#protobuf-java-util;3.21.10 from central in [default]\n",
      "\tcom.google.re2j#re2j;1.6 from central in [default]\n",
      "\tcom.johnsnowlabs.nlp#spark-nlp_2.12;4.4.0 from central in [default]\n",
      "\tcom.johnsnowlabs.nlp#tensorflow-cpu_2.12;0.4.4 from central in [default]\n",
      "\tcom.navigamez#greex;1.0 from central in [default]\n",
      "\tcom.typesafe#config;1.4.2 from central in [default]\n",
      "\tcommons-codec#commons-codec;1.15 from central in [default]\n",
      "\tdk.brics.automaton#automaton;1.11-8 from central in [default]\n",
      "\tgraphframes#graphframes;0.8.2-spark3.1-s_2.12 from spark-packages in [default]\n",
      "\tio.grpc#grpc-alts;1.51.0 from central in [default]\n",
      "\tio.grpc#grpc-api;1.51.0 from central in [default]\n",
      "\tio.grpc#grpc-auth;1.51.0 from central in [default]\n",
      "\tio.grpc#grpc-context;1.51.0 from central in [default]\n",
      "\tio.grpc#grpc-core;1.51.0 from central in [default]\n",
      "\tio.grpc#grpc-googleapis;1.51.0 from central in [default]\n",
      "\tio.grpc#grpc-grpclb;1.51.0 from central in [default]\n",
      "\tio.grpc#grpc-netty-shaded;1.51.0 from central in [default]\n",
      "\tio.grpc#grpc-protobuf;1.51.0 from central in [default]\n",
      "\tio.grpc#grpc-protobuf-lite;1.51.0 from central in [default]\n",
      "\tio.grpc#grpc-services;1.51.0 from central in [default]\n",
      "\tio.grpc#grpc-stub;1.51.0 from central in [default]\n",
      "\tio.grpc#grpc-xds;1.51.0 from central in [default]\n",
      "\tio.opencensus#opencensus-api;0.31.1 from central in [default]\n",
      "\tio.opencensus#opencensus-contrib-http-util;0.31.1 from central in [default]\n",
      "\tio.opencensus#opencensus-proto;0.2.0 from central in [default]\n",
      "\tio.perfmark#perfmark-api;0.26.0 from central in [default]\n",
      "\tit.unimi.dsi#fastutil;7.0.12 from central in [default]\n",
      "\tjavax.annotation#javax.annotation-api;1.3.2 from central in [default]\n",
      "\torg.checkerframework#checker-qual;3.28.0 from central in [default]\n",
      "\torg.codehaus.mojo#animal-sniffer-annotations;1.22 from central in [default]\n",
      "\torg.conscrypt#conscrypt-openjdk-uber;2.5.2 from central in [default]\n",
      "\torg.projectlombok#lombok;1.16.8 from central in [default]\n",
      "\torg.rocksdb#rocksdbjni;6.29.5 from central in [default]\n",
      "\torg.slf4j#slf4j-api;1.7.16 from central in [default]\n",
      "\torg.threeten#threetenbp;1.6.4 from central in [default]\n",
      "\t:: evicted modules:\n",
      "\tcom.google.protobuf#protobuf-java-util;3.0.0-beta-3 by [com.google.protobuf#protobuf-java-util;3.21.10] in [default]\n",
      "\tcom.google.protobuf#protobuf-java;3.0.0-beta-3 by [com.google.protobuf#protobuf-java;3.21.10] in [default]\n",
      "\tcom.google.code.gson#gson;2.3 by [com.google.code.gson#gson;2.10] in [default]\n",
      "\t---------------------------------------------------------------------\n",
      "\t|                  |            modules            ||   artifacts   |\n",
      "\t|       conf       | number| search|dwnlded|evicted|| number|dwnlded|\n",
      "\t---------------------------------------------------------------------\n",
      "\t|      default     |   75  |   0   |   0   |   3   ||   72  |   0   |\n",
      "\t---------------------------------------------------------------------\n",
      ":: retrieving :: org.apache.spark#spark-submit-parent-b29f4559-d67b-4cd8-b898-dd4f70a590cb\n",
      "\tconfs: [default]\n",
      "\t72 artifacts copied, 0 already retrieved (614853kB/820ms)\n",
      "Setting default log level to \"WARN\".\n",
      "To adjust logging level use sc.setLogLevel(newLevel). For SparkR, use setLogLevel(newLevel).\n",
      "23/11/30 20:28:50 INFO org.apache.spark.SparkEnv: Registering MapOutputTracker\n",
      "23/11/30 20:28:50 INFO org.apache.spark.SparkEnv: Registering BlockManagerMaster\n",
      "23/11/30 20:28:50 INFO org.apache.spark.SparkEnv: Registering BlockManagerMasterHeartbeat\n",
      "23/11/30 20:28:50 INFO org.apache.spark.SparkEnv: Registering OutputCommitCoordinator\n",
      "23/11/30 20:28:56 WARN org.apache.spark.deploy.yarn.Client: Same path resource file:///root/.ivy2/jars/com.johnsnowlabs.nlp_spark-nlp_2.12-4.4.0.jar added multiple times to distributed cache.\n",
      "23/11/30 20:28:56 WARN org.apache.spark.deploy.yarn.Client: Same path resource file:///root/.ivy2/jars/graphframes_graphframes-0.8.2-spark3.1-s_2.12.jar added multiple times to distributed cache.\n",
      "23/11/30 20:28:56 WARN org.apache.spark.deploy.yarn.Client: Same path resource file:///root/.ivy2/jars/com.typesafe_config-1.4.2.jar added multiple times to distributed cache.\n",
      "23/11/30 20:28:56 WARN org.apache.spark.deploy.yarn.Client: Same path resource file:///root/.ivy2/jars/org.rocksdb_rocksdbjni-6.29.5.jar added multiple times to distributed cache.\n",
      "23/11/30 20:28:56 WARN org.apache.spark.deploy.yarn.Client: Same path resource file:///root/.ivy2/jars/com.amazonaws_aws-java-sdk-bundle-1.11.828.jar added multiple times to distributed cache.\n",
      "23/11/30 20:28:56 WARN org.apache.spark.deploy.yarn.Client: Same path resource file:///root/.ivy2/jars/com.github.universal-automata_liblevenshtein-3.0.0.jar added multiple times to distributed cache.\n",
      "23/11/30 20:28:56 WARN org.apache.spark.deploy.yarn.Client: Same path resource file:///root/.ivy2/jars/com.google.cloud_google-cloud-storage-2.16.0.jar added multiple times to distributed cache.\n",
      "23/11/30 20:28:56 WARN org.apache.spark.deploy.yarn.Client: Same path resource file:///root/.ivy2/jars/com.navigamez_greex-1.0.jar added multiple times to distributed cache.\n",
      "23/11/30 20:28:56 WARN org.apache.spark.deploy.yarn.Client: Same path resource file:///root/.ivy2/jars/com.johnsnowlabs.nlp_tensorflow-cpu_2.12-0.4.4.jar added multiple times to distributed cache.\n",
      "23/11/30 20:28:56 WARN org.apache.spark.deploy.yarn.Client: Same path resource file:///root/.ivy2/jars/it.unimi.dsi_fastutil-7.0.12.jar added multiple times to distributed cache.\n",
      "23/11/30 20:28:56 WARN org.apache.spark.deploy.yarn.Client: Same path resource file:///root/.ivy2/jars/org.projectlombok_lombok-1.16.8.jar added multiple times to distributed cache.\n",
      "23/11/30 20:28:56 WARN org.apache.spark.deploy.yarn.Client: Same path resource file:///root/.ivy2/jars/com.google.guava_guava-31.1-jre.jar added multiple times to distributed cache.\n",
      "23/11/30 20:28:56 WARN org.apache.spark.deploy.yarn.Client: Same path resource file:///root/.ivy2/jars/com.google.guava_failureaccess-1.0.1.jar added multiple times to distributed cache.\n",
      "23/11/30 20:28:56 WARN org.apache.spark.deploy.yarn.Client: Same path resource file:///root/.ivy2/jars/com.google.guava_listenablefuture-9999.0-empty-to-avoid-conflict-with-guava.jar added multiple times to distributed cache.\n",
      "23/11/30 20:28:56 WARN org.apache.spark.deploy.yarn.Client: Same path resource file:///root/.ivy2/jars/com.google.errorprone_error_prone_annotations-2.16.jar added multiple times to distributed cache.\n",
      "23/11/30 20:28:56 WARN org.apache.spark.deploy.yarn.Client: Same path resource file:///root/.ivy2/jars/com.google.j2objc_j2objc-annotations-1.3.jar added multiple times to distributed cache.\n",
      "23/11/30 20:28:56 WARN org.apache.spark.deploy.yarn.Client: Same path resource file:///root/.ivy2/jars/com.google.http-client_google-http-client-1.42.3.jar added multiple times to distributed cache.\n",
      "23/11/30 20:28:56 WARN org.apache.spark.deploy.yarn.Client: Same path resource file:///root/.ivy2/jars/io.opencensus_opencensus-contrib-http-util-0.31.1.jar added multiple times to distributed cache.\n",
      "23/11/30 20:28:56 WARN org.apache.spark.deploy.yarn.Client: Same path resource file:///root/.ivy2/jars/com.google.http-client_google-http-client-jackson2-1.42.3.jar added multiple times to distributed cache.\n",
      "23/11/30 20:28:56 WARN org.apache.spark.deploy.yarn.Client: Same path resource file:///root/.ivy2/jars/com.google.http-client_google-http-client-gson-1.42.3.jar added multiple times to distributed cache.\n",
      "23/11/30 20:28:56 WARN org.apache.spark.deploy.yarn.Client: Same path resource file:///root/.ivy2/jars/com.google.api-client_google-api-client-2.1.1.jar added multiple times to distributed cache.\n",
      "23/11/30 20:28:56 WARN org.apache.spark.deploy.yarn.Client: Same path resource file:///root/.ivy2/jars/commons-codec_commons-codec-1.15.jar added multiple times to distributed cache.\n",
      "23/11/30 20:28:56 WARN org.apache.spark.deploy.yarn.Client: Same path resource file:///root/.ivy2/jars/com.google.oauth-client_google-oauth-client-1.34.1.jar added multiple times to distributed cache.\n",
      "23/11/30 20:28:56 WARN org.apache.spark.deploy.yarn.Client: Same path resource file:///root/.ivy2/jars/com.google.http-client_google-http-client-apache-v2-1.42.3.jar added multiple times to distributed cache.\n",
      "23/11/30 20:28:56 WARN org.apache.spark.deploy.yarn.Client: Same path resource file:///root/.ivy2/jars/com.google.apis_google-api-services-storage-v1-rev20220705-2.0.0.jar added multiple times to distributed cache.\n",
      "23/11/30 20:28:56 WARN org.apache.spark.deploy.yarn.Client: Same path resource file:///root/.ivy2/jars/com.google.code.gson_gson-2.10.jar added multiple times to distributed cache.\n",
      "23/11/30 20:28:56 WARN org.apache.spark.deploy.yarn.Client: Same path resource file:///root/.ivy2/jars/com.google.cloud_google-cloud-core-2.9.0.jar added multiple times to distributed cache.\n",
      "23/11/30 20:28:56 WARN org.apache.spark.deploy.yarn.Client: Same path resource file:///root/.ivy2/jars/com.google.auto.value_auto-value-annotations-1.10.1.jar added multiple times to distributed cache.\n",
      "23/11/30 20:28:56 WARN org.apache.spark.deploy.yarn.Client: Same path resource file:///root/.ivy2/jars/com.google.cloud_google-cloud-core-http-2.9.0.jar added multiple times to distributed cache.\n",
      "23/11/30 20:28:56 WARN org.apache.spark.deploy.yarn.Client: Same path resource file:///root/.ivy2/jars/com.google.http-client_google-http-client-appengine-1.42.3.jar added multiple times to distributed cache.\n",
      "23/11/30 20:28:56 WARN org.apache.spark.deploy.yarn.Client: Same path resource file:///root/.ivy2/jars/com.google.api_gax-httpjson-0.105.1.jar added multiple times to distributed cache.\n",
      "23/11/30 20:28:56 WARN org.apache.spark.deploy.yarn.Client: Same path resource file:///root/.ivy2/jars/com.google.cloud_google-cloud-core-grpc-2.9.0.jar added multiple times to distributed cache.\n",
      "23/11/30 20:28:56 WARN org.apache.spark.deploy.yarn.Client: Same path resource file:///root/.ivy2/jars/io.grpc_grpc-core-1.51.0.jar added multiple times to distributed cache.\n",
      "23/11/30 20:28:56 WARN org.apache.spark.deploy.yarn.Client: Same path resource file:///root/.ivy2/jars/com.google.api_gax-2.20.1.jar added multiple times to distributed cache.\n",
      "23/11/30 20:28:56 WARN org.apache.spark.deploy.yarn.Client: Same path resource file:///root/.ivy2/jars/com.google.api_gax-grpc-2.20.1.jar added multiple times to distributed cache.\n",
      "23/11/30 20:28:56 WARN org.apache.spark.deploy.yarn.Client: Same path resource file:///root/.ivy2/jars/io.grpc_grpc-alts-1.51.0.jar added multiple times to distributed cache.\n",
      "23/11/30 20:28:56 WARN org.apache.spark.deploy.yarn.Client: Same path resource file:///root/.ivy2/jars/io.grpc_grpc-grpclb-1.51.0.jar added multiple times to distributed cache.\n",
      "23/11/30 20:28:56 WARN org.apache.spark.deploy.yarn.Client: Same path resource file:///root/.ivy2/jars/org.conscrypt_conscrypt-openjdk-uber-2.5.2.jar added multiple times to distributed cache.\n",
      "23/11/30 20:28:56 WARN org.apache.spark.deploy.yarn.Client: Same path resource file:///root/.ivy2/jars/io.grpc_grpc-protobuf-1.51.0.jar added multiple times to distributed cache.\n",
      "23/11/30 20:28:56 WARN org.apache.spark.deploy.yarn.Client: Same path resource file:///root/.ivy2/jars/com.google.auth_google-auth-library-credentials-1.13.0.jar added multiple times to distributed cache.\n",
      "23/11/30 20:28:56 WARN org.apache.spark.deploy.yarn.Client: Same path resource file:///root/.ivy2/jars/com.google.auth_google-auth-library-oauth2-http-1.13.0.jar added multiple times to distributed cache.\n",
      "23/11/30 20:28:56 WARN org.apache.spark.deploy.yarn.Client: Same path resource file:///root/.ivy2/jars/com.google.api_api-common-2.2.2.jar added multiple times to distributed cache.\n",
      "23/11/30 20:28:56 WARN org.apache.spark.deploy.yarn.Client: Same path resource file:///root/.ivy2/jars/javax.annotation_javax.annotation-api-1.3.2.jar added multiple times to distributed cache.\n",
      "23/11/30 20:28:56 WARN org.apache.spark.deploy.yarn.Client: Same path resource file:///root/.ivy2/jars/io.opencensus_opencensus-api-0.31.1.jar added multiple times to distributed cache.\n",
      "23/11/30 20:28:56 WARN org.apache.spark.deploy.yarn.Client: Same path resource file:///root/.ivy2/jars/io.grpc_grpc-context-1.51.0.jar added multiple times to distributed cache.\n",
      "23/11/30 20:28:56 WARN org.apache.spark.deploy.yarn.Client: Same path resource file:///root/.ivy2/jars/com.google.api.grpc_proto-google-iam-v1-1.6.22.jar added multiple times to distributed cache.\n",
      "23/11/30 20:28:56 WARN org.apache.spark.deploy.yarn.Client: Same path resource file:///root/.ivy2/jars/com.google.protobuf_protobuf-java-3.21.10.jar added multiple times to distributed cache.\n",
      "23/11/30 20:28:56 WARN org.apache.spark.deploy.yarn.Client: Same path resource file:///root/.ivy2/jars/com.google.protobuf_protobuf-java-util-3.21.10.jar added multiple times to distributed cache.\n",
      "23/11/30 20:28:56 WARN org.apache.spark.deploy.yarn.Client: Same path resource file:///root/.ivy2/jars/com.google.api.grpc_proto-google-common-protos-2.11.0.jar added multiple times to distributed cache.\n",
      "23/11/30 20:28:56 WARN org.apache.spark.deploy.yarn.Client: Same path resource file:///root/.ivy2/jars/org.threeten_threetenbp-1.6.4.jar added multiple times to distributed cache.\n",
      "23/11/30 20:28:56 WARN org.apache.spark.deploy.yarn.Client: Same path resource file:///root/.ivy2/jars/com.google.api.grpc_proto-google-cloud-storage-v2-2.16.0-alpha.jar added multiple times to distributed cache.\n",
      "23/11/30 20:28:56 WARN org.apache.spark.deploy.yarn.Client: Same path resource file:///root/.ivy2/jars/com.google.api.grpc_grpc-google-cloud-storage-v2-2.16.0-alpha.jar added multiple times to distributed cache.\n",
      "23/11/30 20:28:56 WARN org.apache.spark.deploy.yarn.Client: Same path resource file:///root/.ivy2/jars/com.google.api.grpc_gapic-google-cloud-storage-v2-2.16.0-alpha.jar added multiple times to distributed cache.\n",
      "23/11/30 20:28:56 WARN org.apache.spark.deploy.yarn.Client: Same path resource file:///root/.ivy2/jars/com.fasterxml.jackson.core_jackson-core-2.14.1.jar added multiple times to distributed cache.\n",
      "23/11/30 20:28:56 WARN org.apache.spark.deploy.yarn.Client: Same path resource file:///root/.ivy2/jars/com.google.code.findbugs_jsr305-3.0.2.jar added multiple times to distributed cache.\n",
      "23/11/30 20:28:56 WARN org.apache.spark.deploy.yarn.Client: Same path resource file:///root/.ivy2/jars/io.grpc_grpc-api-1.51.0.jar added multiple times to distributed cache.\n",
      "23/11/30 20:28:56 WARN org.apache.spark.deploy.yarn.Client: Same path resource file:///root/.ivy2/jars/io.grpc_grpc-auth-1.51.0.jar added multiple times to distributed cache.\n",
      "23/11/30 20:28:56 WARN org.apache.spark.deploy.yarn.Client: Same path resource file:///root/.ivy2/jars/io.grpc_grpc-stub-1.51.0.jar added multiple times to distributed cache.\n",
      "23/11/30 20:28:56 WARN org.apache.spark.deploy.yarn.Client: Same path resource file:///root/.ivy2/jars/org.checkerframework_checker-qual-3.28.0.jar added multiple times to distributed cache.\n",
      "23/11/30 20:28:56 WARN org.apache.spark.deploy.yarn.Client: Same path resource file:///root/.ivy2/jars/com.google.api.grpc_grpc-google-iam-v1-1.6.22.jar added multiple times to distributed cache.\n",
      "23/11/30 20:28:56 WARN org.apache.spark.deploy.yarn.Client: Same path resource file:///root/.ivy2/jars/io.grpc_grpc-protobuf-lite-1.51.0.jar added multiple times to distributed cache.\n",
      "23/11/30 20:28:56 WARN org.apache.spark.deploy.yarn.Client: Same path resource file:///root/.ivy2/jars/com.google.android_annotations-4.1.1.4.jar added multiple times to distributed cache.\n",
      "23/11/30 20:28:56 WARN org.apache.spark.deploy.yarn.Client: Same path resource file:///root/.ivy2/jars/org.codehaus.mojo_animal-sniffer-annotations-1.22.jar added multiple times to distributed cache.\n",
      "23/11/30 20:28:56 WARN org.apache.spark.deploy.yarn.Client: Same path resource file:///root/.ivy2/jars/io.grpc_grpc-netty-shaded-1.51.0.jar added multiple times to distributed cache.\n",
      "23/11/30 20:28:56 WARN org.apache.spark.deploy.yarn.Client: Same path resource file:///root/.ivy2/jars/io.perfmark_perfmark-api-0.26.0.jar added multiple times to distributed cache.\n",
      "23/11/30 20:28:56 WARN org.apache.spark.deploy.yarn.Client: Same path resource file:///root/.ivy2/jars/io.grpc_grpc-googleapis-1.51.0.jar added multiple times to distributed cache.\n",
      "23/11/30 20:28:56 WARN org.apache.spark.deploy.yarn.Client: Same path resource file:///root/.ivy2/jars/io.grpc_grpc-xds-1.51.0.jar added multiple times to distributed cache.\n",
      "23/11/30 20:28:56 WARN org.apache.spark.deploy.yarn.Client: Same path resource file:///root/.ivy2/jars/io.opencensus_opencensus-proto-0.2.0.jar added multiple times to distributed cache.\n",
      "23/11/30 20:28:56 WARN org.apache.spark.deploy.yarn.Client: Same path resource file:///root/.ivy2/jars/io.grpc_grpc-services-1.51.0.jar added multiple times to distributed cache.\n",
      "23/11/30 20:28:56 WARN org.apache.spark.deploy.yarn.Client: Same path resource file:///root/.ivy2/jars/com.google.re2j_re2j-1.6.jar added multiple times to distributed cache.\n",
      "23/11/30 20:28:56 WARN org.apache.spark.deploy.yarn.Client: Same path resource file:///root/.ivy2/jars/dk.brics.automaton_automaton-1.11-8.jar added multiple times to distributed cache.\n",
      "23/11/30 20:28:56 WARN org.apache.spark.deploy.yarn.Client: Same path resource file:///root/.ivy2/jars/org.slf4j_slf4j-api-1.7.16.jar added multiple times to distributed cache.\n"
     ]
    }
   ],
   "source": [
    "spark = SparkSession.builder.appName(\"GCS to PySpark\").getOrCreate()"
   ]
  },
  {
   "cell_type": "code",
   "execution_count": 3,
   "id": "7aac8da7-8c37-4eed-93fe-35d59a37ea44",
   "metadata": {},
   "outputs": [],
   "source": [
    "import os\n",
    "os.environ[\"GOOGLE_APPLICATION_CREDENTIALS\"] = \"path/to/your/credentials.json\""
   ]
  },
  {
   "cell_type": "code",
   "execution_count": 4,
   "id": "2e1ce61f-d5d9-47e9-bc86-9a29b3bee114",
   "metadata": {},
   "outputs": [],
   "source": [
    "gcs_bucket = \"gs://msca-bdp-project-goodreads\"  # Replace with your GCS bucket name\n",
    "data_path = f\"{gcs_bucket}/goodreads_interactions.csv\""
   ]
  },
  {
   "cell_type": "code",
   "execution_count": 5,
   "id": "40d67211-bdd0-4114-9551-f623ea7c358f",
   "metadata": {},
   "outputs": [
    {
     "data": {
      "text/plain": [
       "'gs://msca-bdp-project-goodreads/goodreads_interactions.csv'"
      ]
     },
     "execution_count": 5,
     "metadata": {},
     "output_type": "execute_result"
    }
   ],
   "source": [
    "data_path"
   ]
  },
  {
   "cell_type": "code",
   "execution_count": 5,
   "id": "bb62c4a1-0115-4715-b762-20fedad77e7e",
   "metadata": {},
   "outputs": [
    {
     "name": "stderr",
     "output_type": "stream",
     "text": [
      "                                                                                \r"
     ]
    }
   ],
   "source": [
    "df_books_csv = spark.read.csv(data_path, header=True, inferSchema=True)"
   ]
  },
  {
   "cell_type": "code",
   "execution_count": 6,
   "id": "19b5c68b-198d-4b5a-9c7a-13267b562071",
   "metadata": {},
   "outputs": [
    {
     "name": "stdout",
     "output_type": "stream",
     "text": [
      "+-------+-------+-------+------+-----------+\n",
      "|user_id|book_id|is_read|rating|is_reviewed|\n",
      "+-------+-------+-------+------+-----------+\n",
      "|      0|    948|      1|     5|          0|\n",
      "|      0|    947|      1|     5|          1|\n",
      "|      0|    946|      1|     5|          0|\n",
      "|      0|    945|      1|     5|          0|\n",
      "|      0|    944|      1|     5|          0|\n",
      "+-------+-------+-------+------+-----------+\n",
      "only showing top 5 rows\n",
      "\n"
     ]
    }
   ],
   "source": [
    "df_books_csv.show(5)"
   ]
  },
  {
   "cell_type": "code",
   "execution_count": 10,
   "id": "0806d07c-1f1d-49a9-b805-4a2485272c3c",
   "metadata": {},
   "outputs": [
    {
     "name": "stderr",
     "output_type": "stream",
     "text": [
      "[Stage 13:======================================================> (33 + 1) / 34]\r"
     ]
    },
    {
     "name": "stdout",
     "output_type": "stream",
     "text": [
      "Count of Distinct User IDs: 876145\n",
      "Count of Distinct Book IDs: 2360650\n"
     ]
    },
    {
     "name": "stderr",
     "output_type": "stream",
     "text": [
      "                                                                                \r"
     ]
    }
   ],
   "source": [
    "from pyspark.sql import SparkSession\n",
    "from pyspark.sql.functions import countDistinct\n",
    "\n",
    "# Get the count of distinct user IDs\n",
    "distinct_user_count = df_books_csv.select(countDistinct(\"user_id\").alias(\"distinct_user_count\")).collect()[0][\"distinct_user_count\"]\n",
    "\n",
    "# Get the count of distinct book IDs\n",
    "distinct_book_count = df_books_csv.select(countDistinct(\"book_id\").alias(\"distinct_book_count\")).collect()[0][\"distinct_book_count\"]\n",
    "\n",
    "# Display the results\n",
    "print(\"Count of Distinct User IDs:\", distinct_user_count)\n",
    "print(\"Count of Distinct Book IDs:\", distinct_book_count)"
   ]
  },
  {
   "cell_type": "code",
   "execution_count": 7,
   "id": "bff5c256-5126-4373-a074-45ebb363461f",
   "metadata": {},
   "outputs": [],
   "source": [
    "# Specify the GCS path to the JSON file\n",
    "json_data_path = f\"{gcs_bucket}/goodreads_books.json\""
   ]
  },
  {
   "cell_type": "code",
   "execution_count": 8,
   "id": "50573600-b730-4900-9b65-9c4f0d63cb80",
   "metadata": {},
   "outputs": [
    {
     "name": "stderr",
     "output_type": "stream",
     "text": [
      "                                                                                \r"
     ]
    }
   ],
   "source": [
    "# Read JSON data into a PySpark DataFrame\n",
    "df_reviews_json = spark.read.json(json_data_path)"
   ]
  },
  {
   "cell_type": "code",
   "execution_count": 9,
   "id": "fec8a60a-ed70-4bfd-8cdf-e2b4014bdc7e",
   "metadata": {},
   "outputs": [
    {
     "name": "stderr",
     "output_type": "stream",
     "text": [
      "23/11/30 20:34:18 WARN org.apache.spark.sql.catalyst.util.package: Truncated the string representation of a plan since it was too large. This behavior can be adjusted by setting 'spark.sql.debug.maxToStringFields'.\n"
     ]
    },
    {
     "name": "stdout",
     "output_type": "stream",
     "text": [
      "-RECORD 0------------------------------------\n",
      " asin                 |                      \n",
      " authors              | [{604031, }]         \n",
      " average_rating       | 4.00                 \n",
      " book_id              | 5333265              \n",
      " country_code         | US                   \n",
      " description          |                      \n",
      " edition_information  |                      \n",
      " format               | Paperback            \n",
      " image_url            | https://images.gr... \n",
      " is_ebook             | false                \n",
      " isbn                 | 0312853122           \n",
      " isbn13               | 9780312853129        \n",
      " kindle_asin          |                      \n",
      " language_code        |                      \n",
      " link                 | https://www.goodr... \n",
      " num_pages            | 256                  \n",
      " popular_shelves      | [{3, to-read}, {1... \n",
      " publication_day      | 1                    \n",
      " publication_month    | 9                    \n",
      " publication_year     | 1984                 \n",
      " publisher            | St. Martin's Press   \n",
      " ratings_count        | 3                    \n",
      " series               | []                   \n",
      " similar_books        | []                   \n",
      " text_reviews_count   | 1                    \n",
      " title                | W.C. Fields: A Li... \n",
      " title_without_series | W.C. Fields: A Li... \n",
      " url                  | https://www.goodr... \n",
      " work_id              | 5400751              \n",
      "only showing top 1 row\n",
      "\n"
     ]
    }
   ],
   "source": [
    "df_reviews_json.show(1, vertical=True)"
   ]
  },
  {
   "cell_type": "code",
   "execution_count": 11,
   "id": "a95bca4e-8f9a-48ef-ad17-9dfd9406a4b2",
   "metadata": {},
   "outputs": [],
   "source": [
    "combined_df = df_books_csv.join(df_reviews_json, \"book_id\", \"inner\")"
   ]
  },
  {
   "cell_type": "code",
   "execution_count": 12,
   "id": "11bda522-741d-4d9b-b810-982b30fb5809",
   "metadata": {},
   "outputs": [
    {
     "name": "stderr",
     "output_type": "stream",
     "text": [
      "[Stage 18:=======================================================>(68 + 1) / 69]\r"
     ]
    },
    {
     "name": "stdout",
     "output_type": "stream",
     "text": [
      "+-------+-------+-------+------+-----------+----+------------+--------------+------------+--------------------+-------------------+---------+--------------------+--------+----------+-------------+-----------+-------------+--------------------+---------+--------------------+---------------+-----------------+----------------+--------------+-------------+------+--------------------+------------------+--------------------+--------------------+--------------------+-------+\n",
      "|book_id|user_id|is_read|rating|is_reviewed|asin|     authors|average_rating|country_code|         description|edition_information|   format|           image_url|is_ebook|      isbn|       isbn13|kindle_asin|language_code|                link|num_pages|     popular_shelves|publication_day|publication_month|publication_year|     publisher|ratings_count|series|       similar_books|text_reviews_count|               title|title_without_series|                 url|work_id|\n",
      "+-------+-------+-------+------+-----------+----+------------+--------------+------------+--------------------+-------------------+---------+--------------------+--------+----------+-------------+-----------+-------------+--------------------+---------+--------------------+---------------+-----------------+----------------+--------------+-------------+------+--------------------+------------------+--------------------+--------------------+--------------------+-------+\n",
      "|    463|  15612|      0|     0|          0|    |[{296961, }]|          3.77|          US|Paul Auster has e...|                   |Paperback|https://s.gr-asse...|   false|0811214982|9780811214988| B009O6ZBJ6|          eng|https://www.goodr...|      104|[{48, to-read}, {...|             17|                6|            2002|New Directions|         2131|    []|[1188841, 1101272...|               101|The Red Notebook:...|The Red Notebook:...|https://www.goodr...|1892049|\n",
      "|    463|  15652|      0|     0|          0|    |[{296961, }]|          3.77|          US|Paul Auster has e...|                   |Paperback|https://s.gr-asse...|   false|0811214982|9780811214988| B009O6ZBJ6|          eng|https://www.goodr...|      104|[{48, to-read}, {...|             17|                6|            2002|New Directions|         2131|    []|[1188841, 1101272...|               101|The Red Notebook:...|The Red Notebook:...|https://www.goodr...|1892049|\n",
      "|    463|  15729|      0|     0|          0|    |[{296961, }]|          3.77|          US|Paul Auster has e...|                   |Paperback|https://s.gr-asse...|   false|0811214982|9780811214988| B009O6ZBJ6|          eng|https://www.goodr...|      104|[{48, to-read}, {...|             17|                6|            2002|New Directions|         2131|    []|[1188841, 1101272...|               101|The Red Notebook:...|The Red Notebook:...|https://www.goodr...|1892049|\n",
      "|    463|  15975|      0|     0|          0|    |[{296961, }]|          3.77|          US|Paul Auster has e...|                   |Paperback|https://s.gr-asse...|   false|0811214982|9780811214988| B009O6ZBJ6|          eng|https://www.goodr...|      104|[{48, to-read}, {...|             17|                6|            2002|New Directions|         2131|    []|[1188841, 1101272...|               101|The Red Notebook:...|The Red Notebook:...|https://www.goodr...|1892049|\n",
      "|    463|  16763|      0|     0|          0|    |[{296961, }]|          3.77|          US|Paul Auster has e...|                   |Paperback|https://s.gr-asse...|   false|0811214982|9780811214988| B009O6ZBJ6|          eng|https://www.goodr...|      104|[{48, to-read}, {...|             17|                6|            2002|New Directions|         2131|    []|[1188841, 1101272...|               101|The Red Notebook:...|The Red Notebook:...|https://www.goodr...|1892049|\n",
      "|    463|  16905|      0|     0|          0|    |[{296961, }]|          3.77|          US|Paul Auster has e...|                   |Paperback|https://s.gr-asse...|   false|0811214982|9780811214988| B009O6ZBJ6|          eng|https://www.goodr...|      104|[{48, to-read}, {...|             17|                6|            2002|New Directions|         2131|    []|[1188841, 1101272...|               101|The Red Notebook:...|The Red Notebook:...|https://www.goodr...|1892049|\n",
      "|    463|  17077|      0|     0|          0|    |[{296961, }]|          3.77|          US|Paul Auster has e...|                   |Paperback|https://s.gr-asse...|   false|0811214982|9780811214988| B009O6ZBJ6|          eng|https://www.goodr...|      104|[{48, to-read}, {...|             17|                6|            2002|New Directions|         2131|    []|[1188841, 1101272...|               101|The Red Notebook:...|The Red Notebook:...|https://www.goodr...|1892049|\n",
      "|    463|  17130|      0|     0|          0|    |[{296961, }]|          3.77|          US|Paul Auster has e...|                   |Paperback|https://s.gr-asse...|   false|0811214982|9780811214988| B009O6ZBJ6|          eng|https://www.goodr...|      104|[{48, to-read}, {...|             17|                6|            2002|New Directions|         2131|    []|[1188841, 1101272...|               101|The Red Notebook:...|The Red Notebook:...|https://www.goodr...|1892049|\n",
      "|    463|  17497|      0|     0|          0|    |[{296961, }]|          3.77|          US|Paul Auster has e...|                   |Paperback|https://s.gr-asse...|   false|0811214982|9780811214988| B009O6ZBJ6|          eng|https://www.goodr...|      104|[{48, to-read}, {...|             17|                6|            2002|New Directions|         2131|    []|[1188841, 1101272...|               101|The Red Notebook:...|The Red Notebook:...|https://www.goodr...|1892049|\n",
      "|    463|  17599|      0|     0|          0|    |[{296961, }]|          3.77|          US|Paul Auster has e...|                   |Paperback|https://s.gr-asse...|   false|0811214982|9780811214988| B009O6ZBJ6|          eng|https://www.goodr...|      104|[{48, to-read}, {...|             17|                6|            2002|New Directions|         2131|    []|[1188841, 1101272...|               101|The Red Notebook:...|The Red Notebook:...|https://www.goodr...|1892049|\n",
      "+-------+-------+-------+------+-----------+----+------------+--------------+------------+--------------------+-------------------+---------+--------------------+--------+----------+-------------+-----------+-------------+--------------------+---------+--------------------+---------------+-----------------+----------------+--------------+-------------+------+--------------------+------------------+--------------------+--------------------+--------------------+-------+\n",
      "only showing top 10 rows\n",
      "\n"
     ]
    },
    {
     "name": "stderr",
     "output_type": "stream",
     "text": [
      "                                                                                \r"
     ]
    }
   ],
   "source": [
    "combined_df.show(10)"
   ]
  },
  {
   "cell_type": "code",
   "execution_count": 13,
   "id": "08018c72-69ca-4aec-a283-105469359b22",
   "metadata": {},
   "outputs": [
    {
     "name": "stderr",
     "output_type": "stream",
     "text": [
      "[Stage 27:====================================>                  (22 + 11) / 33]\r"
     ]
    },
    {
     "name": "stdout",
     "output_type": "stream",
     "text": [
      "+-----------+--------+\n",
      "|is_reviewed|   count|\n",
      "+-----------+--------+\n",
      "|          1| 5695769|\n",
      "|          0|82713179|\n",
      "+-----------+--------+\n",
      "\n"
     ]
    },
    {
     "name": "stderr",
     "output_type": "stream",
     "text": [
      "                                                                                \r"
     ]
    }
   ],
   "source": [
    "combined_df.groupBy(\"is_reviewed\").count().show()"
   ]
  },
  {
   "cell_type": "code",
   "execution_count": 14,
   "id": "8e5de3a7-e09c-4787-af30-8e1ccffdeca4",
   "metadata": {},
   "outputs": [],
   "source": [
    "# Specify the GCS path to the JSON file\n",
    "json_data_path_2 = f\"{gcs_bucket}/goodreads_reviews_dedup.json\""
   ]
  },
  {
   "cell_type": "code",
   "execution_count": 15,
   "id": "d5257563-6be3-41b4-b2a6-05e4ed205e73",
   "metadata": {},
   "outputs": [
    {
     "name": "stderr",
     "output_type": "stream",
     "text": [
      "                                                                                \r"
     ]
    }
   ],
   "source": [
    "# Read JSON data into a PySpark DataFrame\n",
    "df_reviews_json_2 = spark.read.json(json_data_path_2,encoding=\"UTF-8\")"
   ]
  },
  {
   "cell_type": "code",
   "execution_count": 16,
   "id": "22898a29-9480-4be6-a226-0de705e409c9",
   "metadata": {},
   "outputs": [
    {
     "name": "stdout",
     "output_type": "stream",
     "text": [
      "-RECORD 0----------------------------\n",
      " book_id      | 24375664             \n",
      " date_added   | Fri Aug 25 13:55:... \n",
      " date_updated | Mon Oct 09 08:55:... \n",
      " n_comments   | 0                    \n",
      " n_votes      | 16                   \n",
      " rating       | 5                    \n",
      " read_at      | Sat Oct 07 00:00:... \n",
      " review_id    | 5cd416f3efc3f944f... \n",
      " review_text  | Mind blowingly co... \n",
      " started_at   | Sat Aug 26 00:00:... \n",
      " user_id      | 8842281e1d1347389... \n",
      "-RECORD 1----------------------------\n",
      " book_id      | 18245960             \n",
      " date_added   | Sun Jul 30 07:44:... \n",
      " date_updated | Wed Aug 30 00:00:... \n",
      " n_comments   | 1                    \n",
      " n_votes      | 28                   \n",
      " rating       | 5                    \n",
      " read_at      | Sat Aug 26 12:05:... \n",
      " review_id    | dfdbb7b0eb5a7e4c2... \n",
      " review_text  | This is a special... \n",
      " started_at   | Tue Aug 15 13:23:... \n",
      " user_id      | 8842281e1d1347389... \n",
      "only showing top 2 rows\n",
      "\n"
     ]
    }
   ],
   "source": [
    "df_reviews_json_2.show(2,vertical=True)"
   ]
  },
  {
   "cell_type": "code",
   "execution_count": 17,
   "id": "38cf671e-fc1f-46fe-8b4f-ae8131c9161b",
   "metadata": {},
   "outputs": [
    {
     "name": "stdout",
     "output_type": "stream",
     "text": [
      "-RECORD 0----------------------------\n",
      " book_id      | 24375664             \n",
      " date_added   | Fri Aug 25 13:55:... \n",
      " date_updated | Mon Oct 09 08:55:... \n",
      " n_comments   | 0                    \n",
      " n_votes      | 16                   \n",
      " rating       | 5                    \n",
      " read_at      | Sat Oct 07 00:00:... \n",
      " review_id    | 5cd416f3efc3f944f... \n",
      " review_text  | Mind blowingly co... \n",
      " started_at   | Sat Aug 26 00:00:... \n",
      " user_id      | 8842281e1d1347389... \n",
      "-RECORD 1----------------------------\n",
      " book_id      | 18245960             \n",
      " date_added   | Sun Jul 30 07:44:... \n",
      " date_updated | Wed Aug 30 00:00:... \n",
      " n_comments   | 1                    \n",
      " n_votes      | 28                   \n",
      " rating       | 5                    \n",
      " read_at      | Sat Aug 26 12:05:... \n",
      " review_id    | dfdbb7b0eb5a7e4c2... \n",
      " review_text  | This is a special... \n",
      " started_at   | Tue Aug 15 13:23:... \n",
      " user_id      | 8842281e1d1347389... \n",
      "-RECORD 2----------------------------\n",
      " book_id      | 6392944              \n",
      " date_added   | Mon Jul 24 02:48:... \n",
      " date_updated | Sun Jul 30 09:28:... \n",
      " n_comments   | 0                    \n",
      " n_votes      | 6                    \n",
      " rating       | 3                    \n",
      " read_at      | Tue Jul 25 00:00:... \n",
      " review_id    | 5e212a62bced17b4d... \n",
      " review_text  | I haven't read a ... \n",
      " started_at   | Mon Jul 24 00:00:... \n",
      " user_id      | 8842281e1d1347389... \n",
      "-RECORD 3----------------------------\n",
      " book_id      | 22078596             \n",
      " date_added   | Mon Jul 24 02:33:... \n",
      " date_updated | Sun Jul 30 10:23:... \n",
      " n_comments   | 4                    \n",
      " n_votes      | 22                   \n",
      " rating       | 4                    \n",
      " read_at      | Sun Jul 30 15:42:... \n",
      " review_id    | fdd13cad0695656be... \n",
      " review_text  | Fun, fast paced, ... \n",
      " started_at   | Tue Jul 25 00:00:... \n",
      " user_id      | 8842281e1d1347389... \n",
      "-RECORD 4----------------------------\n",
      " book_id      | 6644782              \n",
      " date_added   | Mon Jul 24 02:28:... \n",
      " date_updated | Thu Aug 24 00:07:... \n",
      " n_comments   | 0                    \n",
      " n_votes      | 8                    \n",
      " rating       | 4                    \n",
      " read_at      | Sat Aug 05 00:00:... \n",
      " review_id    | bd0df91c9d918c0e4... \n",
      " review_text  | A fun book that g... \n",
      " started_at   | Sun Jul 30 00:00:... \n",
      " user_id      | 8842281e1d1347389... \n",
      "-RECORD 5----------------------------\n",
      " book_id      | 1995421              \n",
      " date_added   | Mon Mar 06 07:14:... \n",
      " date_updated | Mon Mar 06 07:15:... \n",
      " n_comments   | 0                    \n",
      " n_votes      | 4                    \n",
      " rating       | 0                    \n",
      " read_at      |                      \n",
      " review_id    | 7350a30a2f5c785b1... \n",
      " review_text  | Kevin highly reco... \n",
      " started_at   |                      \n",
      " user_id      | 8842281e1d1347389... \n",
      "-RECORD 6----------------------------\n",
      " book_id      | 9460786              \n",
      " date_added   | Tue Feb 28 17:52:... \n",
      " date_updated | Fri May 26 12:04:... \n",
      " n_comments   | 3                    \n",
      " n_votes      | 13                   \n",
      " rating       | 4                    \n",
      " read_at      | Fri May 26 15:17:... \n",
      " review_id    | fc24c814e34ec6da3... \n",
      " review_text  | Giving a high rat... \n",
      " started_at   | Fri May 05 00:00:... \n",
      " user_id      | 8842281e1d1347389... \n",
      "-RECORD 7----------------------------\n",
      " book_id      | 29983426             \n",
      " date_added   | Sun Jan 08 15:51:... \n",
      " date_updated | Tue Mar 07 01:09:... \n",
      " n_comments   | 6                    \n",
      " n_votes      | 26                   \n",
      " rating       | 5                    \n",
      " read_at      | Mon Feb 20 00:00:... \n",
      " review_id    | 18479ea761f5f7d66... \n",
      " review_text  | I decided to give... \n",
      " started_at   | Fri Jan 13 00:00:... \n",
      " user_id      | 8842281e1d1347389... \n",
      "-RECORD 8----------------------------\n",
      " book_id      | 29893493             \n",
      " date_added   | Thu Dec 15 10:51:... \n",
      " date_updated | Sun Mar 12 23:33:... \n",
      " n_comments   | 8                    \n",
      " n_votes      | 29                   \n",
      " rating       | 5                    \n",
      " read_at      | Thu Mar 09 15:34:... \n",
      " review_id    | c23406fb584d6304d... \n",
      " review_text  | I haven't read a ... \n",
      " started_at   | Tue Feb 28 17:55:... \n",
      " user_id      | 8842281e1d1347389... \n",
      "-RECORD 9----------------------------\n",
      " book_id      | 28114110             \n",
      " date_added   | Sun Dec 11 16:18:... \n",
      " date_updated | Tue Dec 27 07:29:... \n",
      " n_comments   | 0                    \n",
      " n_votes      | 14                   \n",
      " rating       | 4                    \n",
      " read_at      | Sat Dec 17 00:00:... \n",
      " review_id    | fb5bdf2100832503e... \n",
      " review_text  | Kevin Kelly, who ... \n",
      " started_at   | Sun Dec 11 00:00:... \n",
      " user_id      | 8842281e1d1347389... \n",
      "only showing top 10 rows\n",
      "\n"
     ]
    }
   ],
   "source": [
    "df_reviews_json_2.show(10, vertical=True)"
   ]
  },
  {
   "cell_type": "code",
   "execution_count": 18,
   "id": "ee5ba249-69fe-4236-91c8-970433b1217c",
   "metadata": {},
   "outputs": [],
   "source": [
    "from pyspark.sql.functions import col, when\n",
    "from scipy.stats import ttest_ind"
   ]
  },
  {
   "cell_type": "code",
   "execution_count": 19,
   "id": "5e69ad6a-2c3a-4633-922b-73a1f4ebf85a",
   "metadata": {},
   "outputs": [],
   "source": [
    "import matplotlib.pyplot as plt\n",
    "import seaborn as sns"
   ]
  },
  {
   "cell_type": "code",
   "execution_count": 20,
   "id": "56e66364-b168-4075-98aa-7e5d1bf9a380",
   "metadata": {},
   "outputs": [],
   "source": [
    "from pyspark.sql import SparkSession\n",
    "from pyspark.sql.functions import when\n",
    "from pyspark.sql.types import IntegerType"
   ]
  },
  {
   "cell_type": "code",
   "execution_count": 21,
   "id": "19fae4ca-cea1-472b-9ed2-6230feac370d",
   "metadata": {},
   "outputs": [],
   "source": [
    "from pyspark.sql.functions import isnan, when, count"
   ]
  },
  {
   "cell_type": "code",
   "execution_count": 22,
   "id": "0ed76e49-e88b-42ac-8470-6ed916c536e2",
   "metadata": {},
   "outputs": [],
   "source": [
    "missing_values = df_books_csv.select([count(when(isnan(c) | df_books_csv[c].isNull(), c)).alias(c) for c in df_books_csv.columns])"
   ]
  },
  {
   "cell_type": "code",
   "execution_count": 23,
   "id": "72e485ed-6ae6-429d-8781-064f3340b579",
   "metadata": {},
   "outputs": [
    {
     "name": "stderr",
     "output_type": "stream",
     "text": [
      "[Stage 37:====================================================>   (31 + 2) / 33]\r"
     ]
    },
    {
     "name": "stdout",
     "output_type": "stream",
     "text": [
      "-RECORD 0----------\n",
      " user_id     | 0   \n",
      " book_id     | 0   \n",
      " is_read     | 0   \n",
      " rating      | 0   \n",
      " is_reviewed | 0   \n",
      "\n"
     ]
    },
    {
     "name": "stderr",
     "output_type": "stream",
     "text": [
      "                                                                                \r"
     ]
    }
   ],
   "source": [
    "missing_values.show(10,vertical=True)"
   ]
  },
  {
   "cell_type": "code",
   "execution_count": 24,
   "id": "093d0aae-b3d8-415d-90bc-57daee73d6be",
   "metadata": {},
   "outputs": [
    {
     "name": "stderr",
     "output_type": "stream",
     "text": [
      "[Stage 40:======================================================> (32 + 1) / 33]\r"
     ]
    },
    {
     "name": "stdout",
     "output_type": "stream",
     "text": [
      "+-------+-------+-------+------+-----------+\n",
      "|user_id|book_id|is_read|rating|is_reviewed|\n",
      "+-------+-------+-------+------+-----------+\n",
      "|      0|      0|      0|     0|          0|\n",
      "+-------+-------+-------+------+-----------+\n",
      "\n"
     ]
    },
    {
     "name": "stderr",
     "output_type": "stream",
     "text": [
      "                                                                                \r"
     ]
    }
   ],
   "source": [
    "df_books_csv.selectExpr(*[\"sum(case when {} is null then 1 else 0 end) as {}\".format(c, c) for c in df_books_csv.columns]).show()"
   ]
  },
  {
   "cell_type": "code",
   "execution_count": 25,
   "id": "b894e729-8962-41a2-8c20-46de43ce78f2",
   "metadata": {},
   "outputs": [],
   "source": [
    "null_nan_counts = df_books_csv.select([count(when(isnan(c) | (df_books_csv[c].isNull()), c)).alias(c) for c in df_books_csv.columns])"
   ]
  },
  {
   "cell_type": "code",
   "execution_count": 26,
   "id": "bdf83466-8925-4c79-9771-230c7438cb05",
   "metadata": {},
   "outputs": [
    {
     "name": "stderr",
     "output_type": "stream",
     "text": [
      "[Stage 43:====================================================>   (31 + 2) / 33]\r"
     ]
    },
    {
     "name": "stdout",
     "output_type": "stream",
     "text": [
      "-RECORD 0----------\n",
      " user_id     | 0   \n",
      " book_id     | 0   \n",
      " is_read     | 0   \n",
      " rating      | 0   \n",
      " is_reviewed | 0   \n",
      "\n"
     ]
    },
    {
     "name": "stderr",
     "output_type": "stream",
     "text": [
      "                                                                                \r"
     ]
    }
   ],
   "source": [
    "null_nan_counts.show(20,vertical=True)"
   ]
  },
  {
   "cell_type": "code",
   "execution_count": 27,
   "id": "1d8dd6df-f914-4250-8971-f22859b6e734",
   "metadata": {},
   "outputs": [],
   "source": [
    "from pyspark.sql.types import IntegerType"
   ]
  },
  {
   "cell_type": "code",
   "execution_count": 28,
   "id": "5fb5c7d3-22f4-427f-9099-d09942c85d9c",
   "metadata": {},
   "outputs": [],
   "source": [
    "df_books_csv = df_books_csv.withColumn(\"is_read\", df_books_csv[\"is_read\"].cast(IntegerType()))"
   ]
  },
  {
   "cell_type": "code",
   "execution_count": 29,
   "id": "784aa694-ed1f-4728-ae3d-4eac5deac8bc",
   "metadata": {},
   "outputs": [],
   "source": [
    "duplicate_counts = df_books_csv.groupBy(df_books_csv.columns).count()"
   ]
  },
  {
   "cell_type": "code",
   "execution_count": 30,
   "id": "cf3e21ad-a945-4167-85eb-1100fd93c9da",
   "metadata": {},
   "outputs": [],
   "source": [
    "duplicates = duplicate_counts.filter(duplicate_counts[\"count\"] > 1)"
   ]
  },
  {
   "cell_type": "code",
   "execution_count": 31,
   "id": "8352b42d-3fe2-4ffb-8901-3ca5cc9b53cd",
   "metadata": {},
   "outputs": [
    {
     "name": "stderr",
     "output_type": "stream",
     "text": [
      "[Stage 54:============================================>           (33 + 9) / 42]\r"
     ]
    },
    {
     "name": "stdout",
     "output_type": "stream",
     "text": [
      "+-------+-------+-------+------+-----------+-----+\n",
      "|user_id|book_id|is_read|rating|is_reviewed|count|\n",
      "+-------+-------+-------+------+-----------+-----+\n",
      "+-------+-------+-------+------+-----------+-----+\n",
      "\n"
     ]
    },
    {
     "name": "stderr",
     "output_type": "stream",
     "text": [
      "                                                                                \r"
     ]
    }
   ],
   "source": [
    "duplicates.show()"
   ]
  },
  {
   "cell_type": "code",
   "execution_count": 32,
   "id": "385dd2c8-1624-4309-9278-16759de502b7",
   "metadata": {},
   "outputs": [],
   "source": [
    "from pyspark.sql import SparkSession\n",
    "spark = SparkSession.builder.appName(\"IsReadIsReviewedFilter\").getOrCreate()"
   ]
  },
  {
   "cell_type": "code",
   "execution_count": 33,
   "id": "0757f49f-ef61-4dcd-b6d1-89dbae97ae94",
   "metadata": {},
   "outputs": [],
   "source": [
    "filtered_csv_df = df_books_csv.filter((df_books_csv[\"is_read\"] == 0) & (df_books_csv[\"is_reviewed\"] == 1))"
   ]
  },
  {
   "cell_type": "code",
   "execution_count": 34,
   "id": "dfb5f039-ac57-4281-894e-b0613396f67f",
   "metadata": {},
   "outputs": [
    {
     "name": "stdout",
     "output_type": "stream",
     "text": [
      "-RECORD 0----------\n",
      " user_id     | 0   \n",
      " book_id     | 913 \n",
      " is_read     | 0   \n",
      " rating      | 0   \n",
      " is_reviewed | 1   \n",
      "-RECORD 1----------\n",
      " user_id     | 0   \n",
      " book_id     | 910 \n",
      " is_read     | 0   \n",
      " rating      | 0   \n",
      " is_reviewed | 1   \n",
      "only showing top 2 rows\n",
      "\n"
     ]
    }
   ],
   "source": [
    "filtered_csv_df.show(2,vertical=True)"
   ]
  },
  {
   "cell_type": "code",
   "execution_count": 41,
   "id": "8c42a783-e456-47be-9044-13ff0ed65d2f",
   "metadata": {},
   "outputs": [
    {
     "name": "stderr",
     "output_type": "stream",
     "text": [
      "[Stage 62:======================================================> (32 + 1) / 33]\r"
     ]
    },
    {
     "name": "stdout",
     "output_type": "stream",
     "text": [
      "Number of records where is_read is 0 and is_reviewed is 1: 283912\n"
     ]
    },
    {
     "name": "stderr",
     "output_type": "stream",
     "text": [
      "                                                                                \r"
     ]
    }
   ],
   "source": [
    "from pyspark.sql import SparkSession\n",
    "\n",
    "spark = SparkSession.builder.appName(\"IsReadIsReviewedFilter\").getOrCreate()\n",
    "\n",
    "filtered_csv_df = df_books_csv.filter((df_books_csv[\"is_read\"] == 0) & (df_books_csv[\"is_reviewed\"] == 1))\n",
    "record_count = filtered_csv_df.count()\n",
    "print(\"Number of records where is_read is 0 and is_reviewed is 1:\", record_count)\n"
   ]
  },
  {
   "cell_type": "code",
   "execution_count": 42,
   "id": "2689f676-e6ed-4692-8b34-5f78df92cef6",
   "metadata": {},
   "outputs": [
    {
     "name": "stderr",
     "output_type": "stream",
     "text": [
      "[Stage 67:>                                                         (0 + 1) / 1]\r"
     ]
    },
    {
     "name": "stdout",
     "output_type": "stream",
     "text": [
      "+-------+-------+\n",
      "|user_id|book_id|\n",
      "+-------+-------+\n",
      "|  15341|  50748|\n",
      "|  15341|  65822|\n",
      "|  15341| 699296|\n",
      "|  15341|  91608|\n",
      "|  15341| 147497|\n",
      "|  15341| 922364|\n",
      "|  15341| 213959|\n",
      "|  15341| 450314|\n",
      "|  15341| 119705|\n",
      "|  15341| 763853|\n",
      "|  15341|  10476|\n",
      "|  15341| 213715|\n",
      "|  15341| 125271|\n",
      "|  15341| 922253|\n",
      "|  15341| 163718|\n",
      "|  15341| 163712|\n",
      "|  15341| 850537|\n",
      "|  15341|  50588|\n",
      "|  15341| 129796|\n",
      "|  15341| 922175|\n",
      "+-------+-------+\n",
      "only showing top 20 rows\n",
      "\n"
     ]
    },
    {
     "name": "stderr",
     "output_type": "stream",
     "text": [
      "                                                                                \r"
     ]
    }
   ],
   "source": [
    "distinct_user_book_ids = df_books_csv.filter((df_books_csv.is_read == 0) & (df_books_csv.is_reviewed == 0))\n",
    "distinct_user_book_ids = distinct_user_book_ids.select(\"user_id\", \"book_id\").distinct()\n",
    "\n",
    "# Show the resulting DataFrame\n",
    "distinct_user_book_ids.show()\n"
   ]
  },
  {
   "cell_type": "code",
   "execution_count": 43,
   "id": "91e8601c-2599-4750-8975-2dc26307c663",
   "metadata": {},
   "outputs": [],
   "source": [
    "distinct_user_book_ids = distinct_user_book_ids.withColumn(\"book_id\", col(\"book_id\").cast(\"string\"))\n",
    "distinct_user_book_ids = distinct_user_book_ids.withColumn(\"user_id\", col(\"user_id\").cast(\"string\"))"
   ]
  },
  {
   "cell_type": "code",
   "execution_count": 44,
   "id": "36e8cebb-3637-4da4-a7e3-8719136cfa60",
   "metadata": {},
   "outputs": [
    {
     "name": "stderr",
     "output_type": "stream",
     "text": [
      "[Stage 70:>                                                         (0 + 1) / 1]\r"
     ]
    },
    {
     "name": "stdout",
     "output_type": "stream",
     "text": [
      "+-------+-------+\n",
      "|user_id|book_id|\n",
      "+-------+-------+\n",
      "|  44205|   2883|\n",
      "|  44207|  19083|\n",
      "+-------+-------+\n",
      "only showing top 2 rows\n",
      "\n"
     ]
    },
    {
     "name": "stderr",
     "output_type": "stream",
     "text": [
      "                                                                                \r"
     ]
    }
   ],
   "source": [
    "distinct_user_book_ids.show(2)"
   ]
  },
  {
   "cell_type": "code",
   "execution_count": 46,
   "id": "6d8cfc74-d4cd-40bd-a1ec-b511b15a1eae",
   "metadata": {},
   "outputs": [
    {
     "name": "stderr",
     "output_type": "stream",
     "text": [
      "[Stage 78:>                                                         (0 + 1) / 1]\r"
     ]
    },
    {
     "name": "stdout",
     "output_type": "stream",
     "text": [
      "-RECORD 0----------------------------\n",
      " book_id      | 1002783              \n",
      " date_added   | Sun Jan 29 16:26:... \n",
      " date_updated | Mon Mar 27 10:34:... \n",
      " n_comments   | 0                    \n",
      " n_votes      | 0                    \n",
      " rating       | 4                    \n",
      " read_at      | Wed Mar 01 00:00:... \n",
      " review_id    | a5096d800fea406f0... \n",
      " review_text  | Lots of useful in... \n",
      " started_at   | Sun Jan 29 00:00:... \n",
      " user_id      | e4c2c0760e1b57734... \n",
      " user_id      | 428393               \n",
      " book_id      | 1002783              \n",
      "-RECORD 1----------------------------\n",
      " book_id      | 1002783              \n",
      " date_added   | Sun Jan 29 16:26:... \n",
      " date_updated | Mon Mar 27 10:34:... \n",
      " n_comments   | 0                    \n",
      " n_votes      | 0                    \n",
      " rating       | 4                    \n",
      " read_at      | Wed Mar 01 00:00:... \n",
      " review_id    | a5096d800fea406f0... \n",
      " review_text  | Lots of useful in... \n",
      " started_at   | Sun Jan 29 00:00:... \n",
      " user_id      | e4c2c0760e1b57734... \n",
      " user_id      | 60573                \n",
      " book_id      | 1002783              \n",
      "-RECORD 2----------------------------\n",
      " book_id      | 1002783              \n",
      " date_added   | Sun Jan 29 16:26:... \n",
      " date_updated | Mon Mar 27 10:34:... \n",
      " n_comments   | 0                    \n",
      " n_votes      | 0                    \n",
      " rating       | 4                    \n",
      " read_at      | Wed Mar 01 00:00:... \n",
      " review_id    | a5096d800fea406f0... \n",
      " review_text  | Lots of useful in... \n",
      " started_at   | Sun Jan 29 00:00:... \n",
      " user_id      | e4c2c0760e1b57734... \n",
      " user_id      | 64144                \n",
      " book_id      | 1002783              \n",
      "-RECORD 3----------------------------\n",
      " book_id      | 1002783              \n",
      " date_added   | Sun Jan 29 16:26:... \n",
      " date_updated | Mon Mar 27 10:34:... \n",
      " n_comments   | 0                    \n",
      " n_votes      | 0                    \n",
      " rating       | 4                    \n",
      " read_at      | Wed Mar 01 00:00:... \n",
      " review_id    | a5096d800fea406f0... \n",
      " review_text  | Lots of useful in... \n",
      " started_at   | Sun Jan 29 00:00:... \n",
      " user_id      | e4c2c0760e1b57734... \n",
      " user_id      | 125859               \n",
      " book_id      | 1002783              \n",
      "-RECORD 4----------------------------\n",
      " book_id      | 1002783              \n",
      " date_added   | Sun Jan 29 16:26:... \n",
      " date_updated | Mon Mar 27 10:34:... \n",
      " n_comments   | 0                    \n",
      " n_votes      | 0                    \n",
      " rating       | 4                    \n",
      " read_at      | Wed Mar 01 00:00:... \n",
      " review_id    | a5096d800fea406f0... \n",
      " review_text  | Lots of useful in... \n",
      " started_at   | Sun Jan 29 00:00:... \n",
      " user_id      | e4c2c0760e1b57734... \n",
      " user_id      | 18864                \n",
      " book_id      | 1002783              \n",
      "only showing top 5 rows\n",
      "\n"
     ]
    },
    {
     "name": "stderr",
     "output_type": "stream",
     "text": [
      "                                                                                \r"
     ]
    }
   ],
   "source": [
    "resulting_reviews.show(5,vertical=True)"
   ]
  },
  {
   "cell_type": "code",
   "execution_count": null,
   "id": "4c8ac545-7de4-4b7e-ad28-fe9cffe46356",
   "metadata": {},
   "outputs": [],
   "source": [
    "distinct_user_book_ids.printSchema"
   ]
  },
  {
   "cell_type": "code",
   "execution_count": null,
   "id": "f6b0a695-9338-4348-ba0d-b238f3de2120",
   "metadata": {},
   "outputs": [],
   "source": [
    "distinct_user_ids = filtered_csv_df.select(\"user_id\").distinct()"
   ]
  },
  {
   "cell_type": "code",
   "execution_count": null,
   "id": "3156a7da-a517-4fe5-a3de-92ebb792b8a0",
   "metadata": {
    "tags": []
   },
   "outputs": [],
   "source": [
    "distinct_user_ids.show()"
   ]
  },
  {
   "cell_type": "code",
   "execution_count": null,
   "id": "9528e1a7-49af-4832-a621-b96126469d7a",
   "metadata": {},
   "outputs": [],
   "source": [
    "joined_df = spark.sql(\"\"\"\n",
    "    SELECT r.*\n",
    "    FROM df_reviews_json_2 AS r\n",
    "    JOIN user_ids AS u\n",
    "    ON r.user_id = u.user_id\n",
    "\"\"\")"
   ]
  },
  {
   "cell_type": "code",
   "execution_count": null,
   "id": "c9639543-7e9a-4c7c-9c4b-83fe8e0653fd",
   "metadata": {},
   "outputs": [],
   "source": [
    "joined_df.show()"
   ]
  },
  {
   "cell_type": "code",
   "execution_count": null,
   "id": "f8cc2676-824c-4b40-852d-d99eaf8a2440",
   "metadata": {},
   "outputs": [],
   "source": [
    "filtered_csv_df_2 = df_books_csv.filter((df_books_csv[\"is_read\"] == 0) & (df_books_csv[\"is_reviewed\"] == 0))"
   ]
  },
  {
   "cell_type": "code",
   "execution_count": null,
   "id": "0aa586c7-997c-4e79-b725-ddf81e7a5c43",
   "metadata": {},
   "outputs": [],
   "source": [
    "record_count_2 = filtered_csv_df_2.count()"
   ]
  },
  {
   "cell_type": "code",
   "execution_count": null,
   "id": "2c4010eb-f730-46da-9aa7-f722dc91bdf2",
   "metadata": {},
   "outputs": [],
   "source": [
    "print(\"Number of records where is_read is 0 and is_reviewed is 0:\", record_count_2)"
   ]
  },
  {
   "cell_type": "code",
   "execution_count": 47,
   "id": "c3735919-3c48-49ff-ac22-03e958aad544",
   "metadata": {},
   "outputs": [],
   "source": [
    "resulting_reviews2 = df_reviews_json_2.join(\n",
    "    df_reviews_json,\n",
    "    (df_reviews_json_2.book_id == df_reviews_json.book_id),\n",
    "    \"inner\"\n",
    ")"
   ]
  },
  {
   "cell_type": "code",
   "execution_count": 49,
   "id": "0908a8c5-4e61-4e7e-83da-b42f91344435",
   "metadata": {},
   "outputs": [],
   "source": [
    "from pyspark.sql import SparkSession\n",
    "from pyspark.sql.functions import col"
   ]
  },
  {
   "cell_type": "code",
   "execution_count": null,
   "id": "6f34340b-4477-446e-93e8-ee493d456fa3",
   "metadata": {},
   "outputs": [],
   "source": [
    "df_reviews_json_2.show(5,vertical=True\n",
    "                      )"
   ]
  },
  {
   "cell_type": "code",
   "execution_count": 48,
   "id": "fa54ff8b-3125-40b9-87b7-34788375344b",
   "metadata": {},
   "outputs": [
    {
     "name": "stderr",
     "output_type": "stream",
     "text": [
      "[Stage 79:=====================================================>(124 + 1) / 125]\r"
     ]
    },
    {
     "name": "stdout",
     "output_type": "stream",
     "text": [
      "-RECORD 0------------------------------------\n",
      " book_id              | 10000761             \n",
      " date_added           | Sat Sep 10 16:19:... \n",
      " date_updated         | Sat Sep 10 16:33:... \n",
      " n_comments           | 2                    \n",
      " n_votes              | 1                    \n",
      " rating               | 5                    \n",
      " read_at              | Sat Sep 10 00:00:... \n",
      " review_id            | abae93ad132fef34f... \n",
      " review_text          | Jason Berry has d... \n",
      " started_at           |                      \n",
      " user_id              | 3ec16d3d84ccd6e92... \n",
      " asin                 |                      \n",
      " authors              | [{215985, }]         \n",
      " average_rating       | 3.50                 \n",
      " book_id              | 10000761             \n",
      " country_code         | US                   \n",
      " description          | AN INVESTIGATION ... \n",
      " edition_information  |                      \n",
      " format               | Hardcover            \n",
      " image_url            | https://images.gr... \n",
      " is_ebook             | false                \n",
      " isbn                 | 038553132X           \n",
      " isbn13               | 9780385531320        \n",
      " kindle_asin          | B004J4WKWE           \n",
      " language_code        | en-GB                \n",
      " link                 | https://www.goodr... \n",
      " num_pages            | 432                  \n",
      " popular_shelves      | [{611, to-read}, ... \n",
      " publication_day      | 7                    \n",
      " publication_month    | 6                    \n",
      " publication_year     | 2011                 \n",
      " publisher            | Crown                \n",
      " ratings_count        | 136                  \n",
      " series               | []                   \n",
      " similar_books        | [183973, 6369613,... \n",
      " text_reviews_count   | 33                   \n",
      " title                | Render Unto Rome:... \n",
      " title_without_series | Render Unto Rome:... \n",
      " url                  | https://www.goodr... \n",
      " work_id              | 14895765             \n",
      "-RECORD 1------------------------------------\n",
      " book_id              | 10000761             \n",
      " date_added           | Mon Jun 03 11:51:... \n",
      " date_updated         | Fri Jun 28 19:33:... \n",
      " n_comments           | 0                    \n",
      " n_votes              | 0                    \n",
      " rating               | 3                    \n",
      " read_at              | Fri Jun 28 00:00:... \n",
      " review_id            | a13072a0af2252014... \n",
      " review_text          | The author addres... \n",
      " started_at           | Wed Jun 19 00:00:... \n",
      " user_id              | a45fb5d39a6a9857f... \n",
      " asin                 |                      \n",
      " authors              | [{215985, }]         \n",
      " average_rating       | 3.50                 \n",
      " book_id              | 10000761             \n",
      " country_code         | US                   \n",
      " description          | AN INVESTIGATION ... \n",
      " edition_information  |                      \n",
      " format               | Hardcover            \n",
      " image_url            | https://images.gr... \n",
      " is_ebook             | false                \n",
      " isbn                 | 038553132X           \n",
      " isbn13               | 9780385531320        \n",
      " kindle_asin          | B004J4WKWE           \n",
      " language_code        | en-GB                \n",
      " link                 | https://www.goodr... \n",
      " num_pages            | 432                  \n",
      " popular_shelves      | [{611, to-read}, ... \n",
      " publication_day      | 7                    \n",
      " publication_month    | 6                    \n",
      " publication_year     | 2011                 \n",
      " publisher            | Crown                \n",
      " ratings_count        | 136                  \n",
      " series               | []                   \n",
      " similar_books        | [183973, 6369613,... \n",
      " text_reviews_count   | 33                   \n",
      " title                | Render Unto Rome:... \n",
      " title_without_series | Render Unto Rome:... \n",
      " url                  | https://www.goodr... \n",
      " work_id              | 14895765             \n",
      "-RECORD 2------------------------------------\n",
      " book_id              | 10000761             \n",
      " date_added           | Wed Nov 09 05:41:... \n",
      " date_updated         | Sun Mar 18 14:45:... \n",
      " n_comments           | 0                    \n",
      " n_votes              | 0                    \n",
      " rating               | 3                    \n",
      " read_at              | Sun Mar 18 14:45:... \n",
      " review_id            | 91898414e53b123a0... \n",
      " review_text          | Interesting subje... \n",
      " started_at           | Sun Feb 12 00:00:... \n",
      " user_id              | 6cff11a0530eeddeb... \n",
      " asin                 |                      \n",
      " authors              | [{215985, }]         \n",
      " average_rating       | 3.50                 \n",
      " book_id              | 10000761             \n",
      " country_code         | US                   \n",
      " description          | AN INVESTIGATION ... \n",
      " edition_information  |                      \n",
      " format               | Hardcover            \n",
      " image_url            | https://images.gr... \n",
      " is_ebook             | false                \n",
      " isbn                 | 038553132X           \n",
      " isbn13               | 9780385531320        \n",
      " kindle_asin          | B004J4WKWE           \n",
      " language_code        | en-GB                \n",
      " link                 | https://www.goodr... \n",
      " num_pages            | 432                  \n",
      " popular_shelves      | [{611, to-read}, ... \n",
      " publication_day      | 7                    \n",
      " publication_month    | 6                    \n",
      " publication_year     | 2011                 \n",
      " publisher            | Crown                \n",
      " ratings_count        | 136                  \n",
      " series               | []                   \n",
      " similar_books        | [183973, 6369613,... \n",
      " text_reviews_count   | 33                   \n",
      " title                | Render Unto Rome:... \n",
      " title_without_series | Render Unto Rome:... \n",
      " url                  | https://www.goodr... \n",
      " work_id              | 14895765             \n",
      "-RECORD 3------------------------------------\n",
      " book_id              | 10000761             \n",
      " date_added           | Tue Apr 02 20:16:... \n",
      " date_updated         | Tue Apr 02 20:26:... \n",
      " n_comments           | 0                    \n",
      " n_votes              | 0                    \n",
      " rating               | 3                    \n",
      " read_at              | Tue Apr 02 00:00:... \n",
      " review_id            | 5dcb02a5a8228a2be... \n",
      " review_text          | A fascinating rea... \n",
      " started_at           |                      \n",
      " user_id              | b77f34246ac69b4b6... \n",
      " asin                 |                      \n",
      " authors              | [{215985, }]         \n",
      " average_rating       | 3.50                 \n",
      " book_id              | 10000761             \n",
      " country_code         | US                   \n",
      " description          | AN INVESTIGATION ... \n",
      " edition_information  |                      \n",
      " format               | Hardcover            \n",
      " image_url            | https://images.gr... \n",
      " is_ebook             | false                \n",
      " isbn                 | 038553132X           \n",
      " isbn13               | 9780385531320        \n",
      " kindle_asin          | B004J4WKWE           \n",
      " language_code        | en-GB                \n",
      " link                 | https://www.goodr... \n",
      " num_pages            | 432                  \n",
      " popular_shelves      | [{611, to-read}, ... \n",
      " publication_day      | 7                    \n",
      " publication_month    | 6                    \n",
      " publication_year     | 2011                 \n",
      " publisher            | Crown                \n",
      " ratings_count        | 136                  \n",
      " series               | []                   \n",
      " similar_books        | [183973, 6369613,... \n",
      " text_reviews_count   | 33                   \n",
      " title                | Render Unto Rome:... \n",
      " title_without_series | Render Unto Rome:... \n",
      " url                  | https://www.goodr... \n",
      " work_id              | 14895765             \n",
      "only showing top 4 rows\n",
      "\n"
     ]
    },
    {
     "name": "stderr",
     "output_type": "stream",
     "text": [
      "                                                                                \r"
     ]
    }
   ],
   "source": [
    "resulting_reviews2.show(4,vertical=True)"
   ]
  },
  {
   "cell_type": "code",
   "execution_count": 50,
   "id": "beecdfd7-03ec-469c-9baf-cc0bd8d64910",
   "metadata": {},
   "outputs": [
    {
     "name": "stderr",
     "output_type": "stream",
     "text": [
      "[Stage 84:=====================================================>(124 + 1) / 125]\r"
     ]
    },
    {
     "name": "stdout",
     "output_type": "stream",
     "text": [
      "Count of Distinct Book IDs: 2080190\n"
     ]
    },
    {
     "name": "stderr",
     "output_type": "stream",
     "text": [
      "                                                                                \r"
     ]
    }
   ],
   "source": [
    "from pyspark.sql import SparkSession\n",
    "from pyspark.sql.functions import col\n",
    "\n",
    "# Define the index of the \"book_id\" column\n",
    "column_index = 0\n",
    "\n",
    "# Get the column by index\n",
    "book_id_column = df_reviews_json_2.select(col(resulting_reviews2.columns[column_index]))\n",
    "\n",
    "# Now, you can work with book_id_column using PySpark operations\n",
    "distinct_book_id_count = book_id_column.distinct().count()\n",
    "\n",
    "# Display the result\n",
    "print(\"Count of Distinct Book IDs:\", distinct_book_id_count)\n"
   ]
  },
  {
   "cell_type": "code",
   "execution_count": null,
   "id": "38a2e9e4-7be2-4bf7-b2eb-b49e38f8623a",
   "metadata": {},
   "outputs": [],
   "source": [
    "\n",
    "from pyspark.sql import SparkSession\n",
    "from pyspark.sql.functions import col\n",
    "\n",
    "# Define the index of the \"book_id\" column\n",
    "column_index = 0\n",
    "\n",
    "# Get the column by index\n",
    "book_id_column = df_reviews_json.select(col(resulting_reviews2.columns[column_index]))\n",
    "\n",
    "# Now, you can work with book_id_column using PySpark operations\n",
    "distinct_book_id_count = book_id_column.distinct().count()\n",
    "\n",
    "# Display the result\n",
    "print(\"Count of Distinct Book IDs:\", distinct_book_id_count)\n"
   ]
  },
  {
   "cell_type": "code",
   "execution_count": null,
   "id": "6f3698ee-e35b-4236-b673-0a7ad2b71720",
   "metadata": {},
   "outputs": [],
   "source": [
    "from pyspark.sql import SparkSession\n",
    "from pyspark.sql.functions import countDistinct\n",
    "\n",
    "# Get the count of distinct user IDs\n",
    "distinct_user_count = resulting_reviews2.select(countDistinct(\"user_id\").alias(\"distinct_user_count\")).collect()[0][\"distinct_user_count\"]\n",
    "\n",
    "# Get the count of distinct book IDs\n",
    "#distinct_book_count = resulting_reviews2.select(countDistinct(\"book_id\").alias(\"distinct_book_count\")).collect()[0][\"distinct_book_count\"]\n",
    "\n",
    "# Display the results\n",
    "print(\"Count of Distinct User IDs:\", distinct_user_count)\n",
    "#print(\"Count of Distinct Book IDs:\", distinct_book_count)"
   ]
  },
  {
   "cell_type": "code",
   "execution_count": null,
   "id": "9df20e8f-5212-4cbb-98de-a6b312adad62",
   "metadata": {},
   "outputs": [],
   "source": [
    "#Checking columns-Titles and title without series have same values\n",
    "resulting_reviews2_filtered = resulting_reviews2.filter(resulting_reviews2['title'] != resulting_reviews2['title_without_series'])"
   ]
  },
  {
   "cell_type": "code",
   "execution_count": null,
   "id": "e1280a19-3924-40f8-93b9-6681c83fd1b2",
   "metadata": {},
   "outputs": [],
   "source": [
    "resulting_reviews2_filtered.show(vertical=True,truncate=False)"
   ]
  },
  {
   "cell_type": "code",
   "execution_count": null,
   "id": "dba6b6ae-ab69-46b6-91ba-1681b79c93fa",
   "metadata": {},
   "outputs": [],
   "source": [
    "ratings_hist = df_reviews_json_2.select(\"rating\").rdd.flatMap(lambda x: x).histogram(10)\n",
    "plt.hist(ratings_hist[0], bins=ratings_hist[1], color='skyblue', edgecolor='black')\n",
    "plt.xlabel(\"Rating\")\n",
    "plt.ylabel(\"Frequency\")\n",
    "plt.title(\"Distribution of Ratings\")\n",
    "plt.show()"
   ]
  },
  {
   "cell_type": "code",
   "execution_count": null,
   "id": "93d173b6-0e81-4afd-ab44-70683d46bac7",
   "metadata": {},
   "outputs": [],
   "source": [
    "data = df_reviews_json_2.select(\"rating\").rdd.flatMap(lambda x: x).collect()\n",
    "\n",
    "# Create a histogram\n",
    "plt.hist(data, bins=10, color='blue', edgecolor='black')\n",
    "\n",
    "# Add labels and title\n",
    "plt.xlabel(\"rating\")\n",
    "plt.ylabel(\"Frequency\")\n",
    "plt.title(f\"Histogram of rating\")\n",
    "\n",
    "# Show the plot\n",
    "plt.show()\n",
    "\n"
   ]
  },
  {
   "cell_type": "code",
   "execution_count": null,
   "id": "89877b88-2c94-4f38-98b0-abf8948436b4",
   "metadata": {},
   "outputs": [],
   "source": [
    "from pyspark.sql import SparkSession\n",
    "import matplotlib.pyplot as plt\n"
   ]
  },
  {
   "cell_type": "code",
   "execution_count": null,
   "id": "2e79c9c6-349e-4521-9547-c63564319e62",
   "metadata": {},
   "outputs": [],
   "source": [
    "from pyspark.sql import SparkSession\n",
    "import matplotlib.pyplot as plt\n",
    "import pandas as pd"
   ]
  },
  {
   "cell_type": "code",
   "execution_count": 52,
   "id": "c0bd82f3-b53a-40b7-81c2-ab8bc58a4db8",
   "metadata": {},
   "outputs": [
    {
     "name": "stderr",
     "output_type": "stream",
     "text": [
      "                                                                                \r"
     ]
    },
    {
     "data": {
      "image/png": "[encoded data removed]",
      "text/plain": [
       "<Figure size 640x480 with 1 Axes>"
      ]
     },
     "metadata": {},
     "output_type": "display_data"
    }
   ],
   "source": [
    "from pyspark.sql import SparkSession\n",
    "import matplotlib.pyplot as plt\n",
    "import pandas as pd\n",
    "\n",
    "# Assuming you have a DataFrame named `resulting_reviews2_filtered`, and the column is named \"rating\"\n",
    "data = resulting_reviews2.groupBy(\"rating\").count().orderBy(\"rating\").collect()\n",
    "\n",
    "# Check if there are data points\n",
    "if not data:\n",
    "    print(\"No data points to plot.\")\n",
    "else:\n",
    "    # Extract rating and count values\n",
    "    ratings = [row[\"rating\"] for row in data]\n",
    "    counts = [row[\"count\"] for row in data]\n",
    "\n",
    "    # Create a Pandas DataFrame\n",
    "    histogram_df = pd.DataFrame({\"Rating\": ratings, \"Count\": counts})\n",
    "\n",
    "    # Create a histogram\n",
    "    plt.bar(histogram_df[\"Rating\"], histogram_df[\"Count\"], color='blue', edgecolor='black')\n",
    "\n",
    "    # Add labels and title\n",
    "    plt.xlabel(\"Rating\")\n",
    "    plt.ylabel(\"Frequency\")\n",
    "    plt.title(\"Histogram of Ratings\")\n",
    "\n",
    "    # Show the plot\n",
    "    plt.show()\n"
   ]
  },
  {
   "cell_type": "code",
   "execution_count": 53,
   "id": "eaca9742-82ac-4638-99f7-baecb8e8ee9d",
   "metadata": {},
   "outputs": [
    {
     "data": {
      "image/png": "[encoded data removed]",
      "text/plain": [
       "<Figure size 640x480 with 1 Axes>"
      ]
     },
     "metadata": {},
     "output_type": "display_data"
    }
   ],
   "source": [
    "import seaborn as sns\n",
    "import matplotlib.pyplot as plt\n",
    "\n",
    "# Assuming you have a Pandas DataFrame named `histogram_df`\n",
    "sns.histplot(data=histogram_df, x='Rating', kde=True)\n",
    "plt.xlabel('Ratings')\n",
    "plt.ylabel('Count')\n",
    "plt.xticks(range(6))\n",
    "plt.show()\n"
   ]
  },
  {
   "cell_type": "code",
   "execution_count": 54,
   "id": "d5e073f7-4a44-44d5-a2f3-47ad7170cae9",
   "metadata": {},
   "outputs": [
    {
     "name": "stdout",
     "output_type": "stream",
     "text": [
      "Collecting textblob\n",
      "  Downloading textblob-0.17.1-py2.py3-none-any.whl (636 kB)\n",
      "\u001b[2K     \u001b[90m━━━━━━━━━━━━━━━━━━━━━━━━━━━━━━━━━━━━━━\u001b[0m \u001b[32m636.8/636.8 kB\u001b[0m \u001b[31m11.3 MB/s\u001b[0m eta \u001b[36m0:00:00\u001b[0ma \u001b[36m0:00:01\u001b[0m\n",
      "\u001b[?25hRequirement already satisfied: nltk>=3.1 in /opt/conda/miniconda3/lib/python3.8/site-packages (from textblob) (3.6.4)\n",
      "Requirement already satisfied: click in /opt/conda/miniconda3/lib/python3.8/site-packages (from nltk>=3.1->textblob) (7.1.2)\n",
      "Requirement already satisfied: joblib in /opt/conda/miniconda3/lib/python3.8/site-packages (from nltk>=3.1->textblob) (1.3.2)\n",
      "Requirement already satisfied: regex in /opt/conda/miniconda3/lib/python3.8/site-packages (from nltk>=3.1->textblob) (2021.4.4)\n",
      "Requirement already satisfied: tqdm in /opt/conda/miniconda3/lib/python3.8/site-packages (from nltk>=3.1->textblob) (4.66.1)\n",
      "Installing collected packages: textblob\n",
      "Successfully installed textblob-0.17.1\n",
      "\u001b[33mWARNING: Running pip as the 'root' user can result in broken permissions and conflicting behaviour with the system package manager. It is recommended to use a virtual environment instead: https://pip.pypa.io/warnings/venv\u001b[0m\u001b[33m\n",
      "\u001b[0mNote: you may need to restart the kernel to use updated packages.\n"
     ]
    }
   ],
   "source": [
    "pip install textblob"
   ]
  },
  {
   "cell_type": "code",
   "execution_count": null,
   "id": "e39d7e34-d0ee-4f3c-9463-8673d9282d54",
   "metadata": {},
   "outputs": [],
   "source": [
    "# Perform sentiment analysis using a Python library like NLTK or TextBlob\n",
    "from pyspark.sql.functions import udf\n",
    "from pyspark.sql.types import StringType\n",
    "from textblob import TextBlob\n",
    "\n"
   ]
  },
  {
   "cell_type": "code",
   "execution_count": null,
   "id": "c0f8ecf1-bbe6-41c8-883d-19e2d90a5b34",
   "metadata": {},
   "outputs": [],
   "source": [
    "text_df = df_reviews_json_2.select(\"review_text\")"
   ]
  },
  {
   "cell_type": "code",
   "execution_count": null,
   "id": "a135eb60-739a-4962-9567-bfb2396fa45b",
   "metadata": {},
   "outputs": [],
   "source": [
    "# Define a UDF (User Defined Function) to apply TextBlob to the DataFrame\n",
    "def analyze_text(text):\n",
    "    if text:\n",
    "        analysis = TextBlob(text)\n",
    "        return analysis.sentiment.polarity\n",
    "    else:\n",
    "        return 0  # Or any default value you prefer"
   ]
  },
  {
   "cell_type": "code",
   "execution_count": null,
   "id": "7c025709-2bf2-4313-b18f-78654d033f8f",
   "metadata": {},
   "outputs": [],
   "source": [
    "# Register the UDF\n",
    "text_analysis_udf = udf(analyze_text, StringType())"
   ]
  },
  {
   "cell_type": "code",
   "execution_count": null,
   "id": "ffdff287-007e-494e-8c38-f81e7c4d0e64",
   "metadata": {},
   "outputs": [],
   "source": [
    "# Add a new column with the sentiment polarity score\n",
    "result_df = text_df.withColumn(\"sentiment_polarity\", text_analysis_udf(col(\"review_text\")))"
   ]
  },
  {
   "cell_type": "code",
   "execution_count": null,
   "id": "9af55603-4bbb-4c98-b848-8cd1106b5c7c",
   "metadata": {},
   "outputs": [],
   "source": [
    "from pyspark.sql.functions import col, udf"
   ]
  },
  {
   "cell_type": "code",
   "execution_count": null,
   "id": "0b8b9714-8963-42c5-99c8-0ce558890bb5",
   "metadata": {},
   "outputs": [],
   "source": [
    "result_df.show()"
   ]
  },
  {
   "cell_type": "code",
   "execution_count": null,
   "id": "40f35e0e-486a-45b3-b73f-31f5c4538843",
   "metadata": {},
   "outputs": [],
   "source": [
    "pip install textblob"
   ]
  },
  {
   "cell_type": "code",
   "execution_count": null,
   "id": "61785649-c5dc-44e5-bd73-515c1f939956",
   "metadata": {},
   "outputs": [],
   "source": [
    "import textblob"
   ]
  },
  {
   "cell_type": "code",
   "execution_count": 55,
   "id": "8e38151a-0883-4d3e-8084-37ca34a40b3f",
   "metadata": {},
   "outputs": [
    {
     "name": "stderr",
     "output_type": "stream",
     "text": [
      "                                                                                \r"
     ]
    },
    {
     "data": {
      "image/png": "[encoded data removed]",
      "text/plain": [
       "<Figure size 1000x600 with 1 Axes>"
      ]
     },
     "metadata": {},
     "output_type": "display_data"
    }
   ],
   "source": [
    "# Group by average_rating and count the books\n",
    "ratings_count = df_reviews_json.groupBy(\"average_rating\").count()\n",
    "\n",
    "# Convert the result to a Pandas DataFrame for plotting\n",
    "ratings_count_pd = ratings_count.toPandas()\n",
    "\n",
    "# Sort the DataFrame by average_rating\n",
    "ratings_count_pd = ratings_count_pd.sort_values(by=\"average_rating\")\n",
    "\n",
    "# Plot the bar chart\n",
    "plt.figure(figsize=(10, 6))\n",
    "plt.bar(ratings_count_pd[\"average_rating\"], ratings_count_pd[\"count\"], width=0.4, align=\"center\")\n",
    "plt.xlabel(\"Average Rating\")\n",
    "plt.ylabel(\"Number of Books\")\n",
    "plt.title(\"Number of Books by Average Rating\")\n",
    "plt.grid(axis=\"y\", linestyle=\"--\", alpha=0.7)\n",
    "plt.show()\n"
   ]
  },
  {
   "cell_type": "code",
   "execution_count": null,
   "id": "db1d23b3-e841-4193-8392-d0ab243bdde1",
   "metadata": {},
   "outputs": [],
   "source": [
    "from pyspark.sql.functions import col, desc"
   ]
  },
  {
   "cell_type": "code",
   "execution_count": 56,
   "id": "3ad03db6-de68-46a4-a56f-56ff32a19416",
   "metadata": {},
   "outputs": [
    {
     "name": "stderr",
     "output_type": "stream",
     "text": [
      "                                                                                \r"
     ]
    },
    {
     "data": {
      "image/png": "[encoded data removed]",
      "text/plain": [
       "<Figure size 1000x600 with 1 Axes>"
      ]
     },
     "metadata": {},
     "output_type": "display_data"
    }
   ],
   "source": [
    "from pyspark.sql import SparkSession\n",
    "from pyspark.sql.functions import desc\n",
    "import matplotlib.pyplot as plt\n",
    "\n",
    "# Group the data by book title and count the number of reviews for each book\n",
    "book_counts = resulting_reviews2.groupBy(\"title\").count()\n",
    "\n",
    "# Sort the books by count in descending order to get the top 20 books\n",
    "top_20_books = book_counts.orderBy(desc(\"count\")).limit(20)\n",
    "\n",
    "# Convert the result to a Pandas DataFrame for visualization\n",
    "top_20_books_df = top_20_books.toPandas()\n",
    "\n",
    "# Plot the bar chart\n",
    "plt.figure(figsize=(10, 6))\n",
    "plt.barh(top_20_books_df[\"title\"], top_20_books_df[\"count\"], color=\"skyblue\")\n",
    "plt.xlabel(\"Review Count\")\n",
    "plt.ylabel(\"Book Title\")\n",
    "plt.title(\"Top 20 Books by Review Count (by Book Title)\")\n",
    "plt.gca().invert_yaxis()  # Reverse the order to show the book with the most reviews at the top\n",
    "plt.show()"
   ]
  },
  {
   "cell_type": "code",
   "execution_count": 57,
   "id": "60f4af70-9648-4669-9aac-e86c112c7cd1",
   "metadata": {},
   "outputs": [
    {
     "name": "stderr",
     "output_type": "stream",
     "text": [
      "23/11/30 21:05:31 WARN org.apache.spark.sql.execution.window.WindowExec: No Partition Defined for Window operation! Moving all data to a single partition, this can cause serious performance degradation.\n",
      "23/11/30 21:05:31 WARN org.apache.spark.sql.execution.window.WindowExec: No Partition Defined for Window operation! Moving all data to a single partition, this can cause serious performance degradation.\n",
      "23/11/30 21:05:50 WARN org.apache.spark.sql.execution.window.WindowExec: No Partition Defined for Window operation! Moving all data to a single partition, this can cause serious performance degradation.\n",
      "23/11/30 21:05:55 WARN org.apache.spark.sql.execution.window.WindowExec: No Partition Defined for Window operation! Moving all data to a single partition, this can cause serious performance degradation.\n",
      "23/11/30 21:05:57 WARN org.apache.spark.sql.execution.window.WindowExec: No Partition Defined for Window operation! Moving all data to a single partition, this can cause serious performance degradation.\n",
      "23/11/30 21:06:01 WARN org.apache.spark.sql.execution.window.WindowExec: No Partition Defined for Window operation! Moving all data to a single partition, this can cause serious performance degradation.\n",
      "23/11/30 21:06:02 WARN org.apache.spark.sql.execution.window.WindowExec: No Partition Defined for Window operation! Moving all data to a single partition, this can cause serious performance degradation.\n",
      "23/11/30 21:06:02 WARN org.apache.spark.sql.execution.window.WindowExec: No Partition Defined for Window operation! Moving all data to a single partition, this can cause serious performance degradation.\n",
      "23/11/30 21:06:03 WARN org.apache.spark.sql.execution.window.WindowExec: No Partition Defined for Window operation! Moving all data to a single partition, this can cause serious performance degradation.\n",
      "23/11/30 21:06:03 WARN org.apache.spark.sql.execution.window.WindowExec: No Partition Defined for Window operation! Moving all data to a single partition, this can cause serious performance degradation.\n"
     ]
    },
    {
     "name": "stdout",
     "output_type": "stream",
     "text": [
      "+--------------------+----------+----+\n",
      "|               title|avg_rating|rank|\n",
      "+--------------------+----------+----+\n",
      "|Crafting Jewish: ...|       5.0|   1|\n",
      "|In Defense of Pol...|       5.0|   1|\n",
      "|Finding Sam - Par...|       5.0|   1|\n",
      "|Shadowed Passage ...|       5.0|   1|\n",
      "|Shadows from the ...|       5.0|   1|\n",
      "|Mayor of the Rose...|       5.0|   1|\n",
      "|Space Shuttle: Th...|       5.0|   1|\n",
      "|Wife Of Martin Gu...|       5.0|   1|\n",
      "|       All The Roads|       5.0|   1|\n",
      "|Nina e la malediz...|       5.0|   1|\n",
      "|Jesus and His Fri...|       5.0|   1|\n",
      "|     Vlastnou hlavou|       5.0|   1|\n",
      "|Forgotten Bodygua...|       5.0|   1|\n",
      "|To Deserve you, A...|       5.0|   1|\n",
      "|The Search for Ex...|       5.0|   1|\n",
      "|Анатомия на илюзиите|       5.0|   1|\n",
      "|Discovering Natur...|       5.0|   1|\n",
      "|Honey So Sweet, V...|       5.0|   1|\n",
      "|                Anam|       5.0|   1|\n",
      "|Explore the Bible...|       5.0|   1|\n",
      "+--------------------+----------+----+\n",
      "only showing top 20 rows\n",
      "\n"
     ]
    },
    {
     "name": "stderr",
     "output_type": "stream",
     "text": [
      "23/11/30 21:06:15 WARN org.apache.spark.sql.execution.window.WindowExec: No Partition Defined for Window operation! Moving all data to a single partition, this can cause serious performance degradation.\n",
      "23/11/30 21:06:19 WARN org.apache.spark.sql.execution.window.WindowExec: No Partition Defined for Window operation! Moving all data to a single partition, this can cause serious performance degradation.\n",
      "23/11/30 21:06:22 WARN org.apache.spark.sql.execution.window.WindowExec: No Partition Defined for Window operation! Moving all data to a single partition, this can cause serious performance degradation.\n",
      "23/11/30 21:06:25 WARN org.apache.spark.sql.execution.window.WindowExec: No Partition Defined for Window operation! Moving all data to a single partition, this can cause serious performance degradation.\n",
      "23/11/30 21:06:26 WARN org.apache.spark.sql.execution.window.WindowExec: No Partition Defined for Window operation! Moving all data to a single partition, this can cause serious performance degradation.\n",
      "23/11/30 21:06:26 WARN org.apache.spark.sql.execution.window.WindowExec: No Partition Defined for Window operation! Moving all data to a single partition, this can cause serious performance degradation.\n",
      "                                                                                \r"
     ]
    },
    {
     "ename": "NameError",
     "evalue": "name 'top_10_books_df' is not defined",
     "output_type": "error",
     "traceback": [
      "\u001b[0;31m---------------------------------------------------------------------------\u001b[0m",
      "\u001b[0;31mNameError\u001b[0m                                 Traceback (most recent call last)",
      "Cell \u001b[0;32mIn[57], line 25\u001b[0m\n\u001b[1;32m     23\u001b[0m \u001b[38;5;66;03m# Create a bar chart for the top 10 books with the highest average ratings\u001b[39;00m\n\u001b[1;32m     24\u001b[0m plt\u001b[38;5;241m.\u001b[39mfigure(figsize\u001b[38;5;241m=\u001b[39m(\u001b[38;5;241m10\u001b[39m, \u001b[38;5;241m6\u001b[39m))\n\u001b[0;32m---> 25\u001b[0m plt\u001b[38;5;241m.\u001b[39mbarh(\u001b[43mtop_10_books_df\u001b[49m[\u001b[38;5;124m\"\u001b[39m\u001b[38;5;124mtitle\u001b[39m\u001b[38;5;124m\"\u001b[39m], top_10_books_df[\u001b[38;5;124m\"\u001b[39m\u001b[38;5;124mavg_rating\u001b[39m\u001b[38;5;124m\"\u001b[39m], color\u001b[38;5;241m=\u001b[39m\u001b[38;5;124m\"\u001b[39m\u001b[38;5;124mskyblue\u001b[39m\u001b[38;5;124m\"\u001b[39m)\n\u001b[1;32m     26\u001b[0m plt\u001b[38;5;241m.\u001b[39mxlabel(\u001b[38;5;124m\"\u001b[39m\u001b[38;5;124mAverage Rating\u001b[39m\u001b[38;5;124m\"\u001b[39m)\n\u001b[1;32m     27\u001b[0m plt\u001b[38;5;241m.\u001b[39mylabel(\u001b[38;5;124m\"\u001b[39m\u001b[38;5;124mBook Title\u001b[39m\u001b[38;5;124m\"\u001b[39m)\n",
      "\u001b[0;31mNameError\u001b[0m: name 'top_10_books_df' is not defined"
     ]
    },
    {
     "data": {
      "text/plain": [
       "<Figure size 1000x600 with 0 Axes>"
      ]
     },
     "metadata": {},
     "output_type": "display_data"
    }
   ],
   "source": [
    "import pyspark.sql.functions as F\n",
    "from pyspark.sql.window import Window\n",
    "import matplotlib.pyplot as plt\n",
    "\n",
    "# Calculate the average rating for each book\n",
    "avg_ratings = resulting_reviews2.groupBy(\"title\").agg(F.avg(\"rating\").alias(\"avg_rating\"))\n",
    "\n",
    "# Create a window specification to rank books within each rating group\n",
    "window_spec = Window.orderBy(F.desc(\"avg_rating\"))\n",
    "\n",
    "# Add a rank column to the dataframe\n",
    "ranked_books = avg_ratings.withColumn(\"rank\", F.rank().over(window_spec))\n",
    "\n",
    "# Filter for the top 20 books\n",
    "top_20_books = ranked_books.filter(ranked_books[\"rank\"] <= 20)\n",
    "\n",
    "# Show the results\n",
    "top_20_books.show()\n",
    "\n",
    "# Convert the result to a Pandas DataFrame for visualization\n",
    "top_20_books_df = top_20_books.toPandas()\n",
    "\n",
    "# Create a bar chart for the top 10 books with the highest average ratings\n",
    "plt.figure(figsize=(10, 6))\n",
    "plt.barh(top_10_books_df[\"title\"], top_10_books_df[\"avg_rating\"], color=\"skyblue\")\n",
    "plt.xlabel(\"Average Rating\")\n",
    "plt.ylabel(\"Book Title\")\n",
    "plt.title(\"Top 10 Books with Highest Average Ratings\")\n",
    "plt.gca().invert_yaxis()  # Reverse the order to show the book with the highest rating at the top\n",
    "plt.show()"
   ]
  },
  {
   "cell_type": "code",
   "execution_count": null,
   "id": "1beb39da-67e7-40fa-bc32-b7111e0ef9c1",
   "metadata": {},
   "outputs": [],
   "source": [
    "pip install plotly"
   ]
  },
  {
   "cell_type": "code",
   "execution_count": null,
   "id": "873886ee-289b-410e-bd40-d92ed8e3bc40",
   "metadata": {},
   "outputs": [],
   "source": [
    "import pandas as pd\n",
    "import plotly.express as px\n",
    "\n",
    "# Assuming you have the resulting_reviews2 DataFrame loaded\n",
    "resulting_reviews2_pd = resulting_reviews2.toPandas()\n",
    "\n",
    "# Create interactive EDA plots\n",
    "fig = px.histogram(resulting_reviews2_pd, x='rating', title='Distribution of Ratings')\n",
    "fig.show()\n",
    "\n",
    "fig = px.histogram(resulting_reviews2_pd, x='num_pages', title='Distribution of Number of Pages')\n",
    "fig.show()\n",
    "\n",
    "fig = px.histogram(resulting_reviews2_pd, x='text_reviews_count', title='Distribution of Text Reviews Count')\n",
    "fig.show()\n",
    "\n",
    "fig = px.scatter(resulting_reviews2_pd, x='average_rating', y='ratings_count', title='Average Rating vs. Number of Ratings')\n",
    "fig.show()"
   ]
  },
  {
   "cell_type": "code",
   "execution_count": null,
   "id": "105d55ab-a26a-4910-a5ec-c299bf9af386",
   "metadata": {},
   "outputs": [],
   "source": [
    "resulting_reviews2.show(1,vertical=True)"
   ]
  },
  {
   "cell_type": "code",
   "execution_count": null,
   "id": "b244c505-3d38-41f5-8423-020dfc4ee538",
   "metadata": {},
   "outputs": [],
   "source": [
    "resulting_reviews2 = resulting_reviews2.drop(resulting_reviews2.columns[14])"
   ]
  },
  {
   "cell_type": "code",
   "execution_count": 59,
   "id": "e371d812-f306-4761-b289-37b0cb375900",
   "metadata": {},
   "outputs": [
    {
     "name": "stderr",
     "output_type": "stream",
     "text": [
      "23/11/30 21:12:08 WARN org.apache.spark.storage.BlockManager: Failed to fetch block after 1 fetch failures. Most recent failure cause:\n",
      "org.apache.spark.SparkException: Exception thrown in awaitResult: \n",
      "\tat org.apache.spark.util.ThreadUtils$.awaitResult(ThreadUtils.scala:301)\n",
      "\tat org.apache.spark.network.BlockTransferService.fetchBlockSync(BlockTransferService.scala:103)\n",
      "\tat org.apache.spark.storage.BlockManager.fetchRemoteManagedBuffer(BlockManager.scala:1069)\n",
      "\tat org.apache.spark.storage.BlockManager.$anonfun$getRemoteBlock$8(BlockManager.scala:1013)\n",
      "\tat scala.Option.orElse(Option.scala:447)\n",
      "\tat org.apache.spark.storage.BlockManager.getRemoteBlock(BlockManager.scala:1013)\n",
      "\tat org.apache.spark.storage.BlockManager.getRemoteBytes(BlockManager.scala:1151)\n",
      "\tat org.apache.spark.scheduler.TaskResultGetter$$anon$3.$anonfun$run$1(TaskResultGetter.scala:88)\n",
      "\tat scala.runtime.java8.JFunction0$mcV$sp.apply(JFunction0$mcV$sp.java:23)\n",
      "\tat org.apache.spark.util.Utils$.logUncaughtExceptions(Utils.scala:1996)\n",
      "\tat org.apache.spark.scheduler.TaskResultGetter$$anon$3.run(TaskResultGetter.scala:63)\n",
      "\tat java.util.concurrent.ThreadPoolExecutor.runWorker(ThreadPoolExecutor.java:1149)\n",
      "\tat java.util.concurrent.ThreadPoolExecutor$Worker.run(ThreadPoolExecutor.java:624)\n",
      "\tat java.lang.Thread.run(Thread.java:750)\n",
      "Caused by: java.util.concurrent.ExecutionException: Boxed Error\n",
      "\tat scala.concurrent.impl.Promise$.resolver(Promise.scala:87)\n",
      "\tat scala.concurrent.impl.Promise$.scala$concurrent$impl$Promise$$resolveTry(Promise.scala:79)\n",
      "\tat scala.concurrent.impl.Promise$DefaultPromise.tryComplete(Promise.scala:284)\n",
      "\tat scala.concurrent.Promise.complete(Promise.scala:53)\n",
      "\tat scala.concurrent.Promise.complete$(Promise.scala:52)\n",
      "\tat scala.concurrent.impl.Promise$DefaultPromise.complete(Promise.scala:187)\n",
      "\tat scala.concurrent.Promise.failure(Promise.scala:104)\n",
      "\tat scala.concurrent.Promise.failure$(Promise.scala:104)\n",
      "\tat scala.concurrent.impl.Promise$DefaultPromise.failure(Promise.scala:187)\n",
      "\tat org.apache.spark.network.BlockTransferService$$anon$1.onBlockFetchSuccess(BlockTransferService.scala:98)\n",
      "\tat org.apache.spark.network.shuffle.RetryingBlockFetcher$RetryingBlockFetchListener.onBlockFetchSuccess(RetryingBlockFetcher.java:216)\n",
      "\tat org.apache.spark.network.shuffle.OneForOneBlockFetcher$ChunkCallback.onSuccess(OneForOneBlockFetcher.java:190)\n",
      "\tat org.apache.spark.network.client.TransportResponseHandler.handle(TransportResponseHandler.java:171)\n",
      "\tat org.apache.spark.network.server.TransportChannelHandler.channelRead0(TransportChannelHandler.java:142)\n",
      "\tat org.apache.spark.network.server.TransportChannelHandler.channelRead0(TransportChannelHandler.java:53)\n",
      "\tat io.netty.channel.SimpleChannelInboundHandler.channelRead(SimpleChannelInboundHandler.java:99)\n",
      "\tat io.netty.channel.AbstractChannelHandlerContext.invokeChannelRead(AbstractChannelHandlerContext.java:379)\n",
      "\tat io.netty.channel.AbstractChannelHandlerContext.invokeChannelRead(AbstractChannelHandlerContext.java:365)\n",
      "\tat io.netty.channel.AbstractChannelHandlerContext.fireChannelRead(AbstractChannelHandlerContext.java:357)\n",
      "\tat io.netty.handler.timeout.IdleStateHandler.channelRead(IdleStateHandler.java:286)\n",
      "\tat io.netty.channel.AbstractChannelHandlerContext.invokeChannelRead(AbstractChannelHandlerContext.java:379)\n",
      "\tat io.netty.channel.AbstractChannelHandlerContext.invokeChannelRead(AbstractChannelHandlerContext.java:365)\n",
      "\tat io.netty.channel.AbstractChannelHandlerContext.fireChannelRead(AbstractChannelHandlerContext.java:357)\n",
      "\tat io.netty.handler.codec.MessageToMessageDecoder.channelRead(MessageToMessageDecoder.java:103)\n",
      "\tat io.netty.channel.AbstractChannelHandlerContext.invokeChannelRead(AbstractChannelHandlerContext.java:379)\n",
      "\tat io.netty.channel.AbstractChannelHandlerContext.invokeChannelRead(AbstractChannelHandlerContext.java:365)\n",
      "\tat io.netty.channel.AbstractChannelHandlerContext.fireChannelRead(AbstractChannelHandlerContext.java:357)\n",
      "\tat org.apache.spark.network.util.TransportFrameDecoder.channelRead(TransportFrameDecoder.java:102)\n",
      "\tat io.netty.channel.AbstractChannelHandlerContext.invokeChannelRead(AbstractChannelHandlerContext.java:379)\n",
      "\tat io.netty.channel.AbstractChannelHandlerContext.invokeChannelRead(AbstractChannelHandlerContext.java:365)\n",
      "\tat io.netty.channel.AbstractChannelHandlerContext.fireChannelRead(AbstractChannelHandlerContext.java:357)\n",
      "\tat io.netty.channel.DefaultChannelPipeline$HeadContext.channelRead(DefaultChannelPipeline.java:1410)\n",
      "\tat io.netty.channel.AbstractChannelHandlerContext.invokeChannelRead(AbstractChannelHandlerContext.java:379)\n",
      "\tat io.netty.channel.AbstractChannelHandlerContext.invokeChannelRead(AbstractChannelHandlerContext.java:365)\n",
      "\tat io.netty.channel.DefaultChannelPipeline.fireChannelRead(DefaultChannelPipeline.java:919)\n",
      "\tat io.netty.channel.nio.AbstractNioByteChannel$NioByteUnsafe.read(AbstractNioByteChannel.java:163)\n",
      "\tat io.netty.channel.nio.NioEventLoop.processSelectedKey(NioEventLoop.java:714)\n",
      "\tat io.netty.channel.nio.NioEventLoop.processSelectedKeysOptimized(NioEventLoop.java:650)\n",
      "\tat io.netty.channel.nio.NioEventLoop.processSelectedKeys(NioEventLoop.java:576)\n",
      "\tat io.netty.channel.nio.NioEventLoop.run(NioEventLoop.java:493)\n",
      "\tat io.netty.util.concurrent.SingleThreadEventExecutor$4.run(SingleThreadEventExecutor.java:989)\n",
      "\tat io.netty.util.internal.ThreadExecutorMap$2.run(ThreadExecutorMap.java:74)\n",
      "\tat io.netty.util.concurrent.FastThreadLocalRunnable.run(FastThreadLocalRunnable.java:30)\n",
      "\t... 1 more\n",
      "Caused by: java.lang.OutOfMemoryError: Java heap space\n",
      "23/11/30 21:12:08 WARN org.apache.spark.scheduler.TaskSetManager: Lost task 112.0 in stage 148.0 (TID 3680) (hub-msca-bdp-dphub-students-niagangar-w-1.c.msca-bdp-student-ap.internal executor 13): TaskResultLost (result lost from block manager)\n",
      "23/11/30 21:12:11 WARN org.apache.spark.storage.BlockManager: Failed to fetch block after 1 fetch failures. Most recent failure cause:\n",
      "org.apache.spark.SparkException: Exception thrown in awaitResult: \n",
      "\tat org.apache.spark.util.ThreadUtils$.awaitResult(ThreadUtils.scala:301)\n",
      "\tat org.apache.spark.network.BlockTransferService.fetchBlockSync(BlockTransferService.scala:103)\n",
      "\tat org.apache.spark.storage.BlockManager.fetchRemoteManagedBuffer(BlockManager.scala:1069)\n",
      "\tat org.apache.spark.storage.BlockManager.$anonfun$getRemoteBlock$8(BlockManager.scala:1013)\n",
      "\tat scala.Option.orElse(Option.scala:447)\n",
      "\tat org.apache.spark.storage.BlockManager.getRemoteBlock(BlockManager.scala:1013)\n",
      "\tat org.apache.spark.storage.BlockManager.getRemoteBytes(BlockManager.scala:1151)\n",
      "\tat org.apache.spark.scheduler.TaskResultGetter$$anon$3.$anonfun$run$1(TaskResultGetter.scala:88)\n",
      "\tat scala.runtime.java8.JFunction0$mcV$sp.apply(JFunction0$mcV$sp.java:23)\n",
      "\tat org.apache.spark.util.Utils$.logUncaughtExceptions(Utils.scala:1996)\n",
      "\tat org.apache.spark.scheduler.TaskResultGetter$$anon$3.run(TaskResultGetter.scala:63)\n",
      "\tat java.util.concurrent.ThreadPoolExecutor.runWorker(ThreadPoolExecutor.java:1149)\n",
      "\tat java.util.concurrent.ThreadPoolExecutor$Worker.run(ThreadPoolExecutor.java:624)\n",
      "\tat java.lang.Thread.run(Thread.java:750)\n",
      "Caused by: java.util.concurrent.ExecutionException: Boxed Error\n",
      "\tat scala.concurrent.impl.Promise$.resolver(Promise.scala:87)\n",
      "\tat scala.concurrent.impl.Promise$.scala$concurrent$impl$Promise$$resolveTry(Promise.scala:79)\n",
      "\tat scala.concurrent.impl.Promise$DefaultPromise.tryComplete(Promise.scala:284)\n",
      "\tat scala.concurrent.Promise.complete(Promise.scala:53)\n",
      "\tat scala.concurrent.Promise.complete$(Promise.scala:52)\n",
      "\tat scala.concurrent.impl.Promise$DefaultPromise.complete(Promise.scala:187)\n",
      "\tat scala.concurrent.Promise.failure(Promise.scala:104)\n",
      "\tat scala.concurrent.Promise.failure$(Promise.scala:104)\n",
      "\tat scala.concurrent.impl.Promise$DefaultPromise.failure(Promise.scala:187)\n",
      "\tat org.apache.spark.network.BlockTransferService$$anon$1.onBlockFetchSuccess(BlockTransferService.scala:98)\n",
      "\tat org.apache.spark.network.shuffle.RetryingBlockFetcher$RetryingBlockFetchListener.onBlockFetchSuccess(RetryingBlockFetcher.java:216)\n",
      "\tat org.apache.spark.network.shuffle.OneForOneBlockFetcher$ChunkCallback.onSuccess(OneForOneBlockFetcher.java:190)\n",
      "\tat org.apache.spark.network.client.TransportResponseHandler.handle(TransportResponseHandler.java:171)\n",
      "\tat org.apache.spark.network.server.TransportChannelHandler.channelRead0(TransportChannelHandler.java:142)\n",
      "\tat org.apache.spark.network.server.TransportChannelHandler.channelRead0(TransportChannelHandler.java:53)\n",
      "\tat io.netty.channel.SimpleChannelInboundHandler.channelRead(SimpleChannelInboundHandler.java:99)\n",
      "\tat io.netty.channel.AbstractChannelHandlerContext.invokeChannelRead(AbstractChannelHandlerContext.java:379)\n",
      "\tat io.netty.channel.AbstractChannelHandlerContext.invokeChannelRead(AbstractChannelHandlerContext.java:365)\n",
      "\tat io.netty.channel.AbstractChannelHandlerContext.fireChannelRead(AbstractChannelHandlerContext.java:357)\n",
      "\tat io.netty.handler.timeout.IdleStateHandler.channelRead(IdleStateHandler.java:286)\n",
      "\tat io.netty.channel.AbstractChannelHandlerContext.invokeChannelRead(AbstractChannelHandlerContext.java:379)\n",
      "\tat io.netty.channel.AbstractChannelHandlerContext.invokeChannelRead(AbstractChannelHandlerContext.java:365)\n",
      "\tat io.netty.channel.AbstractChannelHandlerContext.fireChannelRead(AbstractChannelHandlerContext.java:357)\n",
      "\tat io.netty.handler.codec.MessageToMessageDecoder.channelRead(MessageToMessageDecoder.java:103)\n",
      "\tat io.netty.channel.AbstractChannelHandlerContext.invokeChannelRead(AbstractChannelHandlerContext.java:379)\n",
      "\tat io.netty.channel.AbstractChannelHandlerContext.invokeChannelRead(AbstractChannelHandlerContext.java:365)\n",
      "\tat io.netty.channel.AbstractChannelHandlerContext.fireChannelRead(AbstractChannelHandlerContext.java:357)\n",
      "\tat org.apache.spark.network.util.TransportFrameDecoder.channelRead(TransportFrameDecoder.java:102)\n",
      "\tat io.netty.channel.AbstractChannelHandlerContext.invokeChannelRead(AbstractChannelHandlerContext.java:379)\n",
      "\tat io.netty.channel.AbstractChannelHandlerContext.invokeChannelRead(AbstractChannelHandlerContext.java:365)\n",
      "\tat io.netty.channel.AbstractChannelHandlerContext.fireChannelRead(AbstractChannelHandlerContext.java:357)\n",
      "\tat io.netty.channel.DefaultChannelPipeline$HeadContext.channelRead(DefaultChannelPipeline.java:1410)\n",
      "\tat io.netty.channel.AbstractChannelHandlerContext.invokeChannelRead(AbstractChannelHandlerContext.java:379)\n",
      "\tat io.netty.channel.AbstractChannelHandlerContext.invokeChannelRead(AbstractChannelHandlerContext.java:365)\n",
      "\tat io.netty.channel.DefaultChannelPipeline.fireChannelRead(DefaultChannelPipeline.java:919)\n",
      "\tat io.netty.channel.nio.AbstractNioByteChannel$NioByteUnsafe.read(AbstractNioByteChannel.java:163)\n",
      "\tat io.netty.channel.nio.NioEventLoop.processSelectedKey(NioEventLoop.java:714)\n",
      "\tat io.netty.channel.nio.NioEventLoop.processSelectedKeysOptimized(NioEventLoop.java:650)\n",
      "\tat io.netty.channel.nio.NioEventLoop.processSelectedKeys(NioEventLoop.java:576)\n",
      "\tat io.netty.channel.nio.NioEventLoop.run(NioEventLoop.java:493)\n",
      "\tat io.netty.util.concurrent.SingleThreadEventExecutor$4.run(SingleThreadEventExecutor.java:989)\n",
      "\tat io.netty.util.internal.ThreadExecutorMap$2.run(ThreadExecutorMap.java:74)\n",
      "\tat io.netty.util.concurrent.FastThreadLocalRunnable.run(FastThreadLocalRunnable.java:30)\n",
      "\t... 1 more\n",
      "Caused by: java.lang.OutOfMemoryError: Java heap space\n",
      "23/11/30 21:12:11 WARN org.apache.spark.scheduler.TaskSetManager: Lost task 89.0 in stage 148.0 (TID 3657) (hub-msca-bdp-dphub-students-niagangar-w-0.c.msca-bdp-student-ap.internal executor 18): TaskResultLost (result lost from block manager)\n"
     ]
    },
    {
     "ename": "AnalysisException",
     "evalue": "Reference 'book_id' is ambiguous, could be: book_id, book_id.",
     "output_type": "error",
     "traceback": [
      "\u001b[0;31m---------------------------------------------------------------------------\u001b[0m",
      "\u001b[0;31mAnalysisException\u001b[0m                         Traceback (most recent call last)",
      "Cell \u001b[0;32mIn[59], line 6\u001b[0m\n\u001b[1;32m      4\u001b[0m \u001b[38;5;66;03m# Scatter plot of average rating vs. text reviews count\u001b[39;00m\n\u001b[1;32m      5\u001b[0m plt\u001b[38;5;241m.\u001b[39mfigure(figsize\u001b[38;5;241m=\u001b[39m(\u001b[38;5;241m10\u001b[39m, \u001b[38;5;241m6\u001b[39m))\n\u001b[0;32m----> 6\u001b[0m \u001b[43msns\u001b[49m\u001b[38;5;241;43m.\u001b[39;49m\u001b[43mscatterplot\u001b[49m\u001b[43m(\u001b[49m\u001b[43mdata\u001b[49m\u001b[38;5;241;43m=\u001b[39;49m\u001b[43mresulting_reviews2\u001b[49m\u001b[43m,\u001b[49m\u001b[43m \u001b[49m\u001b[43mx\u001b[49m\u001b[38;5;241;43m=\u001b[39;49m\u001b[38;5;124;43m'\u001b[39;49m\u001b[38;5;124;43maverage_rating\u001b[39;49m\u001b[38;5;124;43m'\u001b[39;49m\u001b[43m,\u001b[49m\u001b[43m \u001b[49m\u001b[43my\u001b[49m\u001b[38;5;241;43m=\u001b[39;49m\u001b[38;5;124;43m'\u001b[39;49m\u001b[38;5;124;43mtext_reviews_count\u001b[39;49m\u001b[38;5;124;43m'\u001b[39;49m\u001b[43m)\u001b[49m\n\u001b[1;32m      7\u001b[0m plt\u001b[38;5;241m.\u001b[39mtitle(\u001b[38;5;124m'\u001b[39m\u001b[38;5;124mAverage Rating vs. Text Reviews Count\u001b[39m\u001b[38;5;124m'\u001b[39m)\n\u001b[1;32m      8\u001b[0m plt\u001b[38;5;241m.\u001b[39mxlabel(\u001b[38;5;124m'\u001b[39m\u001b[38;5;124mAverage Rating\u001b[39m\u001b[38;5;124m'\u001b[39m)\n",
      "File \u001b[0;32m/opt/conda/miniconda3/lib/python3.8/site-packages/seaborn/_decorators.py:46\u001b[0m, in \u001b[0;36m_deprecate_positional_args.<locals>.inner_f\u001b[0;34m(*args, **kwargs)\u001b[0m\n\u001b[1;32m     36\u001b[0m     warnings\u001b[38;5;241m.\u001b[39mwarn(\n\u001b[1;32m     37\u001b[0m         \u001b[38;5;124m\"\u001b[39m\u001b[38;5;124mPass the following variable\u001b[39m\u001b[38;5;132;01m{}\u001b[39;00m\u001b[38;5;124m as \u001b[39m\u001b[38;5;132;01m{}\u001b[39;00m\u001b[38;5;124mkeyword arg\u001b[39m\u001b[38;5;132;01m{}\u001b[39;00m\u001b[38;5;124m: \u001b[39m\u001b[38;5;132;01m{}\u001b[39;00m\u001b[38;5;124m. \u001b[39m\u001b[38;5;124m\"\u001b[39m\n\u001b[1;32m     38\u001b[0m         \u001b[38;5;124m\"\u001b[39m\u001b[38;5;124mFrom version 0.12, the only valid positional argument \u001b[39m\u001b[38;5;124m\"\u001b[39m\n\u001b[0;32m   (...)\u001b[0m\n\u001b[1;32m     43\u001b[0m         \u001b[38;5;167;01mFutureWarning\u001b[39;00m\n\u001b[1;32m     44\u001b[0m     )\n\u001b[1;32m     45\u001b[0m kwargs\u001b[38;5;241m.\u001b[39mupdate({k: arg \u001b[38;5;28;01mfor\u001b[39;00m k, arg \u001b[38;5;129;01min\u001b[39;00m \u001b[38;5;28mzip\u001b[39m(sig\u001b[38;5;241m.\u001b[39mparameters, args)})\n\u001b[0;32m---> 46\u001b[0m \u001b[38;5;28;01mreturn\u001b[39;00m \u001b[43mf\u001b[49m\u001b[43m(\u001b[49m\u001b[38;5;241;43m*\u001b[39;49m\u001b[38;5;241;43m*\u001b[39;49m\u001b[43mkwargs\u001b[49m\u001b[43m)\u001b[49m\n",
      "File \u001b[0;32m/opt/conda/miniconda3/lib/python3.8/site-packages/seaborn/relational.py:808\u001b[0m, in \u001b[0;36mscatterplot\u001b[0;34m(x, y, hue, style, size, data, palette, hue_order, hue_norm, sizes, size_order, size_norm, markers, style_order, x_bins, y_bins, units, estimator, ci, n_boot, alpha, x_jitter, y_jitter, legend, ax, **kwargs)\u001b[0m\n\u001b[1;32m    793\u001b[0m \u001b[38;5;129m@_deprecate_positional_args\u001b[39m\n\u001b[1;32m    794\u001b[0m \u001b[38;5;28;01mdef\u001b[39;00m \u001b[38;5;21mscatterplot\u001b[39m(\n\u001b[1;32m    795\u001b[0m     \u001b[38;5;241m*\u001b[39m,\n\u001b[0;32m   (...)\u001b[0m\n\u001b[1;32m    804\u001b[0m     legend\u001b[38;5;241m=\u001b[39m\u001b[38;5;124m\"\u001b[39m\u001b[38;5;124mauto\u001b[39m\u001b[38;5;124m\"\u001b[39m, ax\u001b[38;5;241m=\u001b[39m\u001b[38;5;28;01mNone\u001b[39;00m, \u001b[38;5;241m*\u001b[39m\u001b[38;5;241m*\u001b[39mkwargs\n\u001b[1;32m    805\u001b[0m ):\n\u001b[1;32m    807\u001b[0m     variables \u001b[38;5;241m=\u001b[39m _ScatterPlotter\u001b[38;5;241m.\u001b[39mget_semantics(\u001b[38;5;28mlocals\u001b[39m())\n\u001b[0;32m--> 808\u001b[0m     p \u001b[38;5;241m=\u001b[39m \u001b[43m_ScatterPlotter\u001b[49m\u001b[43m(\u001b[49m\n\u001b[1;32m    809\u001b[0m \u001b[43m        \u001b[49m\u001b[43mdata\u001b[49m\u001b[38;5;241;43m=\u001b[39;49m\u001b[43mdata\u001b[49m\u001b[43m,\u001b[49m\u001b[43m \u001b[49m\u001b[43mvariables\u001b[49m\u001b[38;5;241;43m=\u001b[39;49m\u001b[43mvariables\u001b[49m\u001b[43m,\u001b[49m\n\u001b[1;32m    810\u001b[0m \u001b[43m        \u001b[49m\u001b[43mx_bins\u001b[49m\u001b[38;5;241;43m=\u001b[39;49m\u001b[43mx_bins\u001b[49m\u001b[43m,\u001b[49m\u001b[43m \u001b[49m\u001b[43my_bins\u001b[49m\u001b[38;5;241;43m=\u001b[39;49m\u001b[43my_bins\u001b[49m\u001b[43m,\u001b[49m\n\u001b[1;32m    811\u001b[0m \u001b[43m        \u001b[49m\u001b[43mestimator\u001b[49m\u001b[38;5;241;43m=\u001b[39;49m\u001b[43mestimator\u001b[49m\u001b[43m,\u001b[49m\u001b[43m \u001b[49m\u001b[43mci\u001b[49m\u001b[38;5;241;43m=\u001b[39;49m\u001b[43mci\u001b[49m\u001b[43m,\u001b[49m\u001b[43m \u001b[49m\u001b[43mn_boot\u001b[49m\u001b[38;5;241;43m=\u001b[39;49m\u001b[43mn_boot\u001b[49m\u001b[43m,\u001b[49m\n\u001b[1;32m    812\u001b[0m \u001b[43m        \u001b[49m\u001b[43malpha\u001b[49m\u001b[38;5;241;43m=\u001b[39;49m\u001b[43malpha\u001b[49m\u001b[43m,\u001b[49m\u001b[43m \u001b[49m\u001b[43mx_jitter\u001b[49m\u001b[38;5;241;43m=\u001b[39;49m\u001b[43mx_jitter\u001b[49m\u001b[43m,\u001b[49m\u001b[43m \u001b[49m\u001b[43my_jitter\u001b[49m\u001b[38;5;241;43m=\u001b[39;49m\u001b[43my_jitter\u001b[49m\u001b[43m,\u001b[49m\u001b[43m \u001b[49m\u001b[43mlegend\u001b[49m\u001b[38;5;241;43m=\u001b[39;49m\u001b[43mlegend\u001b[49m\u001b[43m,\u001b[49m\n\u001b[1;32m    813\u001b[0m \u001b[43m    \u001b[49m\u001b[43m)\u001b[49m\n\u001b[1;32m    815\u001b[0m     p\u001b[38;5;241m.\u001b[39mmap_hue(palette\u001b[38;5;241m=\u001b[39mpalette, order\u001b[38;5;241m=\u001b[39mhue_order, norm\u001b[38;5;241m=\u001b[39mhue_norm)\n\u001b[1;32m    816\u001b[0m     p\u001b[38;5;241m.\u001b[39mmap_size(sizes\u001b[38;5;241m=\u001b[39msizes, order\u001b[38;5;241m=\u001b[39msize_order, norm\u001b[38;5;241m=\u001b[39msize_norm)\n",
      "File \u001b[0;32m/opt/conda/miniconda3/lib/python3.8/site-packages/seaborn/relational.py:587\u001b[0m, in \u001b[0;36m_ScatterPlotter.__init__\u001b[0;34m(self, data, variables, x_bins, y_bins, estimator, ci, n_boot, alpha, x_jitter, y_jitter, legend)\u001b[0m\n\u001b[1;32m    571\u001b[0m \u001b[38;5;28;01mdef\u001b[39;00m \u001b[38;5;21m__init__\u001b[39m(\n\u001b[1;32m    572\u001b[0m     \u001b[38;5;28mself\u001b[39m, \u001b[38;5;241m*\u001b[39m,\n\u001b[1;32m    573\u001b[0m     data\u001b[38;5;241m=\u001b[39m\u001b[38;5;28;01mNone\u001b[39;00m, variables\u001b[38;5;241m=\u001b[39m{},\n\u001b[0;32m   (...)\u001b[0m\n\u001b[1;32m    581\u001b[0m     \u001b[38;5;66;03m# the kind of plot to draw, but for the time being we need to set\u001b[39;00m\n\u001b[1;32m    582\u001b[0m     \u001b[38;5;66;03m# this information so the SizeMapping can use it\u001b[39;00m\n\u001b[1;32m    583\u001b[0m     \u001b[38;5;28mself\u001b[39m\u001b[38;5;241m.\u001b[39m_default_size_range \u001b[38;5;241m=\u001b[39m (\n\u001b[1;32m    584\u001b[0m         np\u001b[38;5;241m.\u001b[39mr_[\u001b[38;5;241m.5\u001b[39m, \u001b[38;5;241m2\u001b[39m] \u001b[38;5;241m*\u001b[39m np\u001b[38;5;241m.\u001b[39msquare(mpl\u001b[38;5;241m.\u001b[39mrcParams[\u001b[38;5;124m\"\u001b[39m\u001b[38;5;124mlines.markersize\u001b[39m\u001b[38;5;124m\"\u001b[39m])\n\u001b[1;32m    585\u001b[0m     )\n\u001b[0;32m--> 587\u001b[0m     \u001b[38;5;28;43msuper\u001b[39;49m\u001b[43m(\u001b[49m\u001b[43m)\u001b[49m\u001b[38;5;241;43m.\u001b[39;49m\u001b[38;5;21;43m__init__\u001b[39;49m\u001b[43m(\u001b[49m\u001b[43mdata\u001b[49m\u001b[38;5;241;43m=\u001b[39;49m\u001b[43mdata\u001b[49m\u001b[43m,\u001b[49m\u001b[43m \u001b[49m\u001b[43mvariables\u001b[49m\u001b[38;5;241;43m=\u001b[39;49m\u001b[43mvariables\u001b[49m\u001b[43m)\u001b[49m\n\u001b[1;32m    589\u001b[0m     \u001b[38;5;28mself\u001b[39m\u001b[38;5;241m.\u001b[39malpha \u001b[38;5;241m=\u001b[39m alpha\n\u001b[1;32m    590\u001b[0m     \u001b[38;5;28mself\u001b[39m\u001b[38;5;241m.\u001b[39mlegend \u001b[38;5;241m=\u001b[39m legend\n",
      "File \u001b[0;32m/opt/conda/miniconda3/lib/python3.8/site-packages/seaborn/_core.py:605\u001b[0m, in \u001b[0;36mVectorPlotter.__init__\u001b[0;34m(self, data, variables)\u001b[0m\n\u001b[1;32m    603\u001b[0m \u001b[38;5;28;01mdef\u001b[39;00m \u001b[38;5;21m__init__\u001b[39m(\u001b[38;5;28mself\u001b[39m, data\u001b[38;5;241m=\u001b[39m\u001b[38;5;28;01mNone\u001b[39;00m, variables\u001b[38;5;241m=\u001b[39m{}):\n\u001b[0;32m--> 605\u001b[0m     \u001b[38;5;28;43mself\u001b[39;49m\u001b[38;5;241;43m.\u001b[39;49m\u001b[43massign_variables\u001b[49m\u001b[43m(\u001b[49m\u001b[43mdata\u001b[49m\u001b[43m,\u001b[49m\u001b[43m \u001b[49m\u001b[43mvariables\u001b[49m\u001b[43m)\u001b[49m\n\u001b[1;32m    607\u001b[0m     \u001b[38;5;28;01mfor\u001b[39;00m var, \u001b[38;5;28mcls\u001b[39m \u001b[38;5;129;01min\u001b[39;00m \u001b[38;5;28mself\u001b[39m\u001b[38;5;241m.\u001b[39m_semantic_mappings\u001b[38;5;241m.\u001b[39mitems():\n\u001b[1;32m    608\u001b[0m \n\u001b[1;32m    609\u001b[0m         \u001b[38;5;66;03m# Create the mapping function\u001b[39;00m\n\u001b[1;32m    610\u001b[0m         map_func \u001b[38;5;241m=\u001b[39m partial(\u001b[38;5;28mcls\u001b[39m\u001b[38;5;241m.\u001b[39mmap, plotter\u001b[38;5;241m=\u001b[39m\u001b[38;5;28mself\u001b[39m)\n",
      "File \u001b[0;32m/opt/conda/miniconda3/lib/python3.8/site-packages/seaborn/_core.py:668\u001b[0m, in \u001b[0;36mVectorPlotter.assign_variables\u001b[0;34m(self, data, variables)\u001b[0m\n\u001b[1;32m    666\u001b[0m \u001b[38;5;28;01melse\u001b[39;00m:\n\u001b[1;32m    667\u001b[0m     \u001b[38;5;28mself\u001b[39m\u001b[38;5;241m.\u001b[39minput_format \u001b[38;5;241m=\u001b[39m \u001b[38;5;124m\"\u001b[39m\u001b[38;5;124mlong\u001b[39m\u001b[38;5;124m\"\u001b[39m\n\u001b[0;32m--> 668\u001b[0m     plot_data, variables \u001b[38;5;241m=\u001b[39m \u001b[38;5;28;43mself\u001b[39;49m\u001b[38;5;241;43m.\u001b[39;49m\u001b[43m_assign_variables_longform\u001b[49m\u001b[43m(\u001b[49m\n\u001b[1;32m    669\u001b[0m \u001b[43m        \u001b[49m\u001b[43mdata\u001b[49m\u001b[43m,\u001b[49m\u001b[43m \u001b[49m\u001b[38;5;241;43m*\u001b[39;49m\u001b[38;5;241;43m*\u001b[39;49m\u001b[43mvariables\u001b[49m\u001b[43m,\u001b[49m\n\u001b[1;32m    670\u001b[0m \u001b[43m    \u001b[49m\u001b[43m)\u001b[49m\n\u001b[1;32m    672\u001b[0m \u001b[38;5;28mself\u001b[39m\u001b[38;5;241m.\u001b[39mplot_data \u001b[38;5;241m=\u001b[39m plot_data\n\u001b[1;32m    673\u001b[0m \u001b[38;5;28mself\u001b[39m\u001b[38;5;241m.\u001b[39mvariables \u001b[38;5;241m=\u001b[39m variables\n",
      "File \u001b[0;32m/opt/conda/miniconda3/lib/python3.8/site-packages/seaborn/_core.py:882\u001b[0m, in \u001b[0;36mVectorPlotter._assign_variables_longform\u001b[0;34m(self, data, **kwargs)\u001b[0m\n\u001b[1;32m    873\u001b[0m \u001b[38;5;28;01mfor\u001b[39;00m key, val \u001b[38;5;129;01min\u001b[39;00m kwargs\u001b[38;5;241m.\u001b[39mitems():\n\u001b[1;32m    874\u001b[0m \n\u001b[1;32m    875\u001b[0m     \u001b[38;5;66;03m# First try to treat the argument as a key for the data collection.\u001b[39;00m\n\u001b[0;32m   (...)\u001b[0m\n\u001b[1;32m    878\u001b[0m     \u001b[38;5;66;03m# taking from the main data object. Only allow strings to reference\u001b[39;00m\n\u001b[1;32m    879\u001b[0m     \u001b[38;5;66;03m# fields in the index, because otherwise there is too much ambiguity.\u001b[39;00m\n\u001b[1;32m    880\u001b[0m     \u001b[38;5;28;01mtry\u001b[39;00m:\n\u001b[1;32m    881\u001b[0m         val_as_data_key \u001b[38;5;241m=\u001b[39m (\n\u001b[0;32m--> 882\u001b[0m             \u001b[43mval\u001b[49m\u001b[43m \u001b[49m\u001b[38;5;129;43;01min\u001b[39;49;00m\u001b[43m \u001b[49m\u001b[43mdata\u001b[49m\n\u001b[1;32m    883\u001b[0m             \u001b[38;5;129;01mor\u001b[39;00m (\u001b[38;5;28misinstance\u001b[39m(val, (\u001b[38;5;28mstr\u001b[39m, \u001b[38;5;28mbytes\u001b[39m)) \u001b[38;5;129;01mand\u001b[39;00m val \u001b[38;5;129;01min\u001b[39;00m index)\n\u001b[1;32m    884\u001b[0m         )\n\u001b[1;32m    885\u001b[0m     \u001b[38;5;28;01mexcept\u001b[39;00m (\u001b[38;5;167;01mKeyError\u001b[39;00m, \u001b[38;5;167;01mTypeError\u001b[39;00m):\n\u001b[1;32m    886\u001b[0m         val_as_data_key \u001b[38;5;241m=\u001b[39m \u001b[38;5;28;01mFalse\u001b[39;00m\n",
      "File \u001b[0;32m/usr/lib/spark/python/pyspark/sql/dataframe.py:1627\u001b[0m, in \u001b[0;36mDataFrame.__getitem__\u001b[0;34m(self, item)\u001b[0m\n\u001b[1;32m   1625\u001b[0m     \u001b[38;5;28;01mreturn\u001b[39;00m \u001b[38;5;28mself\u001b[39m\u001b[38;5;241m.\u001b[39mselect(\u001b[38;5;241m*\u001b[39mitem)\n\u001b[1;32m   1626\u001b[0m \u001b[38;5;28;01melif\u001b[39;00m \u001b[38;5;28misinstance\u001b[39m(item, \u001b[38;5;28mint\u001b[39m):\n\u001b[0;32m-> 1627\u001b[0m     jc \u001b[38;5;241m=\u001b[39m \u001b[38;5;28;43mself\u001b[39;49m\u001b[38;5;241;43m.\u001b[39;49m\u001b[43m_jdf\u001b[49m\u001b[38;5;241;43m.\u001b[39;49m\u001b[43mapply\u001b[49m\u001b[43m(\u001b[49m\u001b[38;5;28;43mself\u001b[39;49m\u001b[38;5;241;43m.\u001b[39;49m\u001b[43mcolumns\u001b[49m\u001b[43m[\u001b[49m\u001b[43mitem\u001b[49m\u001b[43m]\u001b[49m\u001b[43m)\u001b[49m\n\u001b[1;32m   1628\u001b[0m     \u001b[38;5;28;01mreturn\u001b[39;00m Column(jc)\n\u001b[1;32m   1629\u001b[0m \u001b[38;5;28;01melse\u001b[39;00m:\n",
      "File \u001b[0;32m/usr/lib/spark/python/lib/py4j-0.10.9-src.zip/py4j/java_gateway.py:1304\u001b[0m, in \u001b[0;36mJavaMember.__call__\u001b[0;34m(self, *args)\u001b[0m\n\u001b[1;32m   1298\u001b[0m command \u001b[38;5;241m=\u001b[39m proto\u001b[38;5;241m.\u001b[39mCALL_COMMAND_NAME \u001b[38;5;241m+\u001b[39m\\\n\u001b[1;32m   1299\u001b[0m     \u001b[38;5;28mself\u001b[39m\u001b[38;5;241m.\u001b[39mcommand_header \u001b[38;5;241m+\u001b[39m\\\n\u001b[1;32m   1300\u001b[0m     args_command \u001b[38;5;241m+\u001b[39m\\\n\u001b[1;32m   1301\u001b[0m     proto\u001b[38;5;241m.\u001b[39mEND_COMMAND_PART\n\u001b[1;32m   1303\u001b[0m answer \u001b[38;5;241m=\u001b[39m \u001b[38;5;28mself\u001b[39m\u001b[38;5;241m.\u001b[39mgateway_client\u001b[38;5;241m.\u001b[39msend_command(command)\n\u001b[0;32m-> 1304\u001b[0m return_value \u001b[38;5;241m=\u001b[39m \u001b[43mget_return_value\u001b[49m\u001b[43m(\u001b[49m\n\u001b[1;32m   1305\u001b[0m \u001b[43m    \u001b[49m\u001b[43manswer\u001b[49m\u001b[43m,\u001b[49m\u001b[43m \u001b[49m\u001b[38;5;28;43mself\u001b[39;49m\u001b[38;5;241;43m.\u001b[39;49m\u001b[43mgateway_client\u001b[49m\u001b[43m,\u001b[49m\u001b[43m \u001b[49m\u001b[38;5;28;43mself\u001b[39;49m\u001b[38;5;241;43m.\u001b[39;49m\u001b[43mtarget_id\u001b[49m\u001b[43m,\u001b[49m\u001b[43m \u001b[49m\u001b[38;5;28;43mself\u001b[39;49m\u001b[38;5;241;43m.\u001b[39;49m\u001b[43mname\u001b[49m\u001b[43m)\u001b[49m\n\u001b[1;32m   1307\u001b[0m \u001b[38;5;28;01mfor\u001b[39;00m temp_arg \u001b[38;5;129;01min\u001b[39;00m temp_args:\n\u001b[1;32m   1308\u001b[0m     temp_arg\u001b[38;5;241m.\u001b[39m_detach()\n",
      "File \u001b[0;32m/usr/lib/spark/python/pyspark/sql/utils.py:117\u001b[0m, in \u001b[0;36mcapture_sql_exception.<locals>.deco\u001b[0;34m(*a, **kw)\u001b[0m\n\u001b[1;32m    113\u001b[0m converted \u001b[38;5;241m=\u001b[39m convert_exception(e\u001b[38;5;241m.\u001b[39mjava_exception)\n\u001b[1;32m    114\u001b[0m \u001b[38;5;28;01mif\u001b[39;00m \u001b[38;5;129;01mnot\u001b[39;00m \u001b[38;5;28misinstance\u001b[39m(converted, UnknownException):\n\u001b[1;32m    115\u001b[0m     \u001b[38;5;66;03m# Hide where the exception came from that shows a non-Pythonic\u001b[39;00m\n\u001b[1;32m    116\u001b[0m     \u001b[38;5;66;03m# JVM exception message.\u001b[39;00m\n\u001b[0;32m--> 117\u001b[0m     \u001b[38;5;28;01mraise\u001b[39;00m converted \u001b[38;5;28;01mfrom\u001b[39;00m \u001b[38;5;28;01mNone\u001b[39;00m\n\u001b[1;32m    118\u001b[0m \u001b[38;5;28;01melse\u001b[39;00m:\n\u001b[1;32m    119\u001b[0m     \u001b[38;5;28;01mraise\u001b[39;00m\n",
      "\u001b[0;31mAnalysisException\u001b[0m: Reference 'book_id' is ambiguous, could be: book_id, book_id."
     ]
    },
    {
     "data": {
      "text/plain": [
       "<Figure size 1000x600 with 0 Axes>"
      ]
     },
     "metadata": {},
     "output_type": "display_data"
    },
    {
     "name": "stderr",
     "output_type": "stream",
     "text": [
      "23/11/30 21:12:15 WARN org.apache.spark.storage.BlockManager: Failed to fetch block after 1 fetch failures. Most recent failure cause:\n",
      "org.apache.spark.SparkException: Exception thrown in awaitResult: \n",
      "\tat org.apache.spark.util.ThreadUtils$.awaitResult(ThreadUtils.scala:301)\n",
      "\tat org.apache.spark.network.BlockTransferService.fetchBlockSync(BlockTransferService.scala:103)\n",
      "\tat org.apache.spark.storage.BlockManager.fetchRemoteManagedBuffer(BlockManager.scala:1069)\n",
      "\tat org.apache.spark.storage.BlockManager.$anonfun$getRemoteBlock$8(BlockManager.scala:1013)\n",
      "\tat scala.Option.orElse(Option.scala:447)\n",
      "\tat org.apache.spark.storage.BlockManager.getRemoteBlock(BlockManager.scala:1013)\n",
      "\tat org.apache.spark.storage.BlockManager.getRemoteBytes(BlockManager.scala:1151)\n",
      "\tat org.apache.spark.scheduler.TaskResultGetter$$anon$3.$anonfun$run$1(TaskResultGetter.scala:88)\n",
      "\tat scala.runtime.java8.JFunction0$mcV$sp.apply(JFunction0$mcV$sp.java:23)\n",
      "\tat org.apache.spark.util.Utils$.logUncaughtExceptions(Utils.scala:1996)\n",
      "\tat org.apache.spark.scheduler.TaskResultGetter$$anon$3.run(TaskResultGetter.scala:63)\n",
      "\tat java.util.concurrent.ThreadPoolExecutor.runWorker(ThreadPoolExecutor.java:1149)\n",
      "\tat java.util.concurrent.ThreadPoolExecutor$Worker.run(ThreadPoolExecutor.java:624)\n",
      "\tat java.lang.Thread.run(Thread.java:750)\n",
      "Caused by: java.util.concurrent.ExecutionException: Boxed Error\n",
      "\tat scala.concurrent.impl.Promise$.resolver(Promise.scala:87)\n",
      "\tat scala.concurrent.impl.Promise$.scala$concurrent$impl$Promise$$resolveTry(Promise.scala:79)\n",
      "\tat scala.concurrent.impl.Promise$DefaultPromise.tryComplete(Promise.scala:284)\n",
      "\tat scala.concurrent.Promise.complete(Promise.scala:53)\n",
      "\tat scala.concurrent.Promise.complete$(Promise.scala:52)\n",
      "\tat scala.concurrent.impl.Promise$DefaultPromise.complete(Promise.scala:187)\n",
      "\tat scala.concurrent.Promise.failure(Promise.scala:104)\n",
      "\tat scala.concurrent.Promise.failure$(Promise.scala:104)\n",
      "\tat scala.concurrent.impl.Promise$DefaultPromise.failure(Promise.scala:187)\n",
      "\tat org.apache.spark.network.BlockTransferService$$anon$1.onBlockFetchSuccess(BlockTransferService.scala:98)\n",
      "\tat org.apache.spark.network.shuffle.RetryingBlockFetcher$RetryingBlockFetchListener.onBlockFetchSuccess(RetryingBlockFetcher.java:216)\n",
      "\tat org.apache.spark.network.shuffle.OneForOneBlockFetcher$ChunkCallback.onSuccess(OneForOneBlockFetcher.java:190)\n",
      "\tat org.apache.spark.network.client.TransportResponseHandler.handle(TransportResponseHandler.java:171)\n",
      "\tat org.apache.spark.network.server.TransportChannelHandler.channelRead0(TransportChannelHandler.java:142)\n",
      "\tat org.apache.spark.network.server.TransportChannelHandler.channelRead0(TransportChannelHandler.java:53)\n",
      "\tat io.netty.channel.SimpleChannelInboundHandler.channelRead(SimpleChannelInboundHandler.java:99)\n",
      "\tat io.netty.channel.AbstractChannelHandlerContext.invokeChannelRead(AbstractChannelHandlerContext.java:379)\n",
      "\tat io.netty.channel.AbstractChannelHandlerContext.invokeChannelRead(AbstractChannelHandlerContext.java:365)\n",
      "\tat io.netty.channel.AbstractChannelHandlerContext.fireChannelRead(AbstractChannelHandlerContext.java:357)\n",
      "\tat io.netty.handler.timeout.IdleStateHandler.channelRead(IdleStateHandler.java:286)\n",
      "\tat io.netty.channel.AbstractChannelHandlerContext.invokeChannelRead(AbstractChannelHandlerContext.java:379)\n",
      "\tat io.netty.channel.AbstractChannelHandlerContext.invokeChannelRead(AbstractChannelHandlerContext.java:365)\n",
      "\tat io.netty.channel.AbstractChannelHandlerContext.fireChannelRead(AbstractChannelHandlerContext.java:357)\n",
      "\tat io.netty.handler.codec.MessageToMessageDecoder.channelRead(MessageToMessageDecoder.java:103)\n",
      "\tat io.netty.channel.AbstractChannelHandlerContext.invokeChannelRead(AbstractChannelHandlerContext.java:379)\n",
      "\tat io.netty.channel.AbstractChannelHandlerContext.invokeChannelRead(AbstractChannelHandlerContext.java:365)\n",
      "\tat io.netty.channel.AbstractChannelHandlerContext.fireChannelRead(AbstractChannelHandlerContext.java:357)\n",
      "\tat org.apache.spark.network.util.TransportFrameDecoder.channelRead(TransportFrameDecoder.java:102)\n",
      "\tat io.netty.channel.AbstractChannelHandlerContext.invokeChannelRead(AbstractChannelHandlerContext.java:379)\n",
      "\tat io.netty.channel.AbstractChannelHandlerContext.invokeChannelRead(AbstractChannelHandlerContext.java:365)\n",
      "\tat io.netty.channel.AbstractChannelHandlerContext.fireChannelRead(AbstractChannelHandlerContext.java:357)\n",
      "\tat io.netty.channel.DefaultChannelPipeline$HeadContext.channelRead(DefaultChannelPipeline.java:1410)\n",
      "\tat io.netty.channel.AbstractChannelHandlerContext.invokeChannelRead(AbstractChannelHandlerContext.java:379)\n",
      "\tat io.netty.channel.AbstractChannelHandlerContext.invokeChannelRead(AbstractChannelHandlerContext.java:365)\n",
      "\tat io.netty.channel.DefaultChannelPipeline.fireChannelRead(DefaultChannelPipeline.java:919)\n",
      "\tat io.netty.channel.nio.AbstractNioByteChannel$NioByteUnsafe.read(AbstractNioByteChannel.java:163)\n",
      "\tat io.netty.channel.nio.NioEventLoop.processSelectedKey(NioEventLoop.java:714)\n",
      "\tat io.netty.channel.nio.NioEventLoop.processSelectedKeysOptimized(NioEventLoop.java:650)\n",
      "\tat io.netty.channel.nio.NioEventLoop.processSelectedKeys(NioEventLoop.java:576)\n",
      "\tat io.netty.channel.nio.NioEventLoop.run(NioEventLoop.java:493)\n",
      "\tat io.netty.util.concurrent.SingleThreadEventExecutor$4.run(SingleThreadEventExecutor.java:989)\n",
      "\tat io.netty.util.internal.ThreadExecutorMap$2.run(ThreadExecutorMap.java:74)\n",
      "\tat io.netty.util.concurrent.FastThreadLocalRunnable.run(FastThreadLocalRunnable.java:30)\n",
      "\t... 1 more\n",
      "Caused by: java.lang.OutOfMemoryError: Java heap space\n",
      "23/11/30 21:12:15 WARN org.apache.spark.storage.BlockManager: Failed to fetch block after 1 fetch failures. Most recent failure cause:\n",
      "org.apache.spark.SparkException: Exception thrown in awaitResult: \n",
      "\tat org.apache.spark.util.ThreadUtils$.awaitResult(ThreadUtils.scala:301)\n",
      "\tat org.apache.spark.network.BlockTransferService.fetchBlockSync(BlockTransferService.scala:103)\n",
      "\tat org.apache.spark.storage.BlockManager.fetchRemoteManagedBuffer(BlockManager.scala:1069)\n",
      "\tat org.apache.spark.storage.BlockManager.$anonfun$getRemoteBlock$8(BlockManager.scala:1013)\n",
      "\tat scala.Option.orElse(Option.scala:447)\n",
      "\tat org.apache.spark.storage.BlockManager.getRemoteBlock(BlockManager.scala:1013)\n",
      "\tat org.apache.spark.storage.BlockManager.getRemoteBytes(BlockManager.scala:1151)\n",
      "\tat org.apache.spark.scheduler.TaskResultGetter$$anon$3.$anonfun$run$1(TaskResultGetter.scala:88)\n",
      "\tat scala.runtime.java8.JFunction0$mcV$sp.apply(JFunction0$mcV$sp.java:23)\n",
      "\tat org.apache.spark.util.Utils$.logUncaughtExceptions(Utils.scala:1996)\n",
      "\tat org.apache.spark.scheduler.TaskResultGetter$$anon$3.run(TaskResultGetter.scala:63)\n",
      "\tat java.util.concurrent.ThreadPoolExecutor.runWorker(ThreadPoolExecutor.java:1149)\n",
      "\tat java.util.concurrent.ThreadPoolExecutor$Worker.run(ThreadPoolExecutor.java:624)\n",
      "\tat java.lang.Thread.run(Thread.java:750)\n",
      "Caused by: java.util.concurrent.ExecutionException: Boxed Error\n",
      "\tat scala.concurrent.impl.Promise$.resolver(Promise.scala:87)\n",
      "\tat scala.concurrent.impl.Promise$.scala$concurrent$impl$Promise$$resolveTry(Promise.scala:79)\n",
      "\tat scala.concurrent.impl.Promise$DefaultPromise.tryComplete(Promise.scala:284)\n",
      "\tat scala.concurrent.Promise.complete(Promise.scala:53)\n",
      "\tat scala.concurrent.Promise.complete$(Promise.scala:52)\n",
      "\tat scala.concurrent.impl.Promise$DefaultPromise.complete(Promise.scala:187)\n",
      "\tat scala.concurrent.Promise.failure(Promise.scala:104)\n",
      "\tat scala.concurrent.Promise.failure$(Promise.scala:104)\n",
      "\tat scala.concurrent.impl.Promise$DefaultPromise.failure(Promise.scala:187)\n",
      "\tat org.apache.spark.network.BlockTransferService$$anon$1.onBlockFetchSuccess(BlockTransferService.scala:98)\n",
      "\tat org.apache.spark.network.shuffle.RetryingBlockFetcher$RetryingBlockFetchListener.onBlockFetchSuccess(RetryingBlockFetcher.java:216)\n",
      "\tat org.apache.spark.network.shuffle.OneForOneBlockFetcher$ChunkCallback.onSuccess(OneForOneBlockFetcher.java:190)\n",
      "\tat org.apache.spark.network.client.TransportResponseHandler.handle(TransportResponseHandler.java:171)\n",
      "\tat org.apache.spark.network.server.TransportChannelHandler.channelRead0(TransportChannelHandler.java:142)\n",
      "\tat org.apache.spark.network.server.TransportChannelHandler.channelRead0(TransportChannelHandler.java:53)\n",
      "\tat io.netty.channel.SimpleChannelInboundHandler.channelRead(SimpleChannelInboundHandler.java:99)\n",
      "\tat io.netty.channel.AbstractChannelHandlerContext.invokeChannelRead(AbstractChannelHandlerContext.java:379)\n",
      "\tat io.netty.channel.AbstractChannelHandlerContext.invokeChannelRead(AbstractChannelHandlerContext.java:365)\n",
      "\tat io.netty.channel.AbstractChannelHandlerContext.fireChannelRead(AbstractChannelHandlerContext.java:357)\n",
      "\tat io.netty.handler.timeout.IdleStateHandler.channelRead(IdleStateHandler.java:286)\n",
      "\tat io.netty.channel.AbstractChannelHandlerContext.invokeChannelRead(AbstractChannelHandlerContext.java:379)\n",
      "\tat io.netty.channel.AbstractChannelHandlerContext.invokeChannelRead(AbstractChannelHandlerContext.java:365)\n",
      "\tat io.netty.channel.AbstractChannelHandlerContext.fireChannelRead(AbstractChannelHandlerContext.java:357)\n",
      "\tat io.netty.handler.codec.MessageToMessageDecoder.channelRead(MessageToMessageDecoder.java:103)\n",
      "\tat io.netty.channel.AbstractChannelHandlerContext.invokeChannelRead(AbstractChannelHandlerContext.java:379)\n",
      "\tat io.netty.channel.AbstractChannelHandlerContext.invokeChannelRead(AbstractChannelHandlerContext.java:365)\n",
      "\tat io.netty.channel.AbstractChannelHandlerContext.fireChannelRead(AbstractChannelHandlerContext.java:357)\n",
      "\tat org.apache.spark.network.util.TransportFrameDecoder.channelRead(TransportFrameDecoder.java:102)\n",
      "\tat io.netty.channel.AbstractChannelHandlerContext.invokeChannelRead(AbstractChannelHandlerContext.java:379)\n",
      "\tat io.netty.channel.AbstractChannelHandlerContext.invokeChannelRead(AbstractChannelHandlerContext.java:365)\n",
      "\tat io.netty.channel.AbstractChannelHandlerContext.fireChannelRead(AbstractChannelHandlerContext.java:357)\n",
      "\tat io.netty.channel.DefaultChannelPipeline$HeadContext.channelRead(DefaultChannelPipeline.java:1410)\n",
      "\tat io.netty.channel.AbstractChannelHandlerContext.invokeChannelRead(AbstractChannelHandlerContext.java:379)\n",
      "\tat io.netty.channel.AbstractChannelHandlerContext.invokeChannelRead(AbstractChannelHandlerContext.java:365)\n",
      "\tat io.netty.channel.DefaultChannelPipeline.fireChannelRead(DefaultChannelPipeline.java:919)\n",
      "\tat io.netty.channel.nio.AbstractNioByteChannel$NioByteUnsafe.read(AbstractNioByteChannel.java:163)\n",
      "\tat io.netty.channel.nio.NioEventLoop.processSelectedKey(NioEventLoop.java:714)\n",
      "\tat io.netty.channel.nio.NioEventLoop.processSelectedKeysOptimized(NioEventLoop.java:650)\n",
      "\tat io.netty.channel.nio.NioEventLoop.processSelectedKeys(NioEventLoop.java:576)\n",
      "\tat io.netty.channel.nio.NioEventLoop.run(NioEventLoop.java:493)\n",
      "\tat io.netty.util.concurrent.SingleThreadEventExecutor$4.run(SingleThreadEventExecutor.java:989)\n",
      "\tat io.netty.util.internal.ThreadExecutorMap$2.run(ThreadExecutorMap.java:74)\n",
      "\tat io.netty.util.concurrent.FastThreadLocalRunnable.run(FastThreadLocalRunnable.java:30)\n",
      "\t... 1 more\n",
      "Caused by: java.lang.OutOfMemoryError: Java heap space\n",
      "23/11/30 21:12:15 WARN org.apache.spark.scheduler.TaskSetManager: Lost task 99.0 in stage 148.0 (TID 3667) (hub-msca-bdp-dphub-students-niagangar-w-0.c.msca-bdp-student-ap.internal executor 19): TaskResultLost (result lost from block manager)\n",
      "23/11/30 21:12:15 WARN org.apache.spark.scheduler.TaskSetManager: Lost task 107.0 in stage 148.0 (TID 3675) (hub-msca-bdp-dphub-students-niagangar-w-1.c.msca-bdp-student-ap.internal executor 13): TaskResultLost (result lost from block manager)\n",
      "[Stage 148:==================>                                 (73 + 127) / 200]\r"
     ]
    }
   ],
   "source": [
    "import pandas as pd\n",
    "import matplotlib.pyplot as plt\n",
    "import seaborn as sns\n",
    "# Scatter plot of average rating vs. text reviews count\n",
    "plt.figure(figsize=(10, 6))\n",
    "sns.scatterplot(data=resulting_reviews2, x='average_rating', y='text_reviews_count')\n",
    "plt.title('Average Rating vs. Text Reviews Count')\n",
    "plt.xlabel('Average Rating')\n",
    "plt.ylabel('Text Reviews Count')\n",
    "plt.grid()\n",
    "plt.show()"
   ]
  },
  {
   "cell_type": "code",
   "execution_count": null,
   "id": "9bfeaa8a-5403-4544-8546-5f39b1a7f71e",
   "metadata": {},
   "outputs": [],
   "source": [
    "from pyspark.sql.functions import col\n",
    "import matplotlib.pyplot as plt\n",
    "\n",
    "# Assuming 'publication_month' and 'publication_day' are columns in your PySpark DataFrame\n",
    "\n",
    "# Calculate the monthly and daily counts using PySpark operations\n",
    "monthly_counts = resulting_reviews2.groupBy(\"publication_month\").count().orderBy(\"publication_month\").toPandas()\n",
    "daily_counts = resulting_reviews2.groupBy(\"publication_day\").count().orderBy(\"publication_day\").toPandas()\n",
    "\n",
    "# Create subplots for the plots\n",
    "fig, axes = plt.subplots(1, 2, figsize=(12, 6))\n",
    "\n",
    "# Plot the monthly trend\n",
    "axes[0].plot(monthly_counts['publication_month'], monthly_counts['count'], marker='o', linestyle='-')\n",
    "axes[0].set_title('Publication Month Trends')\n",
    "axes[0].set_xlabel('Month')\n",
    "axes[0].set_ylabel('Number of Books Published')\n",
    "axes[0].grid()\n",
    "\n",
    "# Plot the daily trend\n",
    "axes[1].plot(daily_counts['publication_day'], daily_counts['count'], marker='o', linestyle='-')\n",
    "axes[1].set_title('Publication Day Trends')\n",
    "axes[1].set_xlabel('Day of the Month')\n",
    "axes[1].set_ylabel('Number of Books Published')\n",
    "axes[1].grid()\n",
    "\n",
    "plt.tight_layout()\n",
    "plt.show()\n"
   ]
  },
  {
   "cell_type": "code",
   "execution_count": null,
   "id": "5b38a486-3b65-443a-9b82-3f7f22383047",
   "metadata": {},
   "outputs": [],
   "source": [
    "pip install wordcloud matplotlib"
   ]
  },
  {
   "cell_type": "code",
   "execution_count": null,
   "id": "ba8479f5-894f-4e6d-8819-220f474a2442",
   "metadata": {},
   "outputs": [],
   "source": [
    "from wordcloud import WordCloud\n",
    "import matplotlib.pyplot as plt\n",
    "\n",
    "# Concatenate all review texts into a single string\n",
    "all_reviews_text = resulting_reviews2.selectExpr(\"concat_ws(' ', collect_list(review_text)) as combined_text\").first()['combined_text']\n",
    "\n",
    "# Generate the word cloud from the combined text\n",
    "generate_wordcloud(all_reviews_text)"
   ]
  },
  {
   "cell_type": "code",
   "execution_count": null,
   "id": "e638f51b-709d-426e-9ee5-98168229fd1f",
   "metadata": {},
   "outputs": [],
   "source": [
    "import nltk\n",
    "from nltk.corpus import stopwords\n",
    "from nltk.tokenize import word_tokenize\n",
    "from nltk.stem import WordNetLemmatizer\n",
    "import string\n",
    "from pyspark.sql.functions import udf\n",
    "from pyspark.sql.types import StringType\n",
    "\n",
    "# Download NLTK data (if not already downloaded)\n",
    "nltk.download('stopwords')\n",
    "nltk.download('punkt')\n",
    "nltk.download('wordnet')\n",
    "\n",
    "# Define a UDF (User-Defined Function) to preprocess text\n",
    "def preprocess_text(text):\n",
    "    # Lowercase the text\n",
    "    text = text.lower()\n",
    "    \n",
    "    # Tokenize the text\n",
    "    words = word_tokenize(text)\n",
    "    \n",
    "    # Remove stopwords and punctuation\n",
    "    stopwords_set = set(stopwords.words('english'))\n",
    "    words = [word for word in words if word not in stopwords_set and word not in string.punctuation]\n",
    "    \n",
    "    # Lemmatize words\n",
    "    lemmatizer = WordNetLemmatizer()\n",
    "    words = [lemmatizer.lemmatize(word) for word in words]\n",
    "    \n",
    "    # Rejoin the processed words to form cleaned text\n",
    "    cleaned_text = ' '.join(words)\n",
    "    \n",
    "    return cleaned_text\n",
    "\n",
    "# Register the UDF with Spark\n",
    "preprocess_udf = udf(preprocess_text, StringType())\n",
    "\n",
    "# Apply the UDF to the review_text column\n",
    "resulting_reviews2 = resulting_reviews2.withColumn(\"cleaned_review_text\", preprocess_udf(resulting_reviews2[\"review_text\"]))\n",
    "\n",
    "# Show the DataFrame with the cleaned review text\n",
    "resulting_reviews2.select(\"review_text\", \"cleaned_review_text\").show(truncate=False)"
   ]
  },
  {
   "cell_type": "code",
   "execution_count": null,
   "id": "b2aa0cbd-13ca-4efc-b1d6-59dfaa18cbe5",
   "metadata": {},
   "outputs": [],
   "source": [
    "!pip install nltk==3.6"
   ]
  },
  {
   "cell_type": "code",
   "execution_count": null,
   "id": "3ff4dd07-252c-405c-ac8f-42addcc474c2",
   "metadata": {},
   "outputs": [],
   "source": []
  },
  {
   "cell_type": "code",
   "execution_count": null,
   "id": "29e47829-dade-4606-964f-ff6f3b387b0e",
   "metadata": {},
   "outputs": [],
   "source": [
    "!pip install regex --upgrade"
   ]
  },
  {
   "cell_type": "code",
   "execution_count": null,
   "id": "5ed7cdd2-94d1-457a-a439-afd5e9940259",
   "metadata": {},
   "outputs": [],
   "source": [
    "import pandas as pd\n",
    "from wordcloud import WordCloud\n",
    "import matplotlib.pyplot as plt\n",
    "from nltk.corpus import stopwords\n",
    "from nltk.tokenize import word_tokenize\n",
    "from nltk.stem import WordNetLemmatizer\n",
    "\n",
    "nltk.download('stopwords')\n",
    "nltk.download('punkt')"
   ]
  },
  {
   "cell_type": "code",
   "execution_count": null,
   "id": "286b5816-0786-462c-b103-2340ae06e3a2",
   "metadata": {},
   "outputs": [],
   "source": [
    "# Replace NLTK tokenization with whitespace-based split\n",
    "def preprocess_text(text):\n",
    "    # Lowercase the text\n",
    "    text = text.lower()\n",
    " \n",
    "    # Tokenize the text using whitespace split\n",
    "    words = text.split()\n",
    " \n",
    "    # Remove stopwords and punctuation\n",
    "    stopwords_set = set(stopwords.words('english'))\n",
    "    words = [word for word in words if word not in stopwords_set and word not in string.punctuation]\n",
    " \n",
    "    # Lemmatize words\n",
    "    lemmatizer = WordNetLemmatizer()\n",
    "    words = [lemmatizer.lemmatize(word) for word in words]\n",
    " \n",
    "    # Rejoin the processed words to form cleaned text\n",
    "    cleaned_text = ' '.join(words)\n",
    " \n",
    "    return cleaned_text"
   ]
  },
  {
   "cell_type": "code",
   "execution_count": null,
   "id": "a18a42b3-fece-4308-8f10-fad99dff29da",
   "metadata": {},
   "outputs": [],
   "source": [
    "import nltk\n",
    "from nltk.corpus import stopwords\n",
    "from nltk.tokenize import word_tokenize\n",
    "from nltk.stem import WordNetLemmatizer\n",
    "import string\n",
    "from pyspark.sql.functions import udf\n",
    "from pyspark.sql.types import StringType\n",
    "\n",
    "# Download NLTK data (if not already downloaded)\n",
    "nltk.download('stopwords')\n",
    "nltk.download('punkt')\n",
    "nltk.download('wordnet')\n",
    "\n",
    "# Define a UDF (User-Defined Function) to preprocess text\n",
    "def preprocess_text(text):\n",
    "    # Lowercase the text\n",
    "    text = text.lower()\n",
    "    \n",
    "    # Tokenize the text\n",
    "    words = word_tokenize(text)\n",
    "    \n",
    "    # Remove stopwords and punctuation\n",
    "    stopwords_set = set(stopwords.words('english'))\n",
    "    words = [word for word in words if word not in stopwords_set and word not in string.punctuation]\n",
    "    \n",
    "    # Lemmatize words\n",
    "    lemmatizer = WordNetLemmatizer()\n",
    "    words = [lemmatizer.lemmatize(word) for word in words]\n",
    "    \n",
    "    # Rejoin the processed words to form cleaned text\n",
    "    cleaned_text = ' '.join(words)\n",
    "    \n",
    "    return cleaned_text\n",
    "\n",
    "# Register the UDF with Spark\n",
    "preprocess_udf = udf(preprocess_text, StringType())\n",
    "\n",
    "# Apply the UDF to the review_text column\n",
    "resulting_reviews2 = resulting_reviews2.withColumn(\"cleaned_review_text\", preprocess_udf(resulting_reviews2[\"review_text\"]))\n",
    "\n",
    "# Show the DataFrame with the cleaned review text\n",
    "resulting_reviews2.select(\"review_text\", \"cleaned_review_text\").show(truncate=False)"
   ]
  },
  {
   "cell_type": "code",
   "execution_count": null,
   "id": "e7460d1e-99ab-4098-87d4-27051759f441",
   "metadata": {},
   "outputs": [],
   "source": [
    "import nltk\n",
    "nltk.download('popular', quiet=True)"
   ]
  },
  {
   "cell_type": "code",
   "execution_count": null,
   "id": "204bd632-d669-409d-a5d2-ff58cb6ba581",
   "metadata": {},
   "outputs": [],
   "source": [
    "from nltk.corpus import stopwords\n",
    "from nltk.tokenize import word_tokenize\n",
    "from nltk.stem import WordNetLemmatizer"
   ]
  },
  {
   "cell_type": "code",
   "execution_count": null,
   "id": "0efe9aeb-1544-4cb2-8731-f6f7547165f8",
   "metadata": {},
   "outputs": [],
   "source": [
    "from sparknlp.base import DocumentAssembler\n",
    "from sparknlp.annotator import Tokenizer\n",
    "from sparknlp.annotator import Normalizer\n",
    "from sparknlp.annotator import LemmatizerModel\n"
   ]
  },
  {
   "cell_type": "code",
   "execution_count": null,
   "id": "8ea84cdd-51d0-4c82-9b99-ffd8e49910cb",
   "metadata": {},
   "outputs": [],
   "source": [
    "import sparknlp\n",
    "from sparknlp.base import *\n",
    "from sparknlp.annotator import *\n",
    "from pyspark.ml import Pipeline\n",
    "from pyspark.sql import SparkSession\n",
    "\n",
    "# Initialize Spark NLP\n",
    "spark = SparkSession.builder \\\n",
    "    .appName(\"WordCloud\") \\\n",
    "    .getOrCreate()\n",
    "sparknlp.start()\n",
    "\n",
    "# Define a sample DataFrame with your text data\n",
    "data = [(\"This is a sample sentence.\"),\n",
    "        (\"Another sentence to demonstrate.\"),\n",
    "        (\"You can use your DataFrame here.\")]\n",
    "\n",
    "columns = [\"text\"]\n",
    "df = spark.createDataFrame(data, columns)"
   ]
  },
  {
   "cell_type": "code",
   "execution_count": null,
   "id": "12b92a52-6195-4191-ad1a-6d0cbc092ad8",
   "metadata": {},
   "outputs": [],
   "source": [
    "from pyspark.sql import SparkSession\n",
    "import matplotlib.pyplot as plt\n",
    "\n",
    "# Create a Spark session\n",
    "spark = SparkSession.builder.appName(\"Scatterplot\").getOrCreate()\n",
    "\n",
    "# Extract the relevant columns\n",
    "reviews_data = resulting_reviews2.select(\"num_pages\", \"text_reviews_count\").dropna()\n",
    "\n",
    "# Convert the data to Pandas for plotting\n",
    "reviews_data_pandas = reviews_data.toPandas()\n",
    "\n",
    "# Create a scatterplot using Matplotlib\n",
    "plt.figure(figsize=(10, 6))\n",
    "plt.scatter(reviews_data_pandas[\"num_pages\"], reviews_data_pandas[\"text_reviews_count\"], alpha=0.5)\n",
    "plt.title(\"Scatterplot of Number of Reviews vs. Number of Pages\")\n",
    "plt.xlabel(\"Number of Pages\")\n",
    "plt.ylabel(\"Number of Reviews\")\n",
    "plt.grid(True)\n",
    "\n",
    "# Show the scatterplot\n",
    "plt.show()\n"
   ]
  },
  {
   "cell_type": "code",
   "execution_count": null,
   "id": "ebad6c42-5f57-4375-bd2c-68774c9baa45",
   "metadata": {},
   "outputs": [],
   "source": [
    "from pyspark.sql import SparkSession\n",
    "import pandas as pd\n",
    "import matplotlib.pyplot as plt\n",
    "\n",
    "# Initialize a Spark session\n",
    "spark = SparkSession.builder.appName(\"EDA\").getOrCreate()\n",
    "\n",
    "# Assuming resulting_reviews2 is your DataFrame\n",
    "# If not, you can load it from a source like CSV, Parquet, etc.\n",
    "\n",
    "# Register the DataFrame as a temporary SQL table\n",
    "resulting_reviews2.createOrReplaceTempView(\"reviews_table\")\n",
    "\n",
    "# Identify most popular authors based on average ratings\n",
    "top_authors_query = \"\"\"\n",
    "    SELECT authors[0].id AS author_id, AVG(rating) AS avg_rating\n",
    "    FROM reviews_table\n",
    "    WHERE authors[0].id IS NOT NULL\n",
    "    GROUP BY authors[0].id\n",
    "    ORDER BY avg_rating DESC\n",
    "    LIMIT 10\n",
    "\"\"\"\n",
    "\n",
    "# Identify most loved books based on highest average rating and most reviews\n",
    "top_books_query = \"\"\"\n",
    "    SELECT title, AVG(rating) AS avg_rating, COUNT(*) AS review_count\n",
    "    FROM reviews_table\n",
    "    GROUP BY title\n",
    "    HAVING COUNT(*) > 10  -- Consider books with at least 10 reviews\n",
    "    ORDER BY avg_rating DESC, review_count DESC\n",
    "    LIMIT 10\n",
    "\"\"\"\n",
    "\n",
    "# Run SQL queries\n",
    "top_authors_df = spark.sql(top_authors_query).toPandas()\n",
    "top_books_df = spark.sql(top_books_query).toPandas()\n",
    "\n",
    "# Visualize most popular authors\n",
    "plt.figure(figsize=(12, 6))\n",
    "plt.bar(top_authors_df['author_id'], top_authors_df['avg_rating'])\n",
    "plt.title('Top 10 Most Popular Authors (Based on Average Ratings)')\n",
    "plt.xlabel('Author ID')\n",
    "plt.ylabel('Average Rating')\n",
    "plt.show()\n",
    "\n",
    "# Visualize most loved books\n",
    "plt.figure(figsize=(12, 6))\n",
    "top_books_df.plot(kind='bar', x='title', y='avg_rating', legend=False)\n",
    "plt.title('Top 10 Most Loved Books (Based on Average Ratings and Review Count)')\n",
    "plt.xlabel('Book Title')\n",
    "plt.ylabel('Average Rating')\n",
    "plt.show()\n"
   ]
  },
  {
   "cell_type": "code",
   "execution_count": 30,
   "id": "97af041f-75cd-401a-a07c-bbb7cd1f1941",
   "metadata": {},
   "outputs": [
    {
     "name": "stderr",
     "output_type": "stream",
     "text": [
      "                                                                                \r"
     ]
    },
    {
     "data": {
      "image/png": "[encoded data removed]",
      "text/plain": [
       "<Figure size 1000x600 with 1 Axes>"
      ]
     },
     "metadata": {},
     "output_type": "display_data"
    }
   ],
   "source": [
    "from pyspark.sql import SparkSession\n",
    "from pyspark.sql.functions import col\n",
    "import matplotlib.pyplot as plt\n",
    "\n",
    "# Create a Spark session\n",
    "spark = SparkSession.builder.appName(\"Scatterplot\").getOrCreate()\n",
    "\n",
    "# Assuming resulting_reviews2 is your DataFrame\n",
    "# If not, you can load it from a source like CSV, Parquet, etc.\n",
    "\n",
    "# Register the DataFrame as a temporary SQL table\n",
    "resulting_reviews2.createOrReplaceTempView(\"reviews_table\")\n",
    "\n",
    "# SQL query to extract relevant columns and convert to integers\n",
    "scatterplot_query = \"\"\"\n",
    "    SELECT CAST(num_pages AS INT) AS num_pages, CAST(text_reviews_count AS INT) AS text_reviews_count\n",
    "    FROM reviews_table\n",
    "    WHERE num_pages IS NOT NULL AND text_reviews_count IS NOT NULL\n",
    "    AND text_reviews_count > 0 AND num_pages > 20\n",
    "    LIMIT 50000\n",
    "\"\"\"\n",
    "\n",
    "# Run the SQL query\n",
    "scatterplot_data = spark.sql(scatterplot_query)\n",
    "\n",
    "# Convert the data to Pandas for plotting\n",
    "scatterplot_data_pandas = scatterplot_data.toPandas()\n",
    "\n",
    "# Create a scatterplot using Matplotlib\n",
    "plt.figure(figsize=(10, 6))\n",
    "plt.scatter(scatterplot_data_pandas[\"num_pages\"], scatterplot_data_pandas[\"text_reviews_count\"], alpha=0.5)\n",
    "plt.title(\"Scatterplot of Number of Reviews vs. Number of Pages\")\n",
    "plt.xlabel(\"Number of Pages\")\n",
    "plt.ylabel(\"Number of Reviews\")\n",
    "plt.grid(True)\n",
    "\n",
    "# Set the minimum value of the x-axis to 20\n",
    "plt.xlim(20, max(scatterplot_data_pandas[\"num_pages\"]))\n",
    "\n",
    "# Show the scatterplot\n",
    "plt.show()"
   ]
  },
  {
   "cell_type": "code",
   "execution_count": null,
   "id": "acd72e72-791b-4b72-b75b-000a8f1fad84",
   "metadata": {},
   "outputs": [],
   "source": [
    "# Popular E-books\n",
    "popular_ebooks_query = \"\"\"\n",
    "    SELECT title, ratings_count\n",
    "    FROM reviews_table\n",
    "    WHERE is_ebook = true\n",
    "    ORDER BY ratings_count DESC\n",
    "    LIMIT 10\n",
    "\"\"\"\n",
    "\n",
    "# Run SQL query\n",
    "popular_ebooks_df = spark.sql(popular_ebooks_query).toPandas()\n",
    "\n",
    "# Visualize popular e-books\n",
    "# (You can use a bar chart or any other visualization)"
   ]
  },
  {
   "cell_type": "code",
   "execution_count": null,
   "id": "bd2f4b98-212b-46e6-b4f7-aaef781f9a81",
   "metadata": {},
   "outputs": [],
   "source": [
    "from pyspark.sql import SparkSession\n",
    "import matplotlib.pyplot as plt\n",
    "import numpy as np\n",
    "\n",
    "# Create a Spark session\n",
    "spark = SparkSession.builder.appName(\"GroupedBarChart\").getOrCreate()\n",
    "\n",
    "# Assuming resulting_reviews2 is your DataFrame\n",
    "# If not, you can load it from a source like CSV, Parquet, etc.\n",
    "\n",
    "# Register the DataFrame as a temporary SQL table\n",
    "resulting_reviews2.createOrReplaceTempView(\"reviews_table\")\n",
    "\n",
    "# SQL query to get average ratings and number of reviews per book, ordered by most reviews\n",
    "ratings_reviews_query = \"\"\"\n",
    "    SELECT\n",
    "        title,\n",
    "        AVG(rating) AS avg_rating,\n",
    "        COUNT(*) AS num_reviews\n",
    "    FROM reviews_table\n",
    "    WHERE rating IS NOT NULL AND text_reviews_count IS NOT NULL\n",
    "    GROUP BY title\n",
    "    HAVING num_reviews > 0\n",
    "    ORDER BY num_reviews DESC\n",
    "    LIMIT 20  -- Limiting to top 20 for visualization\n",
    "\"\"\"\n",
    "\n",
    "# Run SQL query\n",
    "ratings_reviews_df = spark.sql(ratings_reviews_query).toPandas()\n",
    "\n",
    "# Create a grouped bar chart\n",
    "fig, ax1 = plt.subplots(figsize=(14, 6))\n",
    "\n",
    "# Set the positions of the bars on the x-axis\n",
    "bar_width = 0.35\n",
    "index = np.arange(len(ratings_reviews_df[\"title\"]))\n",
    "\n",
    "# Plot average ratings on the left y-axis\n",
    "ax1.bar(index, ratings_reviews_df[\"avg_rating\"], bar_width, label='Average Rating', color='b', alpha=0.7)\n",
    "ax1.set_xlabel('Book Title')\n",
    "ax1.set_ylabel('Average Rating', color='b')\n",
    "ax1.set_title('Comparison of Ratings and Number of Reviews per Book (Ordered by Most Reviews)')\n",
    "ax1.set_xticks(index + bar_width / 2)\n",
    "ax1.set_xticklabels(ratings_reviews_df[\"title\"], rotation=45, ha='right')\n",
    "ax1.tick_params(axis='y', labelcolor='b')\n",
    "\n",
    "# Create a second y-axis for the number of reviews on the right\n",
    "ax2 = ax1.twinx()\n",
    "ax2.bar(index + bar_width, ratings_reviews_df[\"num_reviews\"], bar_width, label='Number of Reviews', color='r', alpha=0.7)\n",
    "ax2.set_ylabel('Number of Reviews', color='r')\n",
    "ax2.tick_params(axis='y', labelcolor='r')\n",
    "\n",
    "fig.tight_layout()\n",
    "plt.show()"
   ]
  },
  {
   "cell_type": "code",
   "execution_count": null,
   "id": "5cb30b79-19a8-453e-b24d-a653758a4b18",
   "metadata": {},
   "outputs": [],
   "source": [
    "# SQL query to get the number of reviews over time (excluding NaN)\n",
    "reviews_over_time_query = \"\"\"\n",
    "    SELECT\n",
    "        CONCAT(YEAR(date_added), '-', LPAD(MONTH(date_added), 2, '0')) AS year_month,\n",
    "        COUNT(*) AS num_reviews\n",
    "    FROM reviews_table\n",
    "    WHERE date_added IS NOT NULL\n",
    "    GROUP BY YEAR(date_added), MONTH(date_added)\n",
    "    ORDER BY year_month\n",
    "\"\"\"\n",
    "\n",
    "# Run SQL query\n",
    "reviews_over_time_df = spark.sql(reviews_over_time_query).toPandas()\n",
    "\n",
    "# Visualize number of reviews over time\n",
    "plt.figure(figsize=(12, 6))\n",
    "plt.plot(reviews_over_time_df[\"year_month\"], reviews_over_time_df[\"num_reviews\"], marker='o')\n",
    "plt.title('Number of Reviews Over Time (excluding NaN)')\n",
    "plt.xlabel('Year-Month')\n",
    "plt.ylabel('Number of Reviews')\n",
    "plt.xticks(rotation=45, ha='right')\n",
    "plt.show()"
   ]
  },
  {
   "cell_type": "code",
   "execution_count": null,
   "id": "641e9c93-4632-49e6-89cd-26feeb7a4d43",
   "metadata": {},
   "outputs": [],
   "source": [
    "# Average rating of ebooks vs. print books\n",
    "avg_rating_comparison_query = \"\"\"\n",
    "    SELECT is_ebook, AVG(rating) AS avg_rating\n",
    "    FROM reviews_table\n",
    "    WHERE is_ebook IS NOT NULL AND rating IS NOT NULL\n",
    "    GROUP BY is_ebook\n",
    "\"\"\"\n",
    "\n",
    "# Run SQL query\n",
    "avg_rating_comparison_df = spark.sql(avg_rating_comparison_query).toPandas()\n",
    "\n",
    "# Visualize average rating comparison\n",
    "plt.figure(figsize=(8, 6))\n",
    "plt.bar(avg_rating_comparison_df[\"is_ebook\"].astype(str), avg_rating_comparison_df[\"avg_rating\"], color=['skyblue', 'salmon'], alpha=0.7)\n",
    "plt.title('Average Rating Comparison: E-books vs. Print Books')\n",
    "plt.xlabel('Book Type')\n",
    "plt.ylabel('Average Rating')\n",
    "plt.show()"
   ]
  },
  {
   "cell_type": "code",
   "execution_count": null,
   "id": "55c19de1-7059-42dd-93ec-ab008d2ef18a",
   "metadata": {},
   "outputs": [],
   "source": [
    "from pyspark.sql import SparkSession\n",
    "from pyspark.sql.functions import col\n",
    "import matplotlib.pyplot as plt\n",
    "\n",
    "# Create a Spark session\n",
    "spark = SparkSession.builder.appName(\"EbookEDA\").getOrCreate()\n",
    "\n",
    "# Assuming resulting_reviews2 is your DataFrame\n",
    "# If not, you can load it from a source like CSV, Parquet, etc.\n",
    "\n",
    "# Sample DataFrame (replace this with your actual DataFrame)\n",
    "# You can load your DataFrame using spark.read.csv, spark.read.parquet, etc.\n",
    "data = [\n",
    "    (10000761, \"2022-11-09\", \"2022-03-18\", 0, 0, 3, \"2022-03-18\", \"91898414e53b123a0\", \"Interesting subject\", \"2022-02-12\", \"6cff11a0530eeddeb\", \"\", \"[{215985, }]\", 3.50, 10000761, \"US\", \"AN INVESTIGATION\", \"\", \"Hardcover\", \"https://images.example.com\", False, \"038553132X\", \"9780385531320\", \"B004J4WKWE\", \"en-GB\", \"https://www.example.com\", 432, \"[{611, to-read}, ...\", 7, 6, 2011, \"Crown\", 136, \"[]\", \"[183973, 6369613, ...]\", 33, \"Render Unto Rome\", \"Render Unto Rome\", \"https://www.example.com\", 14895765)\n",
    "]\n",
    "\n",
    "columns = [\n",
    "    \"book_id\", \"date_added\", \"date_updated\", \"n_comments\", \"n_votes\", \"rating\", \"read_at\", \"review_id\", \"review_text\", \"started_at\", \"user_id\", \"asin\", \"authors\", \"average_rating\", \"book_id\", \"country_code\", \"description\", \"edition_information\", \"format\", \"image_url\", \"is_ebook\", \"isbn\", \"isbn13\", \"kindle_asin\", \"language_code\", \"link\", \"num_pages\", \"popular_shelves\", \"publication_day\", \"publication_month\", \"publication_year\", \"publisher\", \"ratings_count\", \"series\", \"similar_books\", \"text_reviews_count\", \"title\", \"title_without_series\", \"url\", \"work_id\"\n",
    "]\n",
    "\n",
    "resulting_reviews2 = spark.createDataFrame(data, columns)\n",
    "\n",
    "# Filter for ebooks (is_ebook = 1)\n",
    "ebooks_df = resulting_reviews2.filter(col(\"is_ebook\") == 1)\n",
    "\n",
    "# Select columns of interest\n",
    "ebooks_reviews_df = ebooks_df.select(\"title\", \"ratings_count\", \"text_reviews_count\")\n",
    "\n",
    "# Order by text_reviews_count in descending order to get most reviews\n",
    "ebooks_reviews_df = ebooks_reviews_df.orderBy(col(\"text_reviews_count\").desc())\n",
    "\n",
    "# Show the DataFrame\n",
    "ebooks_reviews_df.show(truncate=False)\n",
    "\n",
    "# Convert the DataFrame to Pandas for plotting\n",
    "ebooks_reviews_pandas = ebooks_reviews_df.toPandas()\n",
    "\n",
    "# Create a bar chart for ebooks with the most reviews\n",
    "plt.figure(figsize=(12, 6))\n",
    "plt.bar(ebooks_reviews_pandas[\"title\"], ebooks_reviews_pandas[\"text_reviews_count\"], color='skyblue', alpha=0.7)\n",
    "plt.title('Top E-books with Most Reviews')\n",
    "plt.xlabel('E-book Title')\n",
    "plt.ylabel('Number of Reviews')\n",
    "plt.xticks(rotation=45, ha='right')\n",
    "plt.show()"
   ]
  },
  {
   "cell_type": "code",
   "execution_count": null,
   "id": "5a6c37ed-8f05-4802-8181-9ea409880e42",
   "metadata": {},
   "outputs": [],
   "source": [
    "from pyspark.sql import SparkSession\n",
    "from pyspark.sql.functions import col\n",
    "import matplotlib.pyplot as plt\n",
    "\n",
    "# Create a Spark session\n",
    "spark = SparkSession.builder.appName(\"BookAnalysis\").getOrCreate()\n",
    "\n",
    "# Assuming resulting_reviews2 is your DataFrame\n",
    "# If not, you can load it from a source like CSV, Parquet, etc.\n",
    "# Replace the sample data below with your actual DataFrame.\n",
    "\n",
    "# Sample DataFrame\n",
    "data = [\n",
    "    (10000761, \"Wed Nov 09 05:41:00 +0000 2022\", \"Sun Mar 18 14:45:00 +0000 2022\", 0, 0, 3, \"Sun Mar 18 14:45:00 +0000 2022\", \"91898414e53b123a0\", \"Interesting subject\", \"Sun Feb 12 00:00:00 +0000 2022\", \"6cff11a0530eeddeb\", \"\", \"[{215985, }]\", 3.50, 10000761, \"US\", \"AN INVESTIGATION\", \"\", \"Hardcover\", \"https://images.example.com\", False, \"038553132X\", \"9780385531320\", \"B004J4WKWE\", \"en-GB\", \"https://www.goodreads.com/book/show/10000761\", 432, \"[{611, to-read}, ...\", 7, 6, 2011, \"Crown\", 136, \"[]\", \"[183973, 6369613, ...]\", 33, \"Render Unto Rome: The Secret Life of Money in the Catholic Church\", \"Render Unto Rome: The Secret Life of Money in the Catholic Church\", \"https://www.goodreads.com/book/show/10000761\", 14895765),\n",
    "    # Add more rows as needed\n",
    "]\n",
    "\n",
    "columns = [\n",
    "    \"book_id\", \"date_added\", \"date_updated\", \"n_comments\", \"n_votes\", \"rating\", \"read_at\", \"review_id\", \"review_text\", \"started_at\", \"user_id\", \"asin\", \"authors\", \"average_rating\", \"book_id\", \"country_code\", \"description\", \"edition_information\", \"format\", \"image_url\", \"is_ebook\", \"isbn\", \"isbn13\", \"kindle_asin\", \"language_code\", \"link\", \"num_pages\", \"popular_shelves\", \"publication_day\", \"publication_month\", \"publication_year\", \"publisher\", \"ratings_count\", \"series\", \"similar_books\", \"text_reviews_count\", \"title\", \"title_without_series\", \"url\", \"work_id\"\n",
    "]\n",
    "\n",
    "resulting_reviews2 = spark.createDataFrame(data, columns)\n",
    "\n",
    "# Show a summary of the DataFrame\n",
    "resulting_reviews2.printSchema()\n",
    "\n",
    "# Display the first few rows of the DataFrame\n",
    "resulting_reviews2.show(5, truncate=False)\n",
    "\n",
    "# Summary statistics for numeric columns\n",
    "resulting_reviews2.describe([\"n_comments\", \"n_votes\", \"rating\", \"num_pages\", \"ratings_count\", \"text_reviews_count\"]).show()\n",
    "\n",
    "# Distribution of Ratings\n",
    "rating_distribution = resulting_reviews2.groupBy(\"rating\").count().orderBy(\"rating\")\n",
    "rating_distribution.show()\n",
    "\n",
    "# Number of Reviews vs. Number of Pages\n",
    "reviews_vs_pages = resulting_reviews2.select(\"num_pages\", \"text_reviews_count\").dropna()\n",
    "reviews_vs_pages.describe([\"num_pages\", \"text_reviews_count\"]).show()\n",
    "\n",
    "# Create a scatter plot for Number of Reviews vs. Number of Pages\n",
    "reviews_vs_pages.toPandas().plot.scatter(x=\"num_pages\", y=\"text_reviews_count\", alpha=0.5)\n",
    "plt.title(\"Scatterplot of Number of Reviews vs. Number of Pages\")\n",
    "plt.xlabel(\"Number of Pages\")\n",
    "plt.ylabel(\"Number of Reviews\")\n",
    "plt.grid(True)\n",
    "plt.show()\n"
   ]
  },
  {
   "cell_type": "code",
   "execution_count": null,
   "id": "900e65a6-6b89-4a50-bc42-83a2f3fbfd72",
   "metadata": {},
   "outputs": [],
   "source": [
    "from pyspark.sql import SparkSession\n",
    "from graphframes import GraphFrame\n",
    "\n",
    "# Create a Spark session\n",
    "spark = SparkSession.builder.appName(\"InfluentialBooks\").getOrCreate()\n",
    "\n",
    "# Assuming 'resulting_reviews2' is your DataFrame with columns 'user_id', 'book_id', 'rating', etc.\n",
    "\n",
    "# Create vertices DataFrame\n",
    "vertices = resulting_reviews2.select(\"user_id\").distinct().withColumnRenamed(\"user_id\", \"id\")\n",
    "\n",
    "# Create edges DataFrame\n",
    "edges = resulting_reviews2.select(\"user_id\", \"book_id\", \"rating\").withColumnRenamed(\"user_id\", \"src\").withColumnRenamed(\"book_id\", \"dst\")\n",
    "\n",
    "# Create a GraphFrame\n",
    "g = GraphFrame(vertices, edges)\n",
    "\n",
    "# Apply PageRank to identify influential books\n",
    "page_rank_result = g.pageRank(resetProbability=0.15, maxIter=10)\n",
    "\n",
    "# Show the top influential books\n",
    "influential_books = page_rank_result.vertices.orderBy(\"pagerank\", ascending=False).limit(10)\n",
    "influential_books.show()\n",
    "\n",
    "# Optionally, visualize the graph (requires graphframes and matplotlib)\n",
    "# g.vertices.show()\n",
    "# g.edges.show()\n",
    "# g.degrees.show()\n",
    "\n",
    "# Stop the Spark session\n",
    "spark.stop()\n"
   ]
  },
  {
   "cell_type": "code",
   "execution_count": 32,
   "id": "69245767-c588-4f86-9128-5970cd473f31",
   "metadata": {},
   "outputs": [
    {
     "name": "stderr",
     "output_type": "stream",
     "text": [
      "Exception in thread \"serve-DataFrame\" java.net.SocketTimeoutException: Accept timed out\n",
      "\tat java.net.PlainSocketImpl.socketAccept(Native Method)\n",
      "\tat java.net.AbstractPlainSocketImpl.accept(AbstractPlainSocketImpl.java:409)\n",
      "\tat java.net.ServerSocket.implAccept(ServerSocket.java:560)\n",
      "\tat java.net.ServerSocket.accept(ServerSocket.java:528)\n",
      "\tat org.apache.spark.security.SocketAuthServer$$anon$1.run(SocketAuthServer.scala:64)\n"
     ]
    },
    {
     "data": {
      "image/png": "[encoded data removed]",
      "text/plain": [
       "<Figure size 1200x600 with 1 Axes>"
      ]
     },
     "metadata": {},
     "output_type": "display_data"
    }
   ],
   "source": [
    "from pyspark.sql import SparkSession\n",
    "from pyspark.sql.functions import col\n",
    "import matplotlib.pyplot as plt\n",
    "\n",
    "# Create a Spark session\n",
    "spark = SparkSession.builder.appName(\"AvgRatingReviewScatter\").getOrCreate()\n",
    "\n",
    "# Assuming your DataFrame is named 'resulting_reviews2', you can create it like this:\n",
    "# resulting_reviews2 = ...\n",
    "\n",
    "# Extract relevant columns for analysis\n",
    "scatter_df = resulting_reviews2.select(\n",
    "    \"title\",\n",
    "    col(\"average_rating\").cast(\"double\").alias(\"average_rating\"),\n",
    "    col(\"text_reviews_count\").cast(\"double\").alias(\"text_reviews_count\")\n",
    ")\n",
    "\n",
    "# Remove duplicate rows based on the \"title\" column\n",
    "scatter_df = scatter_df.dropDuplicates([\"title\"])\n",
    "\n",
    "# Convert to Pandas DataFrame for visualization\n",
    "pandas_scatter_df = scatter_df.toPandas()\n",
    "\n",
    "# Plot the scatterplot\n",
    "plt.figure(figsize=(12, 6))\n",
    "plt.scatter(pandas_scatter_df[\"average_rating\"], pandas_scatter_df[\"text_reviews_count\"])\n",
    "plt.xlabel(\"Average Rating\")\n",
    "plt.ylabel(\"Number of Reviews\")\n",
    "plt.title(\"Scatterplot of Average Rating vs. Number of Reviews\")\n",
    "plt.grid(True)\n",
    "plt.show()"
   ]
  },
  {
   "cell_type": "code",
   "execution_count": null,
   "id": "e9fdd656-fcfa-4449-984d-b84e11dcc50d",
   "metadata": {},
   "outputs": [],
   "source": [
    "from pyspark.sql import SparkSession\n",
    "from pyspark.sql.functions import col\n",
    "import matplotlib.pyplot as plt\n",
    "\n",
    "# Create a Spark session\n",
    "spark = SparkSession.builder.appName(\"AvgRatingReviewScatter\").getOrCreate()\n",
    "\n",
    "# Assuming your DataFrame is named 'resulting_reviews2', you can create it like this:\n",
    "# resulting_reviews2 = ...\n",
    "\n",
    "# Extract relevant columns for analysis\n",
    "scatter_df = resulting_reviews2.select(\n",
    "    \"title\",\n",
    "    col(\"average_rating\").cast(\"double\").alias(\"average_rating\"),\n",
    "    col(\"text_reviews_count\").cast(\"double\").alias(\"text_reviews_count\")\n",
    ")\n",
    "\n",
    "# Remove duplicate rows based on the \"title\" column\n",
    "scatter_df = scatter_df.dropDuplicates([\"title\"])\n",
    "\n",
    "# Exclude records with 0 average rating and 0 reviews count\n",
    "scatter_df = scatter_df.filter((col(\"average_rating\") > 0) & (col(\"text_reviews_count\") > 0))\n",
    "\n",
    "# Convert to Pandas DataFrame for visualization\n",
    "pandas_scatter_df = scatter_df.toPandas()\n",
    "\n",
    "# Plot the scatterplot\n",
    "plt.figure(figsize=(12, 6))\n",
    "plt.scatter(pandas_scatter_df[\"average_rating\"], pandas_scatter_df[\"text_reviews_count\"])\n",
    "plt.xlabel(\"Average Rating\")\n",
    "plt.ylabel(\"Number of Reviews\")\n",
    "plt.title(\"Scatterplot of Average Rating vs. Number of Reviews (No Duplicates, Exclude 0 Avg Rating)\")\n",
    "plt.grid(True)\n",
    "plt.show()"
   ]
  },
  {
   "cell_type": "code",
   "execution_count": null,
   "id": "e9a96f93-fdd8-46bf-92be-09de2d5a3dba",
   "metadata": {},
   "outputs": [],
   "source": [
    "from pyspark.sql import SparkSession\n",
    "from pyspark.sql.functions import col\n",
    "import matplotlib.pyplot as plt\n",
    "import seaborn as sns\n",
    "\n",
    "# Create a Spark session\n",
    "spark = SparkSession.builder.appName(\"PublisherEbookVisualization\").getOrCreate()\n",
    "\n",
    "# Assuming your DataFrame is named 'resulting_reviews2', you can create it like this:\n",
    "# resulting_reviews2 = ...\n",
    "\n",
    "# Extract relevant columns for analysis\n",
    "publisher_df = resulting_reviews2.select(\"publisher\", \"is_ebook\", \"ratings_count\")\n",
    "\n",
    "# Filter out rows where the book is an ebook and publisher is not null\n",
    "ebook_df = publisher_df.filter(publisher_df.publisher.isNotNull())\n",
    "\n",
    "# Ensure \"ratings_count\" is treated as a numeric column\n",
    "ebook_df = ebook_df.withColumn(\"ratings_count\", ebook_df[\"ratings_count\"].cast(\"double\"))\n",
    "\n",
    "# Group by publisher and sum the ratings_count\n",
    "publisher_ratings = ebook_df.groupBy(\"publisher\").sum(\"ratings_count\").alias(\"total_ratings\")\n",
    "\n",
    "# Order by total_ratings in descending order and select top 20\n",
    "top_20_publisher_ratings = publisher_ratings.orderBy(\"sum(ratings_count)\", ascending=False).limit(20)\n",
    "\n",
    "# Convert to Pandas DataFrame for visualization\n",
    "pandas_df = top_20_publisher_ratings.toPandas()\n",
    "\n",
    "# Exclude the second publisher from the Pandas DataFrame\n",
    "pandas_df = pandas_df.iloc[[0] + list(range(2, pandas_df.shape[0]))]\n",
    "\n",
    "# Use Seaborn for colorful bars\n",
    "plt.figure(figsize=(12, 6))\n",
    "sns.barplot(x=pandas_df[\"publisher\"], y=pandas_df[\"sum(ratings_count)\"], palette=\"viridis\")\n",
    "plt.xlabel(\"Publisher\")\n",
    "plt.ylabel(\"Total Ratings Count\")\n",
    "plt.title(\"Top 20 Most Popular Publishers\")\n",
    "\n",
    "plt.xticks(rotation=45, ha=\"right\")\n",
    "plt.show()"
   ]
  },
  {
   "cell_type": "code",
   "execution_count": null,
   "id": "686ee0d9-885f-47e7-b75e-d5b5f2c04f57",
   "metadata": {},
   "outputs": [],
   "source": [
    "from pyspark.sql import SparkSession\n",
    "from pyspark.sql.functions import col\n",
    "import matplotlib.pyplot as plt\n",
    "import seaborn as sns\n",
    "\n",
    "# Create a Spark session\n",
    "spark = SparkSession.builder.appName(\"ScholasticPressBooks\").getOrCreate()\n",
    "\n",
    "# Assuming your DataFrame is named 'resulting_reviews2', you can create it like this:\n",
    "# resulting_reviews2 = ...\n",
    "\n",
    "# Extract relevant columns for analysis\n",
    "books_df = resulting_reviews2.select(\"title\", \"publisher\", \"ratings_count\", \"text_reviews_count\")\n",
    "\n",
    "# Filter out rows where the publisher is 'Scholastic Press' and both ratings_count and text_reviews_count are not null\n",
    "scholastic_books_df = books_df.filter(\n",
    "    (col(\"publisher\") == \"Scholastic Press\") & \n",
    "    (col(\"ratings_count\").isNotNull()) & \n",
    "    (col(\"text_reviews_count\").isNotNull())\n",
    ")\n",
    "\n",
    "# Ensure \"ratings_count\" and \"text_reviews_count\" are treated as numeric columns\n",
    "scholastic_books_df = scholastic_books_df.withColumn(\"ratings_count\", scholastic_books_df[\"ratings_count\"].cast(\"double\"))\n",
    "scholastic_books_df = scholastic_books_df.withColumn(\"text_reviews_count\", scholastic_books_df[\"text_reviews_count\"].cast(\"double\")).limit(20)\n",
    "\n",
    "# Convert to Pandas DataFrame for visualization\n",
    "pandas_df = scholastic_books_df.toPandas()\n",
    "\n",
    "# Use Seaborn for colorful bars\n",
    "plt.figure(figsize=(12, 6))\n",
    "sns.barplot(x=pandas_df[\"title\"], y=pandas_df[\"ratings_count\"], color=\"blue\", label=\"Ratings Count\")\n",
    "sns.barplot(x=pandas_df[\"title\"], y=pandas_df[\"text_reviews_count\"], color=\"orange\", label=\"Review Count\")\n",
    "plt.xlabel(\"Book Title\")\n",
    "plt.ylabel(\"Count\")\n",
    "plt.title(\"Ratings and Review Count for Scholastic Press Books\")\n",
    "plt.xticks(rotation=45, ha=\"right\")\n",
    "plt.legend()\n",
    "plt.show()"
   ]
  }
 ],
 "metadata": {
  "kernelspec": {
   "display_name": "Python 3",
   "language": "python",
   "name": "python3"
  },
  "language_info": {
   "codemirror_mode": {
    "name": "ipython",
    "version": 3
   },
   "file_extension": ".py",
   "mimetype": "text/x-python",
   "name": "python",
   "nbconvert_exporter": "python",
   "pygments_lexer": "ipython3",
   "version": "3.9.12"
  }
 },
 "nbformat": 4,
 "nbformat_minor": 5
}
